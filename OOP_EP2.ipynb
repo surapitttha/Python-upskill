{
  "nbformat": 4,
  "nbformat_minor": 0,
  "metadata": {
    "colab": {
      "provenance": [],
      "authorship_tag": "ABX9TyPzytakR0WXYF5Xb7gi4Dw/",
      "include_colab_link": true
    },
    "kernelspec": {
      "name": "python3",
      "display_name": "Python 3"
    },
    "language_info": {
      "name": "python"
    }
  },
  "cells": [
    {
      "cell_type": "markdown",
      "metadata": {
        "id": "view-in-github",
        "colab_type": "text"
      },
      "source": [
        "<a href=\"https://colab.research.google.com/github/surapitttha/Python-upskill/blob/main/OOP_EP2.ipynb\" target=\"_parent\"><img src=\"https://colab.research.google.com/assets/colab-badge.svg\" alt=\"Open In Colab\"/></a>"
      ]
    },
    {
      "cell_type": "markdown",
      "source": [
        "คลาส:\n",
        "\n",
        "Item:\n",
        "\n",
        "คุณสมบัติ:\n",
        "name (สตริง): ชื่อของไอเท็ม\n",
        "description (สตริง): คำอธิบายสั้นๆ ของไอเท็ม\n",
        "value (จำนวนเต็ม): มูลค่าของไอเท็ม\n",
        "quantity (จำนวนเต็ม): จำนวนไอเท็มในคลังสินค้าของผู้เล่น\n",
        "เมธอด:\n",
        "__str__(): ส่งคืนสตริงที่แสดงข้อมูลของไอเท็ม\n",
        "Inventory:\n",
        "\n",
        "คุณสมบัติ:\n",
        "items (รายการ): รายการวัตถุ Item ที่แสดงถึงคลังสินค้าของผู้เล่น\n",
        "เมธอด:\n",
        "add_item(item, quantity): เพิ่มไอเท็มที่ระบุลงในคลังสินค้า เพิ่มจำนวนตามจำนวนที่กำหนด\n",
        "remove_item(item, quantity): ลบไอเท็มที่ระบุออกจากคลังสินค้า ลดจำนวนตามจำนวนที่กำหนด\n",
        "get_item_quantity(item): ส่งคืนจำนวนไอเท็มที่ระบุในคลังสินค้า\n",
        "get_total_value(): คำนวณและส่งคืนมูลค่าทั้งหมดของไอเท็มในคลังสินค้า\n",
        "__str__(): ส่งคืนสตริงที่แสดงเนื้อหาของคลังสินค้า"
      ],
      "metadata": {
        "id": "q2aZqHF4Mim7"
      }
    },
    {
      "cell_type": "code",
      "execution_count": 6,
      "metadata": {
        "id": "vzFWNre5MRy1"
      },
      "outputs": [],
      "source": [
        "class Item :\n",
        "\n",
        "  def __init__(self,name,desciption,value,quantity):\n",
        "\n",
        "    self.name = name\n",
        "    self.desciption = desciption\n",
        "    self.value = value\n",
        "    self.quantity = quantity\n",
        "\n",
        "  def __str__(self):\n",
        "    return f'name : {self.name} ,value : {self.value} quantity : {self.quantity} \\n desciption : {self.desciption}'\n",
        "\n",
        "\n",
        "class Inventory :\n",
        "\n",
        "  def __init__(self,item):\n",
        "    self.inventory = []\n",
        "    self.inventory.append(item)\n",
        "\n",
        "  def get_item_quantity(item):\n",
        "    print(item.quantity)\n",
        "\n"
      ]
    },
    {
      "cell_type": "code",
      "source": [
        "potion = Item(\"Health Potion\", \"Restores health.\", 50, 2)\n",
        "sword = Item(\"Iron Sword\", \"A basic sword.\", 200, 1)\n",
        "shield = Item(\"Wooden Shield\", \"Provides basic defense.\", 100, 1)\n",
        "print(potion)\n",
        "print(sword)\n",
        "print(shield)"
      ],
      "metadata": {
        "colab": {
          "base_uri": "https://localhost:8080/"
        },
        "id": "DMT9Imq0NaMQ",
        "outputId": "ba1a5739-4399-4abb-9e66-6844bb9f425c"
      },
      "execution_count": 7,
      "outputs": [
        {
          "output_type": "stream",
          "name": "stdout",
          "text": [
            "name : Health Potion ,value : 50 quantity : 2 \n",
            " desciption : Restores health.\n",
            "name : Iron Sword ,value : 200 quantity : 1 \n",
            " desciption : A basic sword.\n",
            "name : Wooden Shield ,value : 100 quantity : 1 \n",
            " desciption : Provides basic defense.\n"
          ]
        }
      ]
    },
    {
      "cell_type": "code",
      "source": [
        "\n",
        "inventory = Inventory()\n",
        "\n",
        "inventory.add_item(potion, 2)\n",
        "inventory.add_item(sword, 1)\n",
        "inventory.add_item(shield, 1)\n",
        "\n",
        "print(inventory)\n",
        "\n",
        "inventory.remove_item(potion, 1)\n",
        "\n",
        "potion_quantity = inventory.get_item_quantity(potion)\n",
        "print(f\"You have {potion_quantity} Health Potions left.\")\n",
        "\n",
        "total_value = inventory.get_total_value()\n",
        "print(f\"The total value of your inventory is {total_value} gold.\")"
      ],
      "metadata": {
        "id": "kLQcC6UqONiQ"
      },
      "execution_count": null,
      "outputs": []
    }
  ]
}