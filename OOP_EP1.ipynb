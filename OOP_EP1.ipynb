{
  "nbformat": 4,
  "nbformat_minor": 0,
  "metadata": {
    "colab": {
      "provenance": [],
      "authorship_tag": "ABX9TyO/ssn76VQG+N4vbTRhhgQr",
      "include_colab_link": true
    },
    "kernelspec": {
      "name": "python3",
      "display_name": "Python 3"
    },
    "language_info": {
      "name": "python"
    }
  },
  "cells": [
    {
      "cell_type": "markdown",
      "metadata": {
        "id": "view-in-github",
        "colab_type": "text"
      },
      "source": [
        "<a href=\"https://colab.research.google.com/github/surapitttha/Python-upskill/blob/main/OOP_EP1.ipynb\" target=\"_parent\"><img src=\"https://colab.research.google.com/assets/colab-badge.svg\" alt=\"Open In Colab\"/></a>"
      ]
    },
    {
      "cell_type": "markdown",
      "source": [
        "## โจทย์ฝึกสร้างโปรแกรม OOP Python\n",
        "\n",
        "**โจทย์ 1: สร้างคลาสสำหรับสัตว์เลี้ยง**\n",
        "\n",
        "สร้างคลาส `Pet` ที่มีคุณสมบัติ ดังนี้:\n",
        "\n",
        "* `name`: ชื่อของสัตว์เลี้ยง (สตริง)\n",
        "* `age`: อายุของสัตว์เลี้ยง (จำนวนเต็ม)\n",
        "* `species`: ชนิดของสัตว์เลี้ยง (สตริง)\n",
        "\n",
        "คลาส `Pet` ควรมีเมธอดดังต่อไปนี้:\n",
        "\n",
        "* `make_sound()`: พิมพ์เสียงร้องของสัตว์เลี้ยง\n",
        "* `get_age()`: คืนค่าอายุของสัตว์เลี้ยง\n",
        "* `get_species()`: คืนค่าชนิดของสัตว์เลี้ยง\n",
        "\n",
        "สร้างวัตถุ `Pet` สองสามตัว ตัวอย่างเช่น:\n",
        "\n",
        "* สุนัขชื่อ \"เจ้าทอง\" อายุ 5 ปี\n",
        "* แมวชื่อ \"เหมียว\" อายุ 2 ปี\n",
        "* นกชื่อ \"กระจอกเทศ\" อายุ 10 ปี\n",
        "\n",
        "พิมพ์เสียงร้องของสัตว์เลี้ยงแต่ละตัว  \n",
        "\n",
        "**โจทย์ 2: สร้างคลาสสำหรับบัญชีธนาคาร**\n",
        "\n",
        "สร้างคลาส `BankAccount` ที่มีคุณสมบัติ ดังนี้:\n",
        "\n",
        "* `account_number`: หมายเลขบัญชี (สตริง)\n",
        "* `owner`: ชื่อผู้ถือบัญชี (สตริง)\n",
        "* `balance`: ยอดเงินคงเหลือ (จำนวนเงินทศนิยม)\n",
        "\n",
        "คลาส `BankAccount` ควรมีเมธอดดังต่อไปนี้:\n",
        "\n",
        "* `deposit(amount)`: ฝากเงินเข้าบัญชี (เพิ่มจำนวนเงิน `amount` กับ `balance`)\n",
        "* `withdraw(amount)`: ถอนเงินออกจากบัญชี (ลดจำนวนเงิน `amount` จาก `balance`)\n",
        "* `get_balance()`: คืนค่า `balance` ของบัญชี\n",
        "\n",
        "สร้างวัตถุ `BankAccount` สองสามตัว ตัวอย่างเช่น:\n",
        "\n",
        "* บัญชีชื่อ \"นายสมชาย\" หมายเลขบัญชี \"123456789\" ยอดเงินคงเหลือ 1000 บาท\n",
        "* บัญชีชื่อ \"นางสาวสมหญิง\" หมายเลขบัญชี \"987654321\" ยอดเงินคงเหลือ 5000 บาท\n",
        "\n",
        "ฝากเงิน 500 บาท และถอนเงิน 200 บาท จากบัญชี \"นายสมชาย\"  \n",
        "\n",
        "พิมพ์ยอดเงินคงเหลือของบัญชี \"นางสาวสมหญิง\"  \n",
        "\n",
        "**โจทย์ 3: สร้างระบบร้านขายของ**\n",
        "\n",
        "สร้างคลาส `Product` ที่มีคุณสมบัติ ดังนี้:\n",
        "\n",
        "* `name`: ชื่อสินค้า (สตริง)\n",
        "* `price`: ราคาสินค้า (จำนวนเงินทศนิยม)\n",
        "* `quantity`: จำนวนสินค้าคงคลัง (จำนวนเต็ม)\n",
        "\n",
        "คลาส `Product` ควรมีเมธอดดังต่อไปนี้:\n",
        "\n",
        "* `reduce_stock(amount)`: ลดจำนวนสินค้าคงคลัง (ลดจำนวนเงิน `amount` จาก `quantity`)\n",
        "\n",
        "สร้างคลาส `ShoppingCart` ที่มีคุณสมบัติ ดังนี้:\n",
        "\n",
        "* `items`: รายการสินค้าในตะกร้า (รายการของวัตถุ `Product`)\n",
        "\n",
        "คลาส `ShoppingCart` ควรมีเมธอดดังต่อไปนี้:\n",
        "\n",
        "* `add_product(product)`: เพิ่มสินค้าลงในตะกร้า\n",
        "* `remove_product(product)`: ลบสินค้าออกจากตะกร้า\n",
        "* `get_total_price()`: คืนค่าราคาสินค้ารวมในตะกร้า\n",
        "\n",
        "สร้างวัตถุ `Product` สองสามตัว ตัวอย่างเช่น:\n",
        "\n",
        "* สินค้าชื่อ \"นม\" ราคา 20 บาท จำนวนสินค้าคงคลัง 10 ชิ้น\n",
        "* สินค้าชื่อ \"ขนมปัง\" ราคา 15 บาท จำนวนสินค้าคงคลัง 5 ชิ้น\n",
        "* สินค้าชื่อ \"ไข่ไก่\" ราคา 10 บาท จำนวนสินค้าคงคลัง 20 ชิ้น\n",
        "\n",
        "สร้างวัตถุ `ShoppingCart`  \n",
        "\n",
        "เพิ่มสินค้า \"นม\" 2 ชิ้น และสินค้า \"ไข่ไก่\" 3 ชิ้น ลงในตะกร้า  \n",
        "\n",
        "ลบสินค้า \"ขนมปัง\" 1 ชิ้น ออกจากตะกร้า  \n",
        "\n",
        "พิมพ์ราคาสินค้ารวมในตะกร้า  \n",
        "\n",
        "**หมายเหตุ:**\n",
        "\n",
        "* คุณสามารถปรับแต่งโจทย์เหล่านี้เพิ่มเติมได้ตามต้องการ\n",
        "* คุณสามารถเพิ่มคุณสมบัติ เมธอด และพฤติกรรมอื่นๆ ลงในคลาสของคุณ\n",
        "* คุณสามารถลองใช้ไลบราร"
      ],
      "metadata": {
        "id": "Wp7tZBB03iXx"
      }
    },
    {
      "cell_type": "code",
      "execution_count": 14,
      "metadata": {
        "id": "hMsJIoRd3OH_"
      },
      "outputs": [],
      "source": [
        "class Pet :\n",
        "  def __init__(self,name,age,species):\n",
        "    self.name = name\n",
        "    self.age = age\n",
        "    self.species = species\n",
        "\n",
        "  #method\n",
        "  def make_sound(self):\n",
        "    if self.species == 'หมา' :\n",
        "      print('ห๊องๆๆๆ')\n",
        "    if self.species == 'แมว' :\n",
        "      print('เหมี็ยว')\n",
        "    if self.species == 'นก' :\n",
        "      print('จิ๊บๆๆ')\n",
        "\n",
        "  def get_age(self):\n",
        "    return self.age\n",
        "\n",
        "  def get_species(self):\n",
        "    return self.species\n",
        "\n"
      ]
    },
    {
      "cell_type": "code",
      "source": [
        "gold = Pet('เจ้าทอง',5,'หมา')\n",
        "meow = Pet('เหมียว',2,'แมว')\n",
        "bird = Pet('นกกระจอกเทศ',10,'นก')"
      ],
      "metadata": {
        "id": "0AcCFuJo5RxH"
      },
      "execution_count": 15,
      "outputs": []
    },
    {
      "cell_type": "code",
      "source": [
        "print(gold.get_age())\n",
        "print(meow.get_age())\n",
        "print(bird.get_age())"
      ],
      "metadata": {
        "colab": {
          "base_uri": "https://localhost:8080/"
        },
        "id": "G3RLcwe85DCp",
        "outputId": "fde4160d-0198-4fcc-8829-5c0721fc0e79"
      },
      "execution_count": 13,
      "outputs": [
        {
          "output_type": "stream",
          "name": "stdout",
          "text": [
            "<bound method Pet.get_age of <__main__.Pet object at 0x7eef365dbeb0>>\n",
            "<bound method Pet.get_age of <__main__.Pet object at 0x7eef365db190>>\n",
            "<bound method Pet.get_age of <__main__.Pet object at 0x7eef365da9e0>>\n"
          ]
        }
      ]
    },
    {
      "cell_type": "code",
      "source": [
        "print(gold.get_species())\n",
        "print(meow.get_species())\n",
        "print(bird.get_species())"
      ],
      "metadata": {
        "colab": {
          "base_uri": "https://localhost:8080/"
        },
        "id": "_cEDAZj96RYZ",
        "outputId": "44b735c6-d7ca-4abc-b193-2dec1d9d41bd"
      },
      "execution_count": 12,
      "outputs": [
        {
          "output_type": "stream",
          "name": "stdout",
          "text": [
            "หมา\n",
            "แมว\n",
            "นก\n"
          ]
        }
      ]
    },
    {
      "cell_type": "code",
      "source": [
        "gold.make_sound()"
      ],
      "metadata": {
        "colab": {
          "base_uri": "https://localhost:8080/"
        },
        "id": "pz6J6H8p64wQ",
        "outputId": "32853f17-4c67-4e25-85a7-a430079216e0"
      },
      "execution_count": 16,
      "outputs": [
        {
          "output_type": "stream",
          "name": "stdout",
          "text": [
            "ห๊องๆๆๆ\n"
          ]
        }
      ]
    },
    {
      "cell_type": "code",
      "source": [
        "meow.make_sound()"
      ],
      "metadata": {
        "colab": {
          "base_uri": "https://localhost:8080/"
        },
        "id": "bBWCme_T64NB",
        "outputId": "681b82da-013c-4d04-81e5-8ec1867a49d8"
      },
      "execution_count": 17,
      "outputs": [
        {
          "output_type": "stream",
          "name": "stdout",
          "text": [
            "เหมี็ยว\n"
          ]
        }
      ]
    },
    {
      "cell_type": "code",
      "source": [
        "bird.make_sound()"
      ],
      "metadata": {
        "colab": {
          "base_uri": "https://localhost:8080/"
        },
        "id": "4PDb0yxJ8K0G",
        "outputId": "d7be1162-0692-4074-ea72-35a289935baf"
      },
      "execution_count": 18,
      "outputs": [
        {
          "output_type": "stream",
          "name": "stdout",
          "text": [
            "จิ๊บๆๆ\n"
          ]
        }
      ]
    },
    {
      "cell_type": "markdown",
      "source": [
        "#โจทย์ 2: สร้างคลาสสำหรับบัญชีธนาคาร"
      ],
      "metadata": {
        "id": "O5oNtsR88gxO"
      }
    },
    {
      "cell_type": "code",
      "source": [
        "class BankAccount ():\n",
        "\n",
        "  def __init__(self,owner,account_number,balance = 0.00):\n",
        "    self.acc_num = account_number\n",
        "    self.owner = owner\n",
        "    self.balance = balance\n",
        "#method\n",
        "  def deposit(self,amount):\n",
        "\n",
        "    self.balance += amount\n",
        "\n",
        "  def withdraw(self,amount):\n",
        "\n",
        "    self.balance -= amount\n",
        "\n",
        "  def get_balance(self) :\n",
        "\n",
        "    return self.balance\n"
      ],
      "metadata": {
        "id": "dAI1zFjg8gAI"
      },
      "execution_count": 33,
      "outputs": []
    },
    {
      "cell_type": "code",
      "source": [
        "B1 = BankAccount('นายสมชาย','123456789',1000 )\n",
        "B2 = BankAccount(\"นางสาวสมหญิง\",'987654321',5000  )"
      ],
      "metadata": {
        "id": "_24mceeW98Sv"
      },
      "execution_count": 34,
      "outputs": []
    },
    {
      "cell_type": "code",
      "source": [
        "print(B1.get_balance())\n",
        "B1.deposit(500)\n",
        "print(B1.get_balance())\n",
        "B1.withdraw(200)\n",
        "print(B1.owner,B1.get_balance())\n",
        "print(B2.owner,B2.get_balance())"
      ],
      "metadata": {
        "colab": {
          "base_uri": "https://localhost:8080/"
        },
        "id": "6x4LCHPu-Yw0",
        "outputId": "bcb715ce-449d-475c-b422-9495fc9a9490"
      },
      "execution_count": 35,
      "outputs": [
        {
          "output_type": "stream",
          "name": "stdout",
          "text": [
            "1000\n",
            "1500\n",
            "นายสมชาย 1300\n",
            "นางสาวสมหญิง 5000\n"
          ]
        }
      ]
    },
    {
      "cell_type": "markdown",
      "source": [
        "# โจทย์ 3: สร้างระบบร้านขายของ"
      ],
      "metadata": {
        "id": "jWVgwoW8_di-"
      }
    },
    {
      "cell_type": "code",
      "source": [
        "class Product:\n",
        "    def __init__(self, name, price, quantity):\n",
        "        self.name = name\n",
        "        self.price = price\n",
        "        self.quantity = quantity\n",
        "\n",
        "    def reduce_stock(self, amount):\n",
        "        if amount > self.quantity:\n",
        "            raise ValueError(\"Insufficient stock to reduce. Requested amount exceeds available quantity.\")\n",
        "        self.quantity -= amount\n",
        "\n",
        "    def __str__(self):\n",
        "        return f\"Name: {self.name}, Price: {self.price:.2f}, Quantity: {self.quantity}\"  # Improved formatting\n",
        "\n",
        "class ShoppingCart:\n",
        "    def __init__(self):\n",
        "        self.items = []\n",
        "\n",
        "    def add_product(self, product):\n",
        "        self.items.append(product)\n",
        "\n",
        "    def remove_product(self, product):\n",
        "        self.items.remove(product)\n",
        "\n",
        "    def get_total_price(self):\n",
        "        total = 0\n",
        "        for item in self.items:  # Use 'item' for clarity\n",
        "            total += item.price * item.quantity\n",
        "        return total\n"
      ],
      "metadata": {
        "id": "6IltcjlO-oEv"
      },
      "execution_count": 55,
      "outputs": []
    },
    {
      "cell_type": "code",
      "source": [
        "mew = Product('นม',20,10)\n",
        "bread = Product('ขนมปัง',15,5)\n",
        "egg = Product(\"ไข่ไก่\",10,20)"
      ],
      "metadata": {
        "id": "TgAv0eTQDQJB"
      },
      "execution_count": 56,
      "outputs": []
    },
    {
      "cell_type": "code",
      "source": [
        "shop = ShoppingCart()\n",
        "shop.add_product(Product('นม',20,2))\n",
        "shop.add_product(Product(\"ไข่ไก่\",10,3))\n",
        "shop.add_product(Product('ขนมปัง',15,2))\n",
        "mew.quantity -= 2\n",
        "bread.quantity -=2\n",
        "egg.quantity -=3\n",
        "shop.get_total_price()"
      ],
      "metadata": {
        "colab": {
          "base_uri": "https://localhost:8080/"
        },
        "id": "zjNv2DHOECT2",
        "outputId": "0d8ea38f-0be6-4a1e-97c3-c1b1620f6842"
      },
      "execution_count": 58,
      "outputs": [
        {
          "output_type": "execute_result",
          "data": {
            "text/plain": [
              "100"
            ]
          },
          "metadata": {},
          "execution_count": 58
        }
      ]
    },
    {
      "cell_type": "code",
      "source": [
        "print(mew)\n",
        "print(bread)\n",
        "print(egg)"
      ],
      "metadata": {
        "colab": {
          "base_uri": "https://localhost:8080/"
        },
        "id": "cRTVAZv3GElU",
        "outputId": "bed3b53b-2831-4bdf-b273-e0ec113b56de"
      },
      "execution_count": 59,
      "outputs": [
        {
          "output_type": "stream",
          "name": "stdout",
          "text": [
            "Name: นม, Price: 20.00, Quantity: 8\n",
            "Name: ขนมปัง, Price: 15.00, Quantity: 3\n",
            "Name: ไข่ไก่, Price: 10.00, Quantity: 17\n"
          ]
        }
      ]
    },
    {
      "cell_type": "code",
      "source": [],
      "metadata": {
        "id": "30gTKv1PGawX"
      },
      "execution_count": null,
      "outputs": []
    }
  ]
}