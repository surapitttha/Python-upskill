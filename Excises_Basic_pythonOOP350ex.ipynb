{
 "cells": [
  {
   "cell_type": "markdown",
   "id": "a260c45f-18b0-4bb9-a065-bebf0667f14a",
   "metadata": {},
   "source": [
    "Print Functon()\n"
   ]
  },
  {
   "cell_type": "markdown",
   "id": "fa890b58-932d-4565-8bed-19cd1a6db49b",
   "metadata": {},
   "source": [
    "Exercise 1\n",
    "ใช้ฟังก์ชันพิมพ์สตริง: ไปยังคอนโซล print() 'Learn Python!'"
   ]
  },
  {
   "cell_type": "code",
   "execution_count": 1,
   "id": "27d5f669-912d-4a76-aad1-86e2f9ab4a2c",
   "metadata": {},
   "outputs": [
    {
     "name": "stdout",
     "output_type": "stream",
     "text": [
      "Learn Python!\n"
     ]
    }
   ],
   "source": [
    "print('Learn Python!')"
   ]
  },
  {
   "cell_type": "markdown",
   "id": "aa387db9-040e-4673-b217-bdf869db3acc",
   "metadata": {},
   "source": [
    "Exercise 2\n",
    "กําหนดหมายเลขอายุตัวแปร 20 การใช้ตัวแปรอายุและฟังก์ชันจะพิมพ์ข้อความต่อไปนี้ไปยังคอนโซล : print()\n",
    "output :\n",
    "I am 20 years old."
   ]
  },
  {
   "cell_type": "code",
   "execution_count": 2,
   "id": "74e4ff5e-cea8-4b53-a381-483a5989bc84",
   "metadata": {},
   "outputs": [
    {
     "name": "stdout",
     "output_type": "stream",
     "text": [
      "I am 20 years old.\n"
     ]
    }
   ],
   "source": [
    "age = int(20)\n",
    "print('I am', age ,'years old.')"
   ]
  },
  {
   "cell_type": "markdown",
   "id": "27ffad12-8a21-4354-b04b-0f3a182e8fb8",
   "metadata": {},
   "source": [
    "Exercise 3\n",
    "สร้างตัวแปรสองตัว (คุณสามารถเลือกชื่อได้อย่างอิสระ) และกําหนดค่าต่อไปนี้:\n",
    "\n",
    "'Python'\n",
    "\n",
    "'3.8'\n",
    "\n",
    "ใช้ตัวแปรเหล่านี้และฟังก์ชันพิมพ์ข้อความต่อไปนี้ไปยังคอนโซล:print()\n",
    "output:\n",
    " I am learning Python version 3.8\n"
   ]
  },
  {
   "cell_type": "code",
   "execution_count": 3,
   "id": "65a59891-66be-4ecb-9298-759a6dd70216",
   "metadata": {},
   "outputs": [
    {
     "name": "stdout",
     "output_type": "stream",
     "text": [
      "I am learning Python version 3.8\n"
     ]
    }
   ],
   "source": [
    "version = '3.8'\n",
    "LG = 'Python'\n",
    "\n",
    "print(f'I am learning {LG} version {version}')"
   ]
  },
  {
   "cell_type": "markdown",
   "id": "766f25a8-bb84-4dce-923b-d1c30bd0cc2d",
   "metadata": {},
   "source": [
    "Exercise 4\n",
    "กําหนด 199.99 ให้กับตัวแปรราคาและตรวจสอบโซลูชัน\n",
    "output :\n",
    "This costs 199.99\n",
    "    "
   ]
  },
  {
   "cell_type": "code",
   "execution_count": 4,
   "id": "3a4ca7d0-b6d3-47b7-a937-becc1aa9c020",
   "metadata": {},
   "outputs": [
    {
     "name": "stdout",
     "output_type": "stream",
     "text": [
      "This costs 199.99\n"
     ]
    }
   ],
   "source": [
    "price = 199.99\n",
    "print('This costs', price)"
   ]
  },
  {
   "cell_type": "markdown",
   "id": "cb862099-c2b7-4ec4-a8d1-bd63c4361a24",
   "metadata": {},
   "source": [
    "Exercise 5\n",
    "กําหนด 69.99 ให้กับตัวแปรราคาและตรวจสอบโซลูชัน\n",
    "output :\n",
    "This costs 69.99\n",
    "\n"
   ]
  },
  {
   "cell_type": "code",
   "execution_count": 5,
   "id": "d689121b-492c-4fb1-9237-94df69ebc5bd",
   "metadata": {},
   "outputs": [
    {
     "name": "stdout",
     "output_type": "stream",
     "text": [
      "This costs 69.99\n"
     ]
    }
   ],
   "source": [
    "price = 69.99\n",
    "print(f'This costs {price}')"
   ]
  },
  {
   "cell_type": "markdown",
   "id": "b405e619-db47-444a-b53d-b89256527db0",
   "metadata": {},
   "source": [
    "Exercise 6\n",
    "กําหนดตัวแปรสองตัวที่เก็บค่าต่อไปนี้:\n",
    "\n",
    "$ 34.99 - ราคาสินค้า (ลอยตัว)\n",
    "\n",
    "20 ปอนด์ - น้ําหนักผลิตภัณฑ์ (INT)\n",
    "\n",
    "\n",
    "\n",
    "การใช้การพิมพ์สไตล์การจัดรูปแบบ f-string ไปยังคอนโซลข้อความต่อไปนี้:\n",
    "Price: $34.99. Weight: 20 lbs."
   ]
  },
  {
   "cell_type": "code",
   "execution_count": 6,
   "id": "d57d8a67-df14-4df8-8900-8a5cc17d74bb",
   "metadata": {},
   "outputs": [
    {
     "name": "stdout",
     "output_type": "stream",
     "text": [
      "Price: $34.99. Weight: 20 lbs.\n"
     ]
    }
   ],
   "source": [
    "price = float(34.99)\n",
    "weight = 20\n",
    "\n",
    "\n",
    "\n",
    " \n",
    "print(f'Price: ${price}. Weight: {weight} lbs.')"
   ]
  },
  {
   "cell_type": "markdown",
   "id": "f946fd43-4e8f-4eb3-8e71-326aca5140ad",
   "metadata": {},
   "source": [
    "Exercise 7\n",
    "ด้านล่างนี้เป็นค่าประมาณของ pi:\n",
    "\n",
    "\n",
    "\n",
    "pi = 3.1415926535\n",
    "\n",
    "\n",
    "ใช้การจัดรูปแบบ f-string พิมพ์ค่าประมาณของ pi เป็นทศนิยมสองตําแหน่งดังที่แสดงด้านล่าง\n",
    "\n",
    "\n",
    "\n",
    "ผลลัพธ์ที่คาดหวัง:\n",
    "Pi: 3.14"
   ]
  },
  {
   "cell_type": "code",
   "execution_count": 7,
   "id": "bd4045c5-5203-4bd5-86be-174967d1f4a3",
   "metadata": {},
   "outputs": [
    {
     "name": "stdout",
     "output_type": "stream",
     "text": [
      "Pi: 3.14\n"
     ]
    }
   ],
   "source": [
    "pi = 3.1415926535\n",
    "print(f'Pi: {pi:.2f}')"
   ]
  },
  {
   "cell_type": "markdown",
   "id": "6a497516-ac36-4412-8d2f-7c693ff2b240",
   "metadata": {},
   "source": [
    "Exercise 8\n",
    "การใช้ฟังก์ชันสามฟังก์ชัน (หนึ่งบรรทัด - หนึ่งฟังก์ชัน) จะพิมพ์ข้อความต่อไปนี้:print()\n",
    "\n",
    "\n",
    "\n",
    "----------------------------------------\n",
    "VERSION: 1.0.1\n",
    "----------------------------------------\n",
    "\n",
    "\n",
    "tip: เส้นแบ่งประกอบด้วยอักขระเส้นประ 40 ตัว: .'-'"
   ]
  },
  {
   "cell_type": "code",
   "execution_count": 8,
   "id": "5cc83570-6f0c-45d7-a454-04ebd9ad4321",
   "metadata": {},
   "outputs": [
    {
     "name": "stdout",
     "output_type": "stream",
     "text": [
      "----------------------------------------\n",
      "VERSION: 1.0.1\n",
      "----------------------------------------\n"
     ]
    }
   ],
   "source": [
    "print('----------------------------------------')\n",
    "print('VERSION: 1.0.1')\n",
    "print('----------------------------------------')"
   ]
  },
  {
   "cell_type": "markdown",
   "id": "8231e8df-61f4-45bd-84df-7c22de257b5b",
   "metadata": {},
   "source": [
    "Exercise 9\n",
    "การใช้ฟังก์ชันสี่ (หนึ่งบรรทัด - หนึ่งฟังก์ชัน) จะพิมพ์ข้อความต่อไปนี้:print()\n",
    "\n",
    "========================================\n",
    "author: johnsmith@sample.com\n",
    "date: 01-01-2021\n",
    "========================================\n",
    "\n",
    "\n",
    "Tip: The lines consist of 40 equal signs: '='.\n",
    "\n"
   ]
  },
  {
   "cell_type": "code",
   "execution_count": 9,
   "id": "52e87a0a-0121-41f2-b9c4-e8efc285ea31",
   "metadata": {},
   "outputs": [
    {
     "name": "stdout",
     "output_type": "stream",
     "text": [
      "========================================\n",
      "author: johnsmith@sample.com\n",
      "date: 01-01-2021\n",
      "========================================\n"
     ]
    }
   ],
   "source": [
    "print('========================================')\n",
    "print('author: johnsmith@sample.com\\ndate: 01-01-2021')\n",
    "print('========================================')"
   ]
  },
  {
   "cell_type": "markdown",
   "id": "63d60212-51dd-4ba9-bc65-2a11604523e8",
   "metadata": {},
   "source": [
    "Exercise 10\n",
    "Using the print() function and the sep argument set to '#' print \n",
    "the following text:\n",
    "'summer#time#holiday'\n"
   ]
  },
  {
   "cell_type": "code",
   "execution_count": 10,
   "id": "6bf63dac-3b96-42ca-99ec-a02a8f9ddf94",
   "metadata": {},
   "outputs": [
    {
     "name": "stdout",
     "output_type": "stream",
     "text": [
      "summer#time#holiday\n"
     ]
    }
   ],
   "source": [
    "a = str('summer#time#holiday')\n",
    "print(f'{a}')"
   ]
  },
  {
   "cell_type": "markdown",
   "id": "f3ac8625-11eb-49f7-a92c-d3b4fb78cc82",
   "metadata": {},
   "source": [
    "Calculation in Python\n"
   ]
  },
  {
   "cell_type": "markdown",
   "id": "97de440a-dd53-4c2c-b324-7c5ac2eb8afe",
   "metadata": {},
   "source": [
    "Exercise 11\n",
    "เขียนโปรแกรมที่คํานวณพื้นที่ของวงกลมด้วยรัศมี = 5 ใช้ค่าโดยประมาณของ pi:\n",
    "\n",
    "\n",
    "\n",
    "pi = 3.14\n",
    "\n",
    "\n",
    "พิมพ์ผลลัพธ์ไปยังคอนโซลดังที่แสดงด้านล่าง:\n",
    "Area: 78.5\n"
   ]
  },
  {
   "cell_type": "code",
   "execution_count": 11,
   "id": "070b0df1-900f-4386-9571-d78893a49e33",
   "metadata": {},
   "outputs": [
    {
     "name": "stdout",
     "output_type": "stream",
     "text": [
      "Area: 78.5\n"
     ]
    }
   ],
   "source": [
    "radius = 5\n",
    "pi = 3.14\n",
    "result = (radius**2)*pi\n",
    "print(f'Area: {result}')"
   ]
  },
  {
   "cell_type": "markdown",
   "id": "32789025-9f3f-4249-970a-48ae930401d8",
   "metadata": {},
   "source": [
    "Exercise 12\n",
    "เขียนโปรแกรมที่คํานวณมูลค่าในอนาคต 1000,3 USD ด้วยอัตราดอกเบี้ยรายปี 5% มูลค่าหลักทรัพย์รายปีและระยะเวลาการลงทุน <> ปี ปัดเศษผลลัพธ์เป็นเซ็นต์ที่ใกล้ที่สุด\n",
    "\n",
    "\n",
    "\n",
    "ปลาย: ใช้ตัวพิมพ์ใหญ่ทบต้นของดอกเบี้ย\n",
    "\n",
    "\n",
    "\n",
    "พิมพ์ผลลัพธ์ไปยังคอนโซลดังที่แสดงด้านล่าง:\n",
    "The future value of the investment: 1159.27 USD\n",
    "\n"
   ]
  },
  {
   "cell_type": "code",
   "execution_count": 12,
   "id": "81cd22d3-45bc-47cb-abb2-93ffbc033031",
   "metadata": {},
   "outputs": [
    {
     "name": "stdout",
     "output_type": "stream",
     "text": [
      "The future value of the investment: 1159.27 USD\n"
     ]
    }
   ],
   "source": [
    "USD = 1000\n",
    "for i in range(0,5):\n",
    "    USD = USD + USD*0.03\n",
    "\n",
    "print(f'The future value of the investment: {USD:.2f} USD')"
   ]
  },
  {
   "cell_type": "markdown",
   "id": "3fd53d4a-4103-4b70-9268-c61516fe4978",
   "metadata": {},
   "source": [
    "Exercise 13\n",
    "ขียนโปรแกรมที่คํานวณเดลต้าสําหรับสมการกําลังสอง:\n",
    "\n",
    " 3x^2-4x+1=0\n",
    "\n",
    "พิมพ์ผลลัพธ์ไปยังคอนโซลดังที่แสดงด้านล่าง:\n",
    "Delta: 4"
   ]
  },
  {
   "cell_type": "code",
   "execution_count": 13,
   "id": "5bd7c5f8-eae6-4207-8be5-2f35388a870c",
   "metadata": {},
   "outputs": [
    {
     "name": "stdout",
     "output_type": "stream",
     "text": [
      "Delta: 4\n"
     ]
    }
   ],
   "source": [
    "a = 3\n",
    "b = -4\n",
    "c = 1\n",
    "Delta = b**2 -4*a*c\n",
    "print(f'Delta: {Delta}')"
   ]
  },
  {
   "cell_type": "markdown",
   "id": "f7e3e550-3e79-499a-a438-b5d0b2402caa",
   "metadata": {},
   "source": [
    "Exercise 14\n",
    "ลําดับเลขคณิตจะได้รับด้วยสูตรต่อไปนี้:\n",
    "\n",
    "A(n) = 10 +4n\n",
    "\n",
    "คํานวณผลรวมขององค์ประกอบสิบแรกของลําดับนี้ พิมพ์ผลลัพธ์ไปยังคอนโซลดังที่แสดงด้านล่าง. :\n",
    "The sum of the first 10 elements in a sequence: 320.0"
   ]
  },
  {
   "cell_type": "code",
   "execution_count": 14,
   "id": "b00c797e-26d7-49b8-a9d0-0a836cd92de8",
   "metadata": {},
   "outputs": [
    {
     "name": "stdout",
     "output_type": "stream",
     "text": [
      "The sum of the first 10 elements in a sequence: 320.0\n"
     ]
    }
   ],
   "source": [
    "n = 10\n",
    "Sum = 10*n +4*0.5*n*(n+1)\n",
    "\n",
    "print(f'The sum of the first 10 elements in a sequence: {Sum:.1f}')"
   ]
  },
  {
   "cell_type": "markdown",
   "id": "ba604527-94b1-4cc7-9ce7-c9339da23e90",
   "metadata": {},
   "source": [
    "Exercise 15\n",
    "ลําดับทางเรขาคณิตจะได้รับด้วยสูตรต่อไปนี้:\n",
    "\n",
    "A(n) = 8*2^(n-1)\n",
    "\n",
    "คํานวณผลรวมขององค์ประกอบหกข้อแรกของลําดับนี้ พิมพ์ผลลัพธ์ไปยังคอนโซลดังที่แสดงด้านล่าง\n",
    "\n",
    "\n",
    "\n",
    "ผลลัพธ์ที่คาดหวัง:\n",
    "The sum of the first 6 elements of the sequence is: 504.0"
   ]
  },
  {
   "cell_type": "code",
   "execution_count": 15,
   "id": "7e3c6014-be13-4340-b20c-bbf770a8c837",
   "metadata": {},
   "outputs": [
    {
     "name": "stdout",
     "output_type": "stream",
     "text": [
      "The sum of the first 6 elements of the sequence is: 504.0\n"
     ]
    }
   ],
   "source": [
    "a1 = 8\n",
    "a2 = 8 * 2\n",
    "n = 6\n",
    "q = a2 / a1\n",
    "s6 = a1 * ((1 - q**n) / (1 - q))\n",
    "print(f'The sum of the first {n} elements of the sequence is: {s6}')"
   ]
  },
  {
   "cell_type": "markdown",
   "id": "cc1bfee3-23dc-43a5-a956-9d051b37004d",
   "metadata": {},
   "source": [
    "Exercise 16\n",
    "สมการกําลังสองจะได้รับด้วยสูตรต่อไปนี้:\n",
    "\n",
    "x^2+5x+4=0\n",
    "\n",
    "การใช้สูตรของ Vieta คํานวณผลรวมและผลคูณของรากของสมการกําลังสองนี้ พิมพ์ผลลัพธ์ไปยังคอนโซลดังที่แสดงด้านล่าง\n",
    "\n",
    "\n",
    "\n",
    "ผลลัพธ์ที่คาดหวัง:\n",
    "x1 + x2 = -5.0\n",
    "x1x2 = 4.0"
   ]
  },
  {
   "cell_type": "code",
   "execution_count": 16,
   "id": "eb428701-f1d2-4cca-adf7-b867c85d7159",
   "metadata": {},
   "outputs": [
    {
     "name": "stdout",
     "output_type": "stream",
     "text": [
      "x1 + x2 = -5.0\n",
      "x1x2 = 4.0\n"
     ]
    }
   ],
   "source": [
    "a = 1 \n",
    "b = 5 \n",
    "c = 4\n",
    "x1 = (-b + (b**2-4*a*c)**0.5)/(2*a)\n",
    "x2 = (-b - (b**2-4*a*c)**0.5)/(2*a)\n",
    "Sum = x1 + x2\n",
    "muti = x1*x2\n",
    "print(f'x1 + x2 = {Sum}\\nx1x2 = {muti}')"
   ]
  },
  {
   "cell_type": "markdown",
   "id": "8e2dc103-dcc8-4d4e-b80e-00b18639b091",
   "metadata": {},
   "source": [
    "Exercise 17\n",
    "คํานวณจุดกึ่งกลางของเซ็กเมนต์โดยสิ้นสุดที่จุด: A = (2, 4), B = (-4, 6) และพิมพ์ผลลัพธ์ไปยังคอนโซลดังที่แสดงด้านล่าง\n",
    "\n",
    "\n",
    "\n",
    "ผลลัพธ์ที่คาดหวัง:\n",
    "The middle point: (-1.0, 5.0)\n"
   ]
  },
  {
   "cell_type": "code",
   "execution_count": 17,
   "id": "20356ca9-a1c6-4ba0-a354-88a7a038644c",
   "metadata": {},
   "outputs": [
    {
     "name": "stdout",
     "output_type": "stream",
     "text": [
      "The middle point: (-1.0, 5.0)\n"
     ]
    }
   ],
   "source": [
    "A = (2,4)\n",
    "B = (-4,6)\n",
    "midx = (A[0]+B[0])/2\n",
    "midy = (A[1]+B[1])/2\n",
    "print(f'The middle point: ({midx:.1f}, {midy:.1f})')"
   ]
  },
  {
   "cell_type": "markdown",
   "id": "86a7e830-9006-4f2a-a48a-3b6a8b4c7749",
   "metadata": {},
   "source": [
    "Exercise 18\n",
    "คํานวณระยะทางของสองจุด A = (3, 2), B = (- 1, -1) และพิมพ์ผลลัพธ์ไปยังคอนโซลดังที่แสดงด้านล่าง\n",
    "\n",
    "\n",
    "\n",
    "ผลลัพธ์ที่คาดหวัง:\n",
    "The distance between points A and B: 5.0\n"
   ]
  },
  {
   "cell_type": "code",
   "execution_count": 18,
   "id": "7a8cf77f-067a-41a6-8906-ef4a29b22d0a",
   "metadata": {},
   "outputs": [
    {
     "name": "stdout",
     "output_type": "stream",
     "text": [
      "The distance between points A and B: 5.0\n"
     ]
    }
   ],
   "source": [
    "A = (3, 2)\n",
    "B = (-1, -1)\n",
    "\n",
    "distance = ((A[0]-B[0])**2 + (A[1]-B[1])**2)**0.5\n",
    "print(f'The distance between points A and B: {distance:.1f}')"
   ]
  },
  {
   "cell_type": "markdown",
   "id": "4d6b56e5-aeb2-44e4-aaae-dec77818cd9e",
   "metadata": {},
   "source": [
    "Exercise 19\n",
    "ค้นหารากของสมการกําลังสอง:\n",
    "\n",
    "x^2+5x+4=0\n",
    "\n",
    "พิมพ์ผลลัพธ์ไปยังคอนโซลดังที่แสดงด้านล่าง\n",
    "\n",
    "\n",
    "\n",
    "ผลลัพธ์ที่คาดหวัง:\n",
    "x1 = -4.0\n",
    "x2 = -1.0\n"
   ]
  },
  {
   "cell_type": "code",
   "execution_count": 19,
   "id": "5480e5c3-a1a9-468a-beb0-449ca9ae3e8f",
   "metadata": {},
   "outputs": [
    {
     "name": "stdout",
     "output_type": "stream",
     "text": [
      "x1 = -4.0\n",
      "x2 = -1.0\n"
     ]
    }
   ],
   "source": [
    "a=  1 \n",
    "b = 5\n",
    "c = 4\n",
    "x1 = (-b-(b**2-4*a*c)**0.5)/(2*a)\n",
    "x2 = (-b+(b**2-4*a*c)**0.5)/(2*a)\n",
    "print(f'x1 = {x1:.1f}\\nx2 = {x2:.1f}')"
   ]
  },
  {
   "cell_type": "markdown",
   "id": "9b08d016-19f0-45dd-a55b-fd3597aad980",
   "metadata": {},
   "source": [
    "Exercise 20\n",
    "คํานวณค่าเฉลี่ยทางเรขาคณิตของตัวเลขต่อไปนี้: และพิมพ์ผลลัพธ์ไปยังคอนโซลดังที่แสดงด้านล่าง4, 3, 4.5, 5\n",
    "\n",
    "\n",
    "\n",
    "ผลลัพธ์ที่คาดหวัง:\n",
    "Geometric average of the given numbers: 4.05\n"
   ]
  },
  {
   "cell_type": "code",
   "execution_count": 20,
   "id": "6e57e181-588f-4d89-a5d7-9967f03374d6",
   "metadata": {},
   "outputs": [
    {
     "name": "stdout",
     "output_type": "stream",
     "text": [
      "Geometric average of the given numbers: 4.05\n"
     ]
    }
   ],
   "source": [
    "geometric_mean = (4*4.5*3*5)**(1/4)\n",
    "print(f'Geometric average of the given numbers: {geometric_mean:.2f}')"
   ]
  },
  {
   "cell_type": "markdown",
   "id": "86cbde11-7de8-4561-a4a7-2a327af46f32",
   "metadata": {},
   "source": [
    "Exercise 21\n",
    "ลําดับเรขาคณิตอนันต์จะได้รับด้วยสูตรต่อไปนี้:\n",
    "\n",
    "1,1/2,1/4,1/8,...\n",
    "\n",
    "คํานวณผลรวมของลําดับนี้ พิมพ์ผลลัพธ์ไปยังคอนโซลดังที่แสดงด้านล่าง\n",
    "\n",
    "\n",
    "\n",
    "ผลลัพธ์ที่คาดหวัง:\n",
    "The sum of the sequence: 2.0\n",
    "    "
   ]
  },
  {
   "cell_type": "code",
   "execution_count": 21,
   "id": "5d22462d-57ae-4773-a8c2-c4c34572f18b",
   "metadata": {},
   "outputs": [
    {
     "name": "stdout",
     "output_type": "stream",
     "text": [
      "The sum of the sequence: 2.0\n"
     ]
    }
   ],
   "source": [
    "r=1/2\n",
    "Sum = 1/(1-r)\n",
    "print(f'The sum of the sequence: {Sum:.1f}')"
   ]
  },
  {
   "cell_type": "markdown",
   "id": "27aee4c0-f1ca-44a8-b9d2-2c356358ed52",
   "metadata": {},
   "source": [
    "Exercise 22\n",
    "คํานวณค่าเบี่ยงเบนมาตรฐานของชุดข้อมูลต่อไปนี้: .10, 11, 9\n",
    "\n",
    "พิมพ์ผลลัพธ์ไปยังคอนโซลดังที่แสดงด้านล่าง\n",
    "\n",
    "\n",
    "\n",
    "ผลลัพธ์ที่คาดหวัง:\n",
    "The standard deviation: 0.82"
   ]
  },
  {
   "cell_type": "code",
   "execution_count": 22,
   "id": "c439b6ec-ce6c-4b31-866e-2b816180b763",
   "metadata": {},
   "outputs": [
    {
     "name": "stdout",
     "output_type": "stream",
     "text": [
      "The standard deviation: 0.82\n"
     ]
    }
   ],
   "source": [
    "\n",
    "Set = [10,11,9]\n",
    "mean = (10+11+9)/3\n",
    "Sum =0 \n",
    "for xi in Set:\n",
    "    Sum = Sum + (xi-mean)**2\n",
    "SD = (Sum/len(Set))**0.5\n",
    "print(f'The standard deviation: {SD:.2f}')"
   ]
  },
  {
   "cell_type": "markdown",
   "id": "672457ed-011a-40fa-944d-6fec92fdaaaa",
   "metadata": {},
   "source": [
    "Slicing"
   ]
  },
  {
   "cell_type": "markdown",
   "id": "7ed6d41b-bbe9-4a92-8c49-b2156679025a",
   "metadata": {},
   "source": [
    "Exercise 23\n",
    "จากชื่อไฟล์ที่กําหนด:\n",
    "\n",
    "\n",
    "\n",
    "filename = 'view.jpg'\n",
    "\n",
    "\n",
    "แยกส่วนขยายและพิมพ์ไปยังคอนโซล\n",
    "\n",
    "\n",
    "\n",
    "ผลลัพธ์ที่คาดหวัง:\n",
    "jpg"
   ]
  },
  {
   "cell_type": "code",
   "execution_count": 23,
   "id": "4ce87628-a014-4121-81b9-164c2ccb1d28",
   "metadata": {},
   "outputs": [
    {
     "name": "stdout",
     "output_type": "stream",
     "text": [
      "jpg\n"
     ]
    }
   ],
   "source": [
    "filename = 'view.jpg'\n",
    "print(filename[-3:])\n"
   ]
  },
  {
   "cell_type": "markdown",
   "id": "59abfcf1-03d5-434b-928b-8efa0c91d31c",
   "metadata": {},
   "source": [
    "Exercise 24\n",
    "จากข้อความต่อไปนี้:\n",
    "\n",
    "\n",
    "\n",
    "string = 'PKV-89415-PLN'\n",
    "\n",
    "\n",
    "แยกรหัสที่มีอักขระสามตัวแรกและตัวสุดท้าย พิมพ์ผลลัพธ์ไปยังคอนโซล\n",
    "\n",
    "\n",
    "\n",
    "ผลลัพธ์ที่คาดหวัง:\n",
    "PKVPLN"
   ]
  },
  {
   "cell_type": "code",
   "execution_count": 24,
   "id": "da6aa2f8-e30d-470d-8cc5-c34fb5eb3982",
   "metadata": {},
   "outputs": [
    {
     "name": "stdout",
     "output_type": "stream",
     "text": [
      "PKVPLN\n"
     ]
    }
   ],
   "source": [
    "string = 'PKV-89415-PLN'\n",
    "text = string[0:3] + string[-3:]\n",
    "print(text)"
   ]
  },
  {
   "cell_type": "markdown",
   "id": "e8c0c775-e257-43c8-ae12-d701861a852c",
   "metadata": {},
   "source": [
    "แบบฝึกหัดที่ 25\n",
    "จากข้อความต่อไปนี้:\n",
    "\n",
    "\n",
    "\n",
    "string = '1 0 0 1 0 1'\n",
    "\n",
    "\n",
    "ลบช่องว่างโดยใช้การแบ่งส่วน จากนั้นแปลงผลลัพธ์เป็นสัญกรณ์ทศนิยมและพิมพ์ไปยังคอนโซลดังที่แสดงด้านล่าง\n",
    "\n",
    "\n",
    "\n",
    "ผลลัพธ์ที่คาดหวัง:\n",
    "Number found: 37"
   ]
  },
  {
   "cell_type": "code",
   "execution_count": 25,
   "id": "420bcb27-478d-46d1-baa6-fe0ce4658768",
   "metadata": {},
   "outputs": [
    {
     "name": "stdout",
     "output_type": "stream",
     "text": [
      "Number found: 37\n"
     ]
    }
   ],
   "source": [
    "string = '1 0 0 1 0 1'\n",
    "binary = string[::2]\n",
    "number = int(binary, 2)\n",
    "print(f'Number found: {number}')"
   ]
  },
  {
   "cell_type": "markdown",
   "id": "17ffe272-84c4-45cc-8178-48391c965ce7",
   "metadata": {},
   "source": [
    "Exercise 26\n",
    "ใช้การแบ่งส่วนย้อนกลับลําดับของอักขระในข้อความต่อไปนี้:\n",
    "\n",
    "\n",
    "\n",
    "text = 'Python Course'\n",
    "\n",
    "\n",
    "พิมพ์ผลลัพธ์ไปยังคอนโซลดังที่แสดงด้านล่าง\n",
    "\n",
    "\n",
    "\n",
    "ผลลัพธ์ที่คาดหวัง:\n",
    "esruoC nohtyP"
   ]
  },
  {
   "cell_type": "code",
   "execution_count": 28,
   "id": "9e16615b-0902-4265-b122-01700b84099e",
   "metadata": {},
   "outputs": [
    {
     "name": "stdout",
     "output_type": "stream",
     "text": [
      "esruoC nohtyP\n"
     ]
    }
   ],
   "source": [
    "text = 'Python Course'\n",
    "print(text[::-1])"
   ]
  },
  {
   "cell_type": "markdown",
   "id": "0b1e7d36-51ce-4d61-9c19-99255a8ed7ad",
   "metadata": {},
   "source": [
    "Data type"
   ]
  },
  {
   "cell_type": "markdown",
   "id": "e9220d01-a02c-4b77-bf6a-93a0f9c0cc7a",
   "metadata": {},
   "source": [
    "Exercise 27\n",
    "ตัวแปรต่อไปนี้จะได้รับ (var1 - สตริงว่าง, var2 - ช่องว่าง, var3 - อักขระบรรทัดใหม่):\n",
    "\n",
    "\n",
    "\n",
    "var1 = ''\n",
    "var2 = ' '\n",
    "var3 = '\\n'\n",
    "\n",
    "\n",
    "พิมพ์ตัวแปรแต่ละประเภทในบรรทัดแยกต่างหากไปยังคอนโซลดังที่แสดงด้านล่าง\n",
    "\n",
    "\n",
    "\n",
    "ผลลัพธ์ที่คาดหวัง:\n",
    "<class 'str'>\n",
    "<class 'str'>\n",
    "<class 'str'>"
   ]
  },
  {
   "cell_type": "code",
   "execution_count": 29,
   "id": "85364c88-e67f-4570-8ce3-3d0113ef484f",
   "metadata": {},
   "outputs": [
    {
     "name": "stdout",
     "output_type": "stream",
     "text": [
      "<class 'str'>\n",
      "<class 'str'>\n",
      "<class 'str'>\n"
     ]
    }
   ],
   "source": [
    "var1 = ''\n",
    "var2 = ' '\n",
    "var3 = '\\n'\n",
    "print(f'{type(var1)}\\n{type(var2)}\\n{type(var3)}')"
   ]
  },
  {
   "cell_type": "markdown",
   "id": "66dfd247-9a97-4449-8858-a679e7a7f111",
   "metadata": {},
   "source": [
    "Exercise 28\n",
    "ตัวแปรต่อไปนี้จะได้รับ:\n",
    "\n",
    "\n",
    "\n",
    "var1 = None\n",
    "var2 = False\n",
    "var3 = 'True'\n",
    "\n",
    "\n",
    "พิมพ์ตัวแปรแต่ละประเภทในบรรทัดแยกต่างหากไปยังคอนโซลดังที่แสดงด้านล่าง\n",
    "\n",
    "\n",
    "\n",
    "ผลลัพธ์ที่คาดหวัง:\n",
    "<class 'NoneType'>\n",
    "<class 'bool'>\n",
    "<class 'str'>"
   ]
  },
  {
   "cell_type": "code",
   "execution_count": 30,
   "id": "d06c0ff5-df39-426e-b7c2-41482a7bbf6d",
   "metadata": {},
   "outputs": [
    {
     "name": "stdout",
     "output_type": "stream",
     "text": [
      "<class 'NoneType'>\n",
      "<class 'bool'>\n",
      "<class 'str'>\n"
     ]
    }
   ],
   "source": [
    "var1 = None\n",
    "var2 = False\n",
    "var3 = 'True'\n",
    "print(f'{type(var1)}\\n{type(var2)}\\n{type(var3)}')"
   ]
  },
  {
   "cell_type": "markdown",
   "id": "3a393f42-6a56-4d25-846d-01ae93bfdba5",
   "metadata": {},
   "source": [
    "Exercise 29\n",
    "ตรวจสอบว่าตัวแปรต่อไปนี้:\n",
    "\n",
    "\n",
    "\n",
    "flag = False\n",
    "\n",
    "\n",
    "เป็นตัวอย่างของคลาส Bool และพิมพ์ผลลัพธ์ไปยังคอนโซล\n",
    "\n",
    "\n",
    "\n",
    "ผลลัพธ์ที่คาดหวัง:\n",
    "True"
   ]
  },
  {
   "cell_type": "code",
   "execution_count": 31,
   "id": "e21650a2-41df-423a-b193-813fba0237df",
   "metadata": {},
   "outputs": [
    {
     "name": "stdout",
     "output_type": "stream",
     "text": [
      "True\n"
     ]
    }
   ],
   "source": [
    "flag = False\n",
    "print(isinstance(flag, bool))"
   ]
  },
  {
   "cell_type": "markdown",
   "id": "c54db95a-40f7-40e2-b9a3-da4d2946c0aa",
   "metadata": {},
   "source": [
    "Exercise 30\n",
    "ข้อความต่อไปนี้จะได้รับ:\n",
    "\n",
    "\n",
    "\n",
    "text = 'python is a popular programming language.'\n",
    "\n",
    "\n",
    "ใช้วิธีการที่เหมาะสมเพื่อแทนที่ตัวอักษรตัวแรกของข้อความด้วยตัวพิมพ์ใหญ่ พิมพ์ผลลัพธ์ไปยังคอนโซล\n",
    "\n",
    "\n",
    "\n",
    "ผลลัพธ์ที่คาดหวัง:\n",
    "Python is a popular programming language."
   ]
  },
  {
   "cell_type": "code",
   "execution_count": 32,
   "id": "82f230d5-fd92-4a4e-bc1a-da7d074c5e56",
   "metadata": {},
   "outputs": [
    {
     "name": "stdout",
     "output_type": "stream",
     "text": [
      "Python is a popular programming language.\n"
     ]
    }
   ],
   "source": [
    "text = 'python is a popular programming language.'\n",
    "print(text.capitalize())"
   ]
  },
  {
   "cell_type": "markdown",
   "id": "b9909ade-d41e-47db-9f2b-f0d0d89dbf53",
   "metadata": {},
   "source": [
    "Exercise 31\n",
    "ข้อความต่อไปนี้จะได้รับ:\n",
    "\n",
    "\n",
    "\n",
    "text = 'python is a popular programming language.'\n",
    "\n",
    "\n",
    "การใช้วิธีการที่เหมาะสมจะนับจํานวนครั้งของตัวอักษรและพิมพ์ผลลัพธ์ไปยังคอนโซลดังที่แสดงด้านล่าง'p'\n",
    "\n",
    "\n",
    "\n",
    "ผลลัพธ์ที่คาดหวัง:\n",
    "Number of occurrences: 4"
   ]
  },
  {
   "cell_type": "code",
   "execution_count": 33,
   "id": "08546550-f60a-4fa3-99e3-6efdf49e5cf3",
   "metadata": {},
   "outputs": [
    {
     "name": "stdout",
     "output_type": "stream",
     "text": [
      "Number of occurrences: 4\n"
     ]
    }
   ],
   "source": [
    "text = 'python is a popular programming language.'\n",
    "counts = 0\n",
    "for t in text :\n",
    "    if t =='p' :\n",
    "        counts +=1 \n",
    "print(f'Number of occurrences: {counts}')"
   ]
  },
  {
   "cell_type": "markdown",
   "id": "3ee857e3-d76a-4814-aef7-e3d58d89f9f9",
   "metadata": {},
   "source": [
    "Exercise 32\n",
    "รหัสต่อไปนี้จะได้รับ:\n",
    "\n",
    "\n",
    "\n",
    "code1 = 'FVNISJND-XX-2020'\n",
    "code2 = 'FVNISJND-XY-2019'\n",
    "\n",
    "\n",
    "ใช้วิธีการที่เหมาะสมตรวจสอบว่ารหัสลงท้ายด้วย พิมพ์ผลลัพธ์ไปยังคอนโซลดังที่แสดงด้านล่าง'2020'\n",
    "\n",
    "\n",
    "\n",
    "ผลลัพธ์ที่คาดหวัง:\n",
    "code1: True\n",
    "code2: False"
   ]
  },
  {
   "cell_type": "code",
   "execution_count": 34,
   "id": "15332081-9241-4b6f-9049-307990b0ecb8",
   "metadata": {},
   "outputs": [
    {
     "name": "stdout",
     "output_type": "stream",
     "text": [
      "code1: True\n",
      "code2: False\n"
     ]
    }
   ],
   "source": [
    "code1 = 'FVNISJND-XX-2020'\n",
    "code2 = 'FVNISJND-XY-2019'\n",
    "a = code1[-4:]=='2020'\n",
    "b = code2[-4:]=='2020'\n",
    "print(f'code1: {a}\\ncode2: {b}')"
   ]
  },
  {
   "cell_type": "markdown",
   "id": "d53c2aa8-0ee7-4384-98ea-427a8a812470",
   "metadata": {},
   "source": [
    "Exercise 33\n",
    "เส้นทางต่อไปนี้จะได้รับ:\n",
    "\n",
    "\n",
    "\n",
    "path1 = 'youtube.com/watch?v=5EhRztVxums'\n",
    "path2 = 'google.com/search?q=car'\n",
    "\n",
    "\n",
    "ใช้วิธีการที่เหมาะสมตรวจสอบว่าเส้นทางอ้างถึง YouTube หรือไม่ (เช่นเริ่มต้นด้วย) พิมพ์ผลลัพธ์ไปยังคอนโซลดังที่แสดงด้านล่าง'youtube'\n",
    "\n",
    "\n",
    "\n",
    "ผลลัพธ์ที่คาดหวัง:\n",
    "path1: True\n",
    "path2: False\n"
   ]
  },
  {
   "cell_type": "code",
   "execution_count": 35,
   "id": "dc008215-68a6-4cee-a16a-18cf1f763228",
   "metadata": {},
   "outputs": [
    {
     "name": "stdout",
     "output_type": "stream",
     "text": [
      "path1: True\n",
      "path2: False\n"
     ]
    }
   ],
   "source": [
    "path1 = 'youtube.com/watch?v=5EhRztVxums'\n",
    "path2 = 'google.com/search?q=car'\n",
    "print(f\"path1: {path1.startswith('youtube')}\\npath2: {path2.startswith('youtube')}\")"
   ]
  },
  {
   "cell_type": "markdown",
   "id": "945b48e6-7509-4bc0-bcb4-c0f0540942aa",
   "metadata": {},
   "source": [
    "Exercise 34\n",
    "เส้นทางต่อไปนี้จะได้รับ:\n",
    "\n",
    "\n",
    "\n",
    "path1 = (\n",
    "    'https://e-smartdata.teachable.com/p/'\n",
    "    'sciezka-data-scientist-machine-learning-engineer'\n",
    ")\n",
    "path2 = (\n",
    "    'https://e-smartdata.teachable.com/p/'\n",
    "    'sciezka-data-scientist-deep-learning-engineer'\n",
    ")\n",
    "path3 = (\n",
    "    'https://e-smartdata.teachable.com/p/'\n",
    "    'sciezka-bi-analyst-data-analyst'\n",
    ")\n",
    "\n",
    "\n",
    "ใช้วิธีการที่เหมาะสมค้นหาคําในเส้นทางที่กําหนดส่งคืนดัชนีสําหรับตัวอักษรตัวแรกของคําที่พบ หากคําไม่อยู่ในเส้นทางวิธีการควรส่งกลับ -1 พิมพ์ผลลัพธ์ไปยังคอนโซลดังที่แสดงด้านล่าง'scientist'\n",
    "\n",
    "\n",
    "\n",
    "ผลลัพธ์ที่คาดหวัง:\n",
    "path1: 49\n",
    "path2: 49\n",
    "path3: -1\n"
   ]
  },
  {
   "cell_type": "code",
   "execution_count": 36,
   "id": "d31be34e-b4f2-4652-81f0-2709253fc693",
   "metadata": {},
   "outputs": [
    {
     "name": "stdout",
     "output_type": "stream",
     "text": [
      "path1: 49\n",
      "path2: 49\n",
      "path3: -1\n"
     ]
    }
   ],
   "source": [
    "path1 = 'https://e-smartdata.teachable.com/p/sciezka-data-scientist-machine-learning-engineer'\n",
    "path2 = 'https://e-smartdata.teachable.com/p/sciezka-data-scientist-deep-learning-engineer'\n",
    "path3 = 'https://e-smartdata.teachable.com/p/sciezka-bi-analyst-data-analyst'\n",
    "print(f\"path1: {path1.find('scientist')}\\npath2: {path2.find('scientist')}\\npath3: {path3.find('scientist')}\")"
   ]
  },
  {
   "cell_type": "markdown",
   "id": "fd1e87d0-ccd2-4ab9-ac49-2af5b2558f69",
   "metadata": {},
   "source": [
    "Exercise 35\n",
    "รหัสต่อไปนี้จะได้รับ:\n",
    "\n",
    "\n",
    "\n",
    "code1 = 'FVNISJND-20'\n",
    "code2 = 'FVNISJND20'\n",
    "\n",
    "\n",
    "ใช้วิธีการที่เหมาะสมตรวจสอบว่ารหัสประกอบด้วยตัวอักษรและตัวเลขเท่านั้น (ตัวเลข + ตัวอักษร) พิมพ์ผลลัพธ์ไปยังคอนโซลดังที่แสดงด้านล่าง\n",
    "\n",
    "\n",
    "\n",
    "ผลลัพธ์ที่คาดหวัง:\n",
    "code1: False\n",
    "code2: True\n"
   ]
  },
  {
   "cell_type": "code",
   "execution_count": 37,
   "id": "9041b3de-7727-4df6-bb99-d0e9c99c0f8d",
   "metadata": {},
   "outputs": [
    {
     "name": "stdout",
     "output_type": "stream",
     "text": [
      "code1: False\n",
      "code2: True\n"
     ]
    }
   ],
   "source": [
    "code1 = 'FVNISJND-20'\n",
    "code2 = 'FVNISJND20'\n",
    "print(f'code1: {code1.isalnum()}\\ncode2: {code2.isalnum()}')"
   ]
  },
  {
   "cell_type": "code",
   "execution_count": null,
   "id": "f374eb62-eb5c-4645-8f1c-7519bdca6a08",
   "metadata": {},
   "outputs": [],
   "source": []
  }
 ],
 "metadata": {
  "kernelspec": {
   "display_name": "Python 3 (ipykernel)",
   "language": "python",
   "name": "python3"
  },
  "language_info": {
   "codemirror_mode": {
    "name": "ipython",
    "version": 3
   },
   "file_extension": ".py",
   "mimetype": "text/x-python",
   "name": "python",
   "nbconvert_exporter": "python",
   "pygments_lexer": "ipython3",
   "version": "3.9.13"
  }
 },
 "nbformat": 4,
 "nbformat_minor": 5
}
