{
  "nbformat": 4,
  "nbformat_minor": 0,
  "metadata": {
    "colab": {
      "provenance": [],
      "toc_visible": true,
      "authorship_tag": "ABX9TyPJHXMIlNdErsfFx9uFHHbN",
      "include_colab_link": true
    },
    "kernelspec": {
      "name": "python3",
      "display_name": "Python 3"
    },
    "language_info": {
      "name": "python"
    }
  },
  "cells": [
    {
      "cell_type": "markdown",
      "metadata": {
        "id": "view-in-github",
        "colab_type": "text"
      },
      "source": [
        "<a href=\"https://colab.research.google.com/github/surapitttha/Python-upskill/blob/main/Neural_Networks_from_Scratch_in_Python.ipynb\" target=\"_parent\"><img src=\"https://colab.research.google.com/assets/colab-badge.svg\" alt=\"Open In Colab\"/></a>"
      ]
    },
    {
      "cell_type": "markdown",
      "source": [
        "# A Layer of Neurons"
      ],
      "metadata": {
        "id": "NL8A8K0XSHWw"
      }
    },
    {
      "cell_type": "code",
      "execution_count": null,
      "metadata": {
        "id": "d_pk8IAiQEw4"
      },
      "outputs": [],
      "source": [
        "inputs = [1, 2, 3]\n",
        "weights = [0.2, 0.8, -0.5]\n",
        "bias = 2"
      ]
    },
    {
      "cell_type": "code",
      "source": [
        "def linear(inputs,weights,bias):\n",
        "  output =0\n",
        "  for i in range(len(inputs)):\n",
        "    output +=  (inputs[i]*weights[i])\n",
        "\n",
        "  output += bias\n",
        "\n",
        "  return output\n"
      ],
      "metadata": {
        "id": "CBlKmAueQT66"
      },
      "execution_count": null,
      "outputs": []
    },
    {
      "cell_type": "code",
      "source": [
        "linear(inputs,weights,bias)"
      ],
      "metadata": {
        "colab": {
          "base_uri": "https://localhost:8080/"
        },
        "id": "GMiYXaikRFE3",
        "outputId": "8dad7958-18e6-4d33-aaa7-063187f37abd"
      },
      "execution_count": null,
      "outputs": [
        {
          "output_type": "execute_result",
          "data": {
            "text/plain": [
              "2.3"
            ]
          },
          "metadata": {},
          "execution_count": 3
        }
      ]
    },
    {
      "cell_type": "code",
      "source": [
        "inputs = [1.0, 2.0, 3.0, 2.5]\n",
        "weights = [0.2, 0.8, -0.5, 1.0]\n",
        "bias = 2.0\n",
        "linear(inputs,weights,bias)"
      ],
      "metadata": {
        "colab": {
          "base_uri": "https://localhost:8080/"
        },
        "id": "ANC_23T2RPom",
        "outputId": "fc90e825-b8f6-485c-dd55-3787bc48b75e"
      },
      "execution_count": null,
      "outputs": [
        {
          "output_type": "execute_result",
          "data": {
            "text/plain": [
              "4.8"
            ]
          },
          "metadata": {},
          "execution_count": 4
        }
      ]
    },
    {
      "cell_type": "code",
      "source": [
        "inputs = [1.0, 2.0, 3.0, 2.5]\n",
        "weights = [0.2, 0.8, -0.5, 1.0]\n",
        "bias = 2.0\n",
        "linear(inputs,weights,bias)"
      ],
      "metadata": {
        "colab": {
          "base_uri": "https://localhost:8080/"
        },
        "id": "_B45Te-7RU_4",
        "outputId": "c5799a7e-60f7-46c7-ba65-02c8447c4f2c"
      },
      "execution_count": null,
      "outputs": [
        {
          "output_type": "execute_result",
          "data": {
            "text/plain": [
              "4.8"
            ]
          },
          "metadata": {},
          "execution_count": 5
        }
      ]
    },
    {
      "cell_type": "code",
      "source": [
        "inputs = [1, 2, 3, 2.5]\n",
        "weights1 = [0.2, 0.8, -0.5, 1]\n",
        "weights2 = [0.5, -0.91, 0.26, -0.5]\n",
        "weights3 = [-0.26, -0.27, 0.17, 0.87]\n",
        "bias1 = 2\n",
        "bias2 = 3\n",
        "bias3 = 0.5\n",
        "outputs = []\n",
        "outputs.append(linear(inputs,weights1,bias1))\n",
        "outputs.append(linear(inputs,weights2,bias2))\n",
        "outputs.append(linear(inputs,weights3,bias3))"
      ],
      "metadata": {
        "id": "PALAGwwrRjov"
      },
      "execution_count": null,
      "outputs": []
    },
    {
      "cell_type": "code",
      "source": [
        "outputs"
      ],
      "metadata": {
        "colab": {
          "base_uri": "https://localhost:8080/"
        },
        "id": "blqEkkvIR4yd",
        "outputId": "abefdf35-6d7f-4fd4-8929-276bc7e21e43"
      },
      "execution_count": null,
      "outputs": [
        {
          "output_type": "execute_result",
          "data": {
            "text/plain": [
              "[4.8, 1.21, 2.385]"
            ]
          },
          "metadata": {},
          "execution_count": 7
        }
      ]
    },
    {
      "cell_type": "markdown",
      "source": [
        "## by me"
      ],
      "metadata": {
        "id": "Do-GQAT7VuAe"
      }
    },
    {
      "cell_type": "code",
      "source": [
        "def linear(inputs,weights,bias):\n",
        "  output =0\n",
        "  for i in range(len(inputs)):\n",
        "    output +=  (inputs[i]*weights[i])\n",
        "\n",
        "  output += bias\n",
        "\n",
        "  return output\n"
      ],
      "metadata": {
        "id": "yAUfJn6XU-p3"
      },
      "execution_count": null,
      "outputs": []
    },
    {
      "cell_type": "code",
      "source": [
        "def Neural(inputs,weights,biases):\n",
        "  outputs = []\n",
        "  for i in range(len(weights)):\n",
        "    outputs.append(linear(inputs,weights[i],biases[i]))\n",
        "\n",
        "\n",
        "  return outputs\n",
        "\n",
        "\n",
        "\n",
        "\n"
      ],
      "metadata": {
        "id": "tS0Olv2qS6-m"
      },
      "execution_count": null,
      "outputs": []
    },
    {
      "cell_type": "code",
      "source": [
        "inputs = [1, 2, 3, 2.5]\n",
        "weights = [[0.2, 0.8, -0.5, 1],\n",
        "[0.5, -0.91, 0.26, -0.5],\n",
        "[-0.26, -0.27, 0.17, 0.87]]\n",
        "biases = [2, 3, 0.5]\n",
        "\n",
        "Neural(inputs,weights,biases)\n"
      ],
      "metadata": {
        "colab": {
          "base_uri": "https://localhost:8080/"
        },
        "id": "nmcloBJYTbpV",
        "outputId": "7f2ab6eb-0f43-463c-8de0-401acbb96b99"
      },
      "execution_count": null,
      "outputs": [
        {
          "output_type": "execute_result",
          "data": {
            "text/plain": [
              "[4.8, 1.21, 2.385]"
            ]
          },
          "metadata": {},
          "execution_count": 17
        }
      ]
    },
    {
      "cell_type": "markdown",
      "source": [
        "#by book"
      ],
      "metadata": {
        "id": "eZo5zLSAVy4U"
      }
    },
    {
      "cell_type": "code",
      "source": [
        "# Output of current layer\n",
        "layer_outputs = []\n",
        "# For each neuron\n",
        "for neuron_weights, neuron_bias in zip(weights, biases):\n",
        "# Zeroed output of given neuron\n",
        "  neuron_output = 0\n",
        "# For each input and weight to the neuron\n",
        "  for n_input, weight in zip(inputs, neuron_weights):\n",
        "# Multiply this input by associated weight\n",
        "# and add to the neuron’s output variable\n",
        "    neuron_output += n_input*weight\n",
        "# Add bias\n",
        "  neuron_output += neuron_bias\n",
        "# Put neuron’s result to the layer’s output list\n",
        "  layer_outputs.append(neuron_output)\n",
        "print(layer_outputs)"
      ],
      "metadata": {
        "colab": {
          "base_uri": "https://localhost:8080/"
        },
        "id": "9xuHFQZeSOqN",
        "outputId": "6023b2d0-5a0f-41e7-b024-8b70e2202ffa"
      },
      "execution_count": null,
      "outputs": [
        {
          "output_type": "stream",
          "name": "stdout",
          "text": [
            "[4.8, 1.21, 2.385]\n"
          ]
        }
      ]
    },
    {
      "cell_type": "markdown",
      "source": [
        "# Tensors, Arrays and Vectors"
      ],
      "metadata": {
        "id": "65321po0WBon"
      }
    },
    {
      "cell_type": "code",
      "source": [
        "l = [1,5,6,2]\n",
        "#A list of lists:\n",
        "lol = [[1,5,6,2],\n",
        "[3,2,1,3]]\n",
        "#A list of lists of lists!\n",
        "lolol = [[[1,5,6,2],\n",
        "[3,2,1,3]],\n",
        "[[5,2,1,2],\n",
        "[6,4,8,4]],\n",
        "[[2,8,5,3],\n",
        "[1,1,9,4]]]\n",
        "\n",
        "another_list_of_lists = [[4,2,3],\n",
        "[5,1]]\n",
        "\n",
        "list_matrix_array = [[4,2],[5,1],[8,2]]"
      ],
      "metadata": {
        "id": "TvxorC_zWDme"
      },
      "execution_count": null,
      "outputs": []
    },
    {
      "cell_type": "markdown",
      "source": [
        "# Dot Product and Vector Addition"
      ],
      "metadata": {
        "id": "3a2ebsvTWiO3"
      }
    },
    {
      "cell_type": "markdown",
      "source": [
        "![image.png](data:image/png;base64,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)"
      ],
      "metadata": {
        "id": "7EERKhDDXpcg"
      }
    },
    {
      "cell_type": "code",
      "source": [
        "a = [1,2,3]\n",
        "b = [2,3,4]"
      ],
      "metadata": {
        "id": "V_GQVJO3Wi_3"
      },
      "execution_count": null,
      "outputs": []
    },
    {
      "cell_type": "code",
      "source": [
        "def dot_product(matrixA,matrixB):\n",
        "  ans = 0\n",
        "  if (len(matrixA) == len(matrixB)):\n",
        "    for a,b in zip(matrixA,matrixB):\n",
        "      ans += a*b\n",
        "    return ans\n",
        "\n",
        "  else:\n",
        "    print('can not dot product')\n",
        "\n",
        "dot_product(a,b)"
      ],
      "metadata": {
        "colab": {
          "base_uri": "https://localhost:8080/"
        },
        "id": "wMUgdrM8Wr8R",
        "outputId": "5a6b0b5a-a8c7-4d98-b382-26a380d1dd35"
      },
      "execution_count": null,
      "outputs": [
        {
          "output_type": "execute_result",
          "data": {
            "text/plain": [
              "20"
            ]
          },
          "metadata": {},
          "execution_count": 21
        }
      ]
    },
    {
      "cell_type": "markdown",
      "source": [
        "# A Single Neuron with NumPy"
      ],
      "metadata": {
        "id": "M_exc2ynXtCe"
      }
    },
    {
      "cell_type": "code",
      "source": [
        "import numpy as np\n",
        "inputs = [1.0, 2.0, 3.0, 2.5]\n",
        "weights = [0.2, 0.8, -0.5, 1.0]\n",
        "bias = 2.0"
      ],
      "metadata": {
        "id": "Yz3cM1UcXttx"
      },
      "execution_count": null,
      "outputs": []
    },
    {
      "cell_type": "code",
      "source": [
        "outputs = np.dot(weights, inputs) + bias\n",
        "print(outputs)"
      ],
      "metadata": {
        "colab": {
          "base_uri": "https://localhost:8080/"
        },
        "id": "BseRkq9XX419",
        "outputId": "d13704a4-6a3b-4649-f119-05eb02185d97"
      },
      "execution_count": null,
      "outputs": [
        {
          "output_type": "stream",
          "name": "stdout",
          "text": [
            "4.8\n"
          ]
        }
      ]
    },
    {
      "cell_type": "code",
      "source": [
        "def linear(inputs,weights,bias):\n",
        "  return np.dot(weights, inputs) + bias\n",
        "\n",
        "linear(inputs,weights,bias)\n"
      ],
      "metadata": {
        "colab": {
          "base_uri": "https://localhost:8080/"
        },
        "id": "wEE5SSlQX9Dz",
        "outputId": "ecf69f55-8cfa-498b-c74e-92a469b97d0f"
      },
      "execution_count": null,
      "outputs": [
        {
          "output_type": "execute_result",
          "data": {
            "text/plain": [
              "4.8"
            ]
          },
          "metadata": {},
          "execution_count": 26
        }
      ]
    },
    {
      "cell_type": "markdown",
      "source": [
        "# A Layer of Neurons with NumPy"
      ],
      "metadata": {
        "id": "hMd15h0HYYsn"
      }
    },
    {
      "cell_type": "code",
      "source": [
        "import numpy as np\n",
        "inputs = [1.0, 2.0, 3.0, 2.5]\n",
        "weights = [[0.2, 0.8, -0.5, 1],\n",
        "[0.5, -0.91, 0.26, -0.5],\n",
        "[-0.26, -0.27, 0.17, 0.87]]\n",
        "biases = [2.0, 3.0, 0.5]"
      ],
      "metadata": {
        "id": "iOkmRiTiYZ56"
      },
      "execution_count": null,
      "outputs": []
    },
    {
      "cell_type": "code",
      "source": [
        "layer_outputs = np.dot(weights, inputs) + biases\n",
        "print(layer_outputs)"
      ],
      "metadata": {
        "colab": {
          "base_uri": "https://localhost:8080/"
        },
        "id": "hgF5_gATYhhm",
        "outputId": "638d27a7-4239-4d10-fd8c-32ae7f197231"
      },
      "execution_count": null,
      "outputs": [
        {
          "output_type": "stream",
          "name": "stdout",
          "text": [
            "[4.8   1.21  2.385]\n"
          ]
        }
      ]
    },
    {
      "cell_type": "markdown",
      "source": [
        "# Batch of Data"
      ],
      "metadata": {
        "id": "GH4IUhyHYoHt"
      }
    },
    {
      "cell_type": "code",
      "source": [
        "inputs = [[1, 2, 3, 2.5], [2, 5, -1, 2], [-1.5, 2.7, 3.3, -0.8]]"
      ],
      "metadata": {
        "id": "Q6YF05WzYpAl"
      },
      "execution_count": null,
      "outputs": []
    },
    {
      "cell_type": "code",
      "source": [
        "np.array([[1, 2, 3]])\n",
        "a = [1, 2, 3]\n",
        "np.expand_dims(np.array(a), axis=0)\n"
      ],
      "metadata": {
        "colab": {
          "base_uri": "https://localhost:8080/"
        },
        "id": "c3352Pp8ZG1i",
        "outputId": "4c653c86-5417-4921-fd64-12aa7684cc8e"
      },
      "execution_count": null,
      "outputs": [
        {
          "output_type": "execute_result",
          "data": {
            "text/plain": [
              "array([[1, 2, 3]])"
            ]
          },
          "metadata": {},
          "execution_count": 31
        }
      ]
    },
    {
      "cell_type": "code",
      "source": [
        "np.expand_dims(np.array(a), axis=0).shape"
      ],
      "metadata": {
        "colab": {
          "base_uri": "https://localhost:8080/"
        },
        "id": "OJH3HmwUZVkF",
        "outputId": "9600c8e8-9f94-4d63-d416-f180845a2669"
      },
      "execution_count": null,
      "outputs": [
        {
          "output_type": "execute_result",
          "data": {
            "text/plain": [
              "(1, 3)"
            ]
          },
          "metadata": {},
          "execution_count": 32
        }
      ]
    },
    {
      "cell_type": "code",
      "source": [],
      "metadata": {
        "id": "hvOOIXEBZWjh"
      },
      "execution_count": null,
      "outputs": []
    },
    {
      "cell_type": "code",
      "source": [
        "a = [1, 2, 3]\n",
        "b = [2, 3, 4]\n"
      ],
      "metadata": {
        "id": "ojQdJZsPZfFX"
      },
      "execution_count": null,
      "outputs": []
    },
    {
      "cell_type": "code",
      "source": [
        "np.dot(a, b)\n"
      ],
      "metadata": {
        "colab": {
          "base_uri": "https://localhost:8080/"
        },
        "id": "FQDffzJLZhVp",
        "outputId": "59bc57d4-6d00-4562-c2a1-863f9e53f1c5"
      },
      "execution_count": null,
      "outputs": [
        {
          "output_type": "execute_result",
          "data": {
            "text/plain": [
              "20"
            ]
          },
          "metadata": {},
          "execution_count": 36
        }
      ]
    },
    {
      "cell_type": "code",
      "source": [
        "a = np.array([a])\n",
        "b = np.array([b]).T\n",
        "np.dot(a, b)\n"
      ],
      "metadata": {
        "colab": {
          "base_uri": "https://localhost:8080/"
        },
        "id": "QOy4vh0wZiak",
        "outputId": "b6eb6ba2-91d3-44b6-8e02-0887603cc953"
      },
      "execution_count": null,
      "outputs": [
        {
          "output_type": "execute_result",
          "data": {
            "text/plain": [
              "array([[20]])"
            ]
          },
          "metadata": {},
          "execution_count": 37
        }
      ]
    },
    {
      "cell_type": "markdown",
      "source": [
        "# A Layer of Neurons & Batch of Data w/ NumPy"
      ],
      "metadata": {
        "id": "fTQhVlGoZpMG"
      }
    },
    {
      "cell_type": "code",
      "source": [
        "import numpy as np\n",
        "inputs = [[1.0, 2.0, 3.0, 2.5],\n",
        " [2.0, 5.0, -1.0, 2.0],\n",
        " [-1.5, 2.7, 3.3, -0.8]]\n",
        "weights = [[0.2, 0.8, -0.5, 1.0],\n",
        " [0.5, -0.91, 0.26, -0.5],\n",
        " [-0.26, -0.27, 0.17, 0.87]]\n",
        "biases = [2.0, 3.0, 0.5]\n",
        "\n",
        "layer_outputs = np.dot(inputs, np.array(weights).T) + biases\n",
        "\n",
        "print(layer_outputs)\n"
      ],
      "metadata": {
        "colab": {
          "base_uri": "https://localhost:8080/"
        },
        "id": "yli4LegbZqIo",
        "outputId": "4e7b8410-bcf8-4eaf-df14-5b63ecd091d8"
      },
      "execution_count": null,
      "outputs": [
        {
          "output_type": "stream",
          "name": "stdout",
          "text": [
            "[[ 4.8    1.21   2.385]\n",
            " [ 8.9   -1.81   0.2  ]\n",
            " [ 1.41   1.051  0.026]]\n"
          ]
        }
      ]
    },
    {
      "cell_type": "markdown",
      "source": [
        "# Adding Layers"
      ],
      "metadata": {
        "id": "fFQImaX8aM2t"
      }
    },
    {
      "cell_type": "code",
      "source": [
        "inputs = [[1, 2, 3, 2.5], [2., 5., -1., 2], [-1.5, 2.7, 3.3, -0.8]]\n",
        "weights = [[0.2, 0.8, -0.5, 1],\n",
        "[0.5, -0.91, 0.26, -0.5],\n",
        "[-0.26, -0.27, 0.17, 0.87]]\n",
        "biases = [2, 3, 0.5]\n",
        "weights2 = [[0.1, -0.14, 0.5],\n",
        "[-0.5, 0.12, -0.33],\n",
        "[-0.44, 0.73, -0.13]]\n",
        "biases2 = [-1, 2, -0.5]"
      ],
      "metadata": {
        "id": "gWyl_gcYaNm6"
      },
      "execution_count": null,
      "outputs": []
    },
    {
      "cell_type": "code",
      "source": [
        "layer1_outputs = np.dot(inputs, np.array(weights).T) + biases\n",
        "layer2_outputs = np.dot(layer1_outputs, np.array(weights2).T) + biases2\n",
        "print(layer2_outputs)\n"
      ],
      "metadata": {
        "colab": {
          "base_uri": "https://localhost:8080/"
        },
        "id": "clz-1L_La5gO",
        "outputId": "c70fdbb2-76cf-4405-c9fe-c184d7743c23"
      },
      "execution_count": null,
      "outputs": [
        {
          "output_type": "stream",
          "name": "stdout",
          "text": [
            "[[ 0.5031  -1.04185 -2.03875]\n",
            " [ 0.2434  -2.7332  -5.7633 ]\n",
            " [-0.99314  1.41254 -0.35655]]\n"
          ]
        }
      ]
    },
    {
      "cell_type": "markdown",
      "source": [
        "# Training Data\n",
        "Next, rather than hand-typing in random data, we’ll use a function that can create non-linear data.\n",
        "What do we mean by non-linear? Linear data can be fit with or represented by a straight line."
      ],
      "metadata": {
        "id": "54TKyNcVMKRe"
      }
    },
    {
      "cell_type": "code",
      "source": [
        "!pip install nnfs"
      ],
      "metadata": {
        "colab": {
          "base_uri": "https://localhost:8080/"
        },
        "id": "rfdWTLLrMNO9",
        "outputId": "cf1b704c-7057-442d-a2aa-df2a31c4a833"
      },
      "execution_count": null,
      "outputs": [
        {
          "output_type": "stream",
          "name": "stdout",
          "text": [
            "Collecting nnfs\n",
            "  Downloading nnfs-0.5.1-py3-none-any.whl (9.1 kB)\n",
            "Requirement already satisfied: numpy in /usr/local/lib/python3.10/dist-packages (from nnfs) (1.25.2)\n",
            "Installing collected packages: nnfs\n",
            "Successfully installed nnfs-0.5.1\n"
          ]
        }
      ]
    },
    {
      "cell_type": "code",
      "source": [
        "from nnfs.datasets import spiral_data"
      ],
      "metadata": {
        "id": "sVph53KrMQ-h"
      },
      "execution_count": null,
      "outputs": []
    },
    {
      "cell_type": "code",
      "source": [
        "import numpy as np\n",
        "import nnfs\n",
        "\n",
        "nnfs.init()"
      ],
      "metadata": {
        "id": "kxuxd0-PMXjV"
      },
      "execution_count": null,
      "outputs": []
    },
    {
      "cell_type": "code",
      "source": [
        "import matplotlib.pyplot as plt\n",
        "\n",
        "X, y = spiral_data(samples=100,classes=3)\n",
        "\n",
        "plt.scatter(X[:,0],X[:,1])"
      ],
      "metadata": {
        "colab": {
          "base_uri": "https://localhost:8080/",
          "height": 447
        },
        "id": "byL79tEIMi8k",
        "outputId": "de537002-39f4-4bc6-cb39-766c0c989f7c"
      },
      "execution_count": null,
      "outputs": [
        {
          "output_type": "execute_result",
          "data": {
            "text/plain": [
              "<matplotlib.collections.PathCollection at 0x7ea9756bf820>"
            ]
          },
          "metadata": {},
          "execution_count": 4
        },
        {
          "output_type": "display_data",
          "data": {
            "text/plain": [
              "<Figure size 640x480 with 1 Axes>"
            ],
            "image/png": "[encoded data removed]"
          },
          "metadata": {}
        }
      ]
    },
    {
      "cell_type": "code",
      "source": [
        "X.shape"
      ],
      "metadata": {
        "colab": {
          "base_uri": "https://localhost:8080/"
        },
        "id": "yS7EejVVNjCk",
        "outputId": "dc8152d1-649c-4911-b597-92a65b36471f"
      },
      "execution_count": null,
      "outputs": [
        {
          "output_type": "execute_result",
          "data": {
            "text/plain": [
              "(300, 2)"
            ]
          },
          "metadata": {},
          "execution_count": 5
        }
      ]
    },
    {
      "cell_type": "code",
      "source": [
        "plt.scatter(X[:,0],X[:,1],c=y,cmap='brg')\n",
        "plt.show()"
      ],
      "metadata": {
        "colab": {
          "base_uri": "https://localhost:8080/",
          "height": 430
        },
        "id": "zkitJdbINl8w",
        "outputId": "e7b49789-cc93-4c55-e8ea-13b0ee6f336a"
      },
      "execution_count": null,
      "outputs": [
        {
          "output_type": "display_data",
          "data": {
            "text/plain": [
              "<Figure size 640x480 with 1 Axes>"
            ],
            "image/png": "[encoded data removed]"
          },
          "metadata": {}
        }
      ]
    },
    {
      "cell_type": "markdown",
      "source": [
        "# Dense Layer Class"
      ],
      "metadata": {
        "id": "KTFpCnUYN6C4"
      }
    },
    {
      "cell_type": "code",
      "source": [
        "class Layer_Dense :\n",
        "\n",
        "  def __init__ (self,n_inputs,n_neurons):\n",
        "    # Initialize weights and biases\n",
        "    self.weights = 0.01 * np.random.randn(n_inputs,n_neurons)\n",
        "    self.biases = np.zeros((1,n_neurons))\n",
        "\n",
        "  def forward (self, inputs):\n",
        "    # Calculate output values from inputs, weights and biases\n",
        "    pass\n",
        "\n",
        "\n",
        "\n",
        "\n"
      ],
      "metadata": {
        "id": "LZoNqYisNzhc"
      },
      "execution_count": null,
      "outputs": []
    },
    {
      "cell_type": "code",
      "source": [
        "n_inputs = 2\n",
        "n_neurons = 4\n",
        "weights = 0.01 * np.random.randn(n_inputs, n_neurons)\n",
        "biases = np.zeros((1, n_neurons))\n",
        "\n",
        "print(weights)\n",
        "print(biases)"
      ],
      "metadata": {
        "colab": {
          "base_uri": "https://localhost:8080/"
        },
        "id": "8OUtFglHPxBE",
        "outputId": "f116e71b-234b-4e0f-ca35-d707d07da30c"
      },
      "execution_count": null,
      "outputs": [
        {
          "output_type": "stream",
          "name": "stdout",
          "text": [
            "[[-0.01306527  0.01658131 -0.00118164 -0.00680178]\n",
            " [ 0.00666383 -0.0046072  -0.01334258 -0.01346717]]\n",
            "[[0. 0. 0. 0.]]\n"
          ]
        }
      ]
    },
    {
      "cell_type": "code",
      "source": [
        "print(weights.shape)\n",
        "print(biases.shape)"
      ],
      "metadata": {
        "colab": {
          "base_uri": "https://localhost:8080/"
        },
        "id": "ne5YhsnUQLCc",
        "outputId": "8930cd11-2ec4-412f-97db-06fbf195d076"
      },
      "execution_count": null,
      "outputs": [
        {
          "output_type": "stream",
          "name": "stdout",
          "text": [
            "(2, 4)\n",
            "(1, 4)\n"
          ]
        }
      ]
    },
    {
      "cell_type": "code",
      "source": [
        "def forward(self,inputs):\n",
        "  self.output = np.dot(inputs, self.weights) + self.biases\n",
        "\n"
      ],
      "metadata": {
        "id": "zZErqUiUQQay"
      },
      "execution_count": null,
      "outputs": []
    },
    {
      "cell_type": "code",
      "source": [
        "class Layer_Dense :\n",
        "\n",
        "  def __init__ (self,n_inputs,n_neurons):\n",
        "    # Initialize weights and biases\n",
        "    self.weights = 0.01 * np.random.randn(n_inputs,n_neurons)\n",
        "    self.biases = np.zeros((1,n_neurons))\n",
        "\n",
        "  def forward (self, inputs):\n",
        "    # Calculate output values from inputs, weights and biases\n",
        "    self.output = np.dot(inputs, self.weights) + self.biases\n",
        "\n",
        "\n",
        "\n"
      ],
      "metadata": {
        "id": "l_IL2DQ2QkFw"
      },
      "execution_count": null,
      "outputs": []
    },
    {
      "cell_type": "code",
      "source": [
        "\n",
        "X,y = spiral_data(samples=100,classes=3)\n",
        "\n",
        "dense1 = Layer_Dense(2,3)\n",
        "\n",
        "dense1.forward(X)\n",
        "\n",
        "print(dense1.output[:5])"
      ],
      "metadata": {
        "colab": {
          "base_uri": "https://localhost:8080/"
        },
        "id": "JIbj35nCRWcf",
        "outputId": "eba0ca7d-4de5-4dc2-caa8-b6b4958f227f"
      },
      "execution_count": null,
      "outputs": [
        {
          "output_type": "stream",
          "name": "stdout",
          "text": [
            "[[ 0.00000000e+00  0.00000000e+00  0.00000000e+00]\n",
            " [-1.31364199e-04  6.02967229e-05  8.67048802e-05]\n",
            " [-2.57745094e-04  1.10809546e-04  1.31836452e-04]\n",
            " [-2.37008629e-04  3.64323641e-05 -2.13079562e-04]\n",
            " [-5.27272990e-04  2.65705719e-04  4.68976272e-04]]\n"
          ]
        }
      ]
    },
    {
      "cell_type": "markdown",
      "source": [
        "# Activation Functions\n"
      ],
      "metadata": {
        "id": "SPYqDegXRq8L"
      }
    },
    {
      "cell_type": "markdown",
      "source": [
        "ReLU Activation Function Code"
      ],
      "metadata": {
        "id": "hajhIwlxSyXd"
      }
    },
    {
      "cell_type": "code",
      "source": [
        "inputs = [0, 2, -1, 3.3, -2.7, 1.1, 2.2, -100]\n",
        "output = []\n",
        "for i in inputs:\n",
        "  if i > 0:\n",
        "    output.append(i)\n",
        "  else:\n",
        "    output.append(0)\n",
        "print(output)"
      ],
      "metadata": {
        "colab": {
          "base_uri": "https://localhost:8080/"
        },
        "id": "wxbQ1TP8RtVw",
        "outputId": "2b39f397-73e9-4914-a9db-b40d89449293"
      },
      "execution_count": null,
      "outputs": [
        {
          "output_type": "stream",
          "name": "stdout",
          "text": [
            "[0, 2, 0, 3.3, 0, 1.1, 2.2, 0]\n"
          ]
        }
      ]
    },
    {
      "cell_type": "code",
      "source": [
        "inputs = [0, 2, -1, 3.3, -2.7, 1.1, 2.2, -100]\n",
        "output = []\n",
        "for i in inputs:\n",
        "  output.append(max(0, i))\n",
        "print(output)\n"
      ],
      "metadata": {
        "colab": {
          "base_uri": "https://localhost:8080/"
        },
        "id": "EM5lqMiWS-Re",
        "outputId": "4cce8e04-f7b5-4072-a45d-c3697297184d"
      },
      "execution_count": null,
      "outputs": [
        {
          "output_type": "stream",
          "name": "stdout",
          "text": [
            "[0, 2, 0, 3.3, 0, 1.1, 2.2, 0]\n"
          ]
        }
      ]
    },
    {
      "cell_type": "code",
      "source": [
        "inputs = [0, 2, -1, 3.3, -2.7, 1.1, 2.2, -100]\n",
        "output = np.maximum(0, inputs)\n",
        "print(output)\n"
      ],
      "metadata": {
        "colab": {
          "base_uri": "https://localhost:8080/"
        },
        "id": "nYsjx3yXTGsG",
        "outputId": "8b2015a1-ba8c-4a83-cb74-ae5a4b076b44"
      },
      "execution_count": null,
      "outputs": [
        {
          "output_type": "stream",
          "name": "stdout",
          "text": [
            "[0.  2.  0.  3.3 0.  1.1 2.2 0. ]\n"
          ]
        }
      ]
    },
    {
      "cell_type": "code",
      "source": [
        "class Activation_ReLU :\n",
        "\n",
        "  def forward(self,inputs):\n",
        "\n",
        "    self.output = np.maximum(0,inputs)\n",
        "\n",
        "\n",
        "X,y = spiral_data(samples=100,classes=3)\n",
        "\n",
        "dense1= Layer_Dense(2,3)\n",
        "\n",
        "activation1 = Activation_ReLU()\n",
        "\n",
        "dense1.forward(X)\n",
        "\n",
        "activation1.forward(dense1.output)\n",
        "\n"
      ],
      "metadata": {
        "id": "uRNc5YnMTObu"
      },
      "execution_count": null,
      "outputs": []
    },
    {
      "cell_type": "code",
      "source": [
        "print(activation1.output[:5])\n",
        "activation1.output.shape"
      ],
      "metadata": {
        "colab": {
          "base_uri": "https://localhost:8080/"
        },
        "id": "8nhWHpQaUAP1",
        "outputId": "dabe7caf-9621-49a7-b5b0-f65939019338"
      },
      "execution_count": null,
      "outputs": [
        {
          "output_type": "stream",
          "name": "stdout",
          "text": [
            "[[0.0000000e+00 0.0000000e+00 0.0000000e+00]\n",
            " [1.5212569e-05 0.0000000e+00 8.0520593e-05]\n",
            " [3.4276658e-05 0.0000000e+00 2.2658255e-04]\n",
            " [2.7901324e-05 0.0000000e+00 1.0100688e-05]\n",
            " [3.5926967e-06 5.4750446e-05 0.0000000e+00]]\n"
          ]
        },
        {
          "output_type": "execute_result",
          "data": {
            "text/plain": [
              "(300, 3)"
            ]
          },
          "metadata": {},
          "execution_count": 24
        }
      ]
    },
    {
      "cell_type": "markdown",
      "source": [
        "# The Softmax Activation Function\n"
      ],
      "metadata": {
        "id": "jUPxJm0-UktR"
      }
    },
    {
      "cell_type": "code",
      "source": [
        "layer_outputs = [4.8, 1.21, 2.385]\n",
        "E = 2.71828182846\n",
        "exp_values = []\n",
        "for output in layer_outputs:\n",
        "  exp_values.append(E ** output) # ** - power operator in Python\n",
        "print('exponentiated values:')\n",
        "print(exp_values)\n",
        "\n"
      ],
      "metadata": {
        "colab": {
          "base_uri": "https://localhost:8080/"
        },
        "id": "GnmuIGI9Ud9A",
        "outputId": "e91ff08f-c7e1-45d0-9572-a53e997616af"
      },
      "execution_count": null,
      "outputs": [
        {
          "output_type": "stream",
          "name": "stdout",
          "text": [
            "exponentiated values:\n",
            "[121.51041751893969, 3.3534846525504487, 10.85906266492961]\n"
          ]
        }
      ]
    },
    {
      "cell_type": "code",
      "source": [
        "norm_base = sum(exp_values)\n",
        "norm_values = []\n",
        "for value in exp_values:\n",
        "  norm_values.append(value / norm_base)\n",
        "print('Normalized exponentiated values:')\n",
        "print(norm_values)\n",
        "print('Sum of normalized values:', sum(norm_values))"
      ],
      "metadata": {
        "colab": {
          "base_uri": "https://localhost:8080/"
        },
        "id": "_3g9hka8U9X4",
        "outputId": "04073197-0f71-4702-b771-e96ff0382d6d"
      },
      "execution_count": null,
      "outputs": [
        {
          "output_type": "stream",
          "name": "stdout",
          "text": [
            "Normalized exponentiated values:\n",
            "[0.8952826639573506, 0.024708306782070668, 0.08000902926057876]\n",
            "Sum of normalized values: 1.0\n"
          ]
        }
      ]
    },
    {
      "cell_type": "code",
      "source": [
        "def exp_output(layer_outputs):\n",
        "  exp_values = np.exp(layer_outputs)\n",
        "  print('exponentiated values:')\n",
        "  print(exp_values)\n",
        "  # Now normalize values\n",
        "  norm_values = exp_values / np.sum(exp_values)\n",
        "  print('normalized exponentiated values:')\n",
        "  print(norm_values)\n",
        "  print('sum of normalized values:', np.sum(norm_values))\n",
        "\n",
        "exp_output(layer_outputs)"
      ],
      "metadata": {
        "colab": {
          "base_uri": "https://localhost:8080/"
        },
        "id": "i_bVxztgVTEf",
        "outputId": "8b4a941c-50d4-4487-ffcc-47d4f713f8bb"
      },
      "execution_count": null,
      "outputs": [
        {
          "output_type": "stream",
          "name": "stdout",
          "text": [
            "exponentiated values:\n",
            "[121.51041752   3.35348465  10.85906266]\n",
            "normalized exponentiated values:\n",
            "[0.89528266 0.02470831 0.08000903]\n",
            "sum of normalized values: 0.9999999999999999\n"
          ]
        }
      ]
    },
    {
      "cell_type": "code",
      "source": [
        "import numpy as np\n",
        "# Values from the earlier previous when we described\n",
        "# what a neural network is\n",
        "layer_outputs = [4.8, 1.21, 2.385]\n",
        "# For each value in a vector, calculate the exponential value\n",
        "exp_values = np.exp(layer_outputs)\n",
        "print('exponentiated values:')\n",
        "print(exp_values)\n",
        "# Now normalize values\n",
        "norm_values = exp_values / np.sum(exp_values)\n",
        "print('normalized exponentiated values:')\n",
        "print(norm_values)\n",
        "print('sum of normalized values:', np.sum(norm_values))\n"
      ],
      "metadata": {
        "colab": {
          "base_uri": "https://localhost:8080/"
        },
        "id": "4z12Gh3JVuNO",
        "outputId": "615c60ec-57c9-43ec-ba65-0af87a2fa840"
      },
      "execution_count": null,
      "outputs": [
        {
          "output_type": "stream",
          "name": "stdout",
          "text": [
            "exponentiated values:\n",
            "[121.51041752   3.35348465  10.85906266]\n",
            "normalized exponentiated values:\n",
            "[0.89528266 0.02470831 0.08000903]\n",
            "sum of normalized values: 0.9999999999999999\n"
          ]
        }
      ]
    },
    {
      "cell_type": "code",
      "source": [
        "# Get unnormalized probabilities\n",
        "exp_values = np.exp(inputs)\n",
        "# Normalize them for each sample\n",
        "probabilities = exp_values / np.sum(exp_values, axis=1, keepdims=True)\n"
      ],
      "metadata": {
        "colab": {
          "base_uri": "https://localhost:8080/",
          "height": 339
        },
        "id": "0PmxKsd8VeUu",
        "outputId": "a436286e-7a7c-4ee9-92ba-e53e3f0fb995"
      },
      "execution_count": null,
      "outputs": [
        {
          "output_type": "error",
          "ename": "AxisError",
          "evalue": "axis 1 is out of bounds for array of dimension 1",
          "traceback": [
            "\u001b[0;31m---------------------------------------------------------------------------\u001b[0m",
            "\u001b[0;31mAxisError\u001b[0m                                 Traceback (most recent call last)",
            "\u001b[0;32m<ipython-input-31-f6cf35d57cc5>\u001b[0m in \u001b[0;36m<cell line: 4>\u001b[0;34m()\u001b[0m\n\u001b[1;32m      2\u001b[0m \u001b[0mexp_values\u001b[0m \u001b[0;34m=\u001b[0m \u001b[0mnp\u001b[0m\u001b[0;34m.\u001b[0m\u001b[0mexp\u001b[0m\u001b[0;34m(\u001b[0m\u001b[0minputs\u001b[0m\u001b[0;34m)\u001b[0m\u001b[0;34m\u001b[0m\u001b[0;34m\u001b[0m\u001b[0m\n\u001b[1;32m      3\u001b[0m \u001b[0;31m# Normalize them for each sample\u001b[0m\u001b[0;34m\u001b[0m\u001b[0;34m\u001b[0m\u001b[0m\n\u001b[0;32m----> 4\u001b[0;31m \u001b[0mprobabilities\u001b[0m \u001b[0;34m=\u001b[0m \u001b[0mexp_values\u001b[0m \u001b[0;34m/\u001b[0m \u001b[0mnp\u001b[0m\u001b[0;34m.\u001b[0m\u001b[0msum\u001b[0m\u001b[0;34m(\u001b[0m\u001b[0mexp_values\u001b[0m\u001b[0;34m,\u001b[0m \u001b[0maxis\u001b[0m\u001b[0;34m=\u001b[0m\u001b[0;36m1\u001b[0m\u001b[0;34m,\u001b[0m \u001b[0mkeepdims\u001b[0m\u001b[0;34m=\u001b[0m\u001b[0;32mTrue\u001b[0m\u001b[0;34m)\u001b[0m\u001b[0;34m\u001b[0m\u001b[0;34m\u001b[0m\u001b[0m\n\u001b[0m",
            "\u001b[0;32m/usr/local/lib/python3.10/dist-packages/numpy/core/fromnumeric.py\u001b[0m in \u001b[0;36msum\u001b[0;34m(a, axis, dtype, out, keepdims, initial, where)\u001b[0m\n\u001b[1;32m   2311\u001b[0m         \u001b[0;32mreturn\u001b[0m \u001b[0mres\u001b[0m\u001b[0;34m\u001b[0m\u001b[0;34m\u001b[0m\u001b[0m\n\u001b[1;32m   2312\u001b[0m \u001b[0;34m\u001b[0m\u001b[0m\n\u001b[0;32m-> 2313\u001b[0;31m     return _wrapreduction(a, np.add, 'sum', axis, dtype, out, keepdims=keepdims,\n\u001b[0m\u001b[1;32m   2314\u001b[0m                           initial=initial, where=where)\n\u001b[1;32m   2315\u001b[0m \u001b[0;34m\u001b[0m\u001b[0m\n",
            "\u001b[0;32m/usr/local/lib/python3.10/dist-packages/numpy/core/fromnumeric.py\u001b[0m in \u001b[0;36m_wrapreduction\u001b[0;34m(obj, ufunc, method, axis, dtype, out, **kwargs)\u001b[0m\n\u001b[1;32m     86\u001b[0m                 \u001b[0;32mreturn\u001b[0m \u001b[0mreduction\u001b[0m\u001b[0;34m(\u001b[0m\u001b[0maxis\u001b[0m\u001b[0;34m=\u001b[0m\u001b[0maxis\u001b[0m\u001b[0;34m,\u001b[0m \u001b[0mout\u001b[0m\u001b[0;34m=\u001b[0m\u001b[0mout\u001b[0m\u001b[0;34m,\u001b[0m \u001b[0;34m**\u001b[0m\u001b[0mpasskwargs\u001b[0m\u001b[0;34m)\u001b[0m\u001b[0;34m\u001b[0m\u001b[0;34m\u001b[0m\u001b[0m\n\u001b[1;32m     87\u001b[0m \u001b[0;34m\u001b[0m\u001b[0m\n\u001b[0;32m---> 88\u001b[0;31m     \u001b[0;32mreturn\u001b[0m \u001b[0mufunc\u001b[0m\u001b[0;34m.\u001b[0m\u001b[0mreduce\u001b[0m\u001b[0;34m(\u001b[0m\u001b[0mobj\u001b[0m\u001b[0;34m,\u001b[0m \u001b[0maxis\u001b[0m\u001b[0;34m,\u001b[0m \u001b[0mdtype\u001b[0m\u001b[0;34m,\u001b[0m \u001b[0mout\u001b[0m\u001b[0;34m,\u001b[0m \u001b[0;34m**\u001b[0m\u001b[0mpasskwargs\u001b[0m\u001b[0;34m)\u001b[0m\u001b[0;34m\u001b[0m\u001b[0;34m\u001b[0m\u001b[0m\n\u001b[0m\u001b[1;32m     89\u001b[0m \u001b[0;34m\u001b[0m\u001b[0m\n\u001b[1;32m     90\u001b[0m \u001b[0;34m\u001b[0m\u001b[0m\n",
            "\u001b[0;31mAxisError\u001b[0m: axis 1 is out of bounds for array of dimension 1"
          ]
        }
      ]
    },
    {
      "cell_type": "code",
      "source": [
        "import numpy as np\n",
        "layer_outputs = np.array([[4.8, 1.21, 2.385],\n",
        "[8.9, -1.81, 0.2],\n",
        "[1.41, 1.051, 0.026]])\n",
        "print('Sum without axis')\n",
        "print(np.sum(layer_outputs))\n",
        "print('This will be identical to the above since default is None:')\n",
        "print(np.sum(layer_outputs, axis=None))"
      ],
      "metadata": {
        "colab": {
          "base_uri": "https://localhost:8080/"
        },
        "id": "T7ENq8sgWHMx",
        "outputId": "6e3b5b13-9092-462a-f03f-4fc00cb23d82"
      },
      "execution_count": null,
      "outputs": [
        {
          "output_type": "stream",
          "name": "stdout",
          "text": [
            "Sum without axis\n",
            "18.172\n",
            "This will be identical to the above since default is None:\n",
            "18.172\n"
          ]
        }
      ]
    },
    {
      "cell_type": "code",
      "source": [
        "layer_outputs.shape"
      ],
      "metadata": {
        "colab": {
          "base_uri": "https://localhost:8080/"
        },
        "id": "B8QZFIydWOQ2",
        "outputId": "b23f4f36-4e6f-4220-ad96-2e8f6c4951e8"
      },
      "execution_count": null,
      "outputs": [
        {
          "output_type": "execute_result",
          "data": {
            "text/plain": [
              "(3, 3)"
            ]
          },
          "metadata": {},
          "execution_count": 33
        }
      ]
    },
    {
      "cell_type": "code",
      "source": [
        "print('Another way to think of it w/ a matrix == axis 0: columns:')\n",
        "print(np.sum(layer_outputs, axis=0))"
      ],
      "metadata": {
        "colab": {
          "base_uri": "https://localhost:8080/"
        },
        "id": "H9vMzy6HWQXG",
        "outputId": "f1b410db-8fd8-498a-ede9-00e51f412db3"
      },
      "execution_count": null,
      "outputs": [
        {
          "output_type": "stream",
          "name": "stdout",
          "text": [
            "Another way to think of it w/ a matrix == axis 0: columns:\n",
            "[15.11   0.451  2.611]\n"
          ]
        }
      ]
    },
    {
      "cell_type": "code",
      "source": [
        "print('But we want to sum the rows instead, like this w/ raw py:')\n",
        "for i in layer_outputs:\n",
        "  print(sum(i))"
      ],
      "metadata": {
        "colab": {
          "base_uri": "https://localhost:8080/"
        },
        "id": "-kMa60lrWfAP",
        "outputId": "40b98a1c-614b-4a3b-ec96-0647203945a1"
      },
      "execution_count": null,
      "outputs": [
        {
          "output_type": "stream",
          "name": "stdout",
          "text": [
            "But we want to sum the rows instead, like this w/ raw py:\n",
            "8.395\n",
            "7.29\n",
            "2.4869999999999997\n"
          ]
        }
      ]
    },
    {
      "cell_type": "code",
      "source": [
        "print('So we can sum axis 1, but note the current shape:')\n",
        "print(np.sum(layer_outputs, axis=1))"
      ],
      "metadata": {
        "colab": {
          "base_uri": "https://localhost:8080/"
        },
        "id": "1KyRxDb4WoLE",
        "outputId": "ca3041c5-665f-4243-90b6-1d0668d29cbd"
      },
      "execution_count": null,
      "outputs": [
        {
          "output_type": "stream",
          "name": "stdout",
          "text": [
            "So we can sum axis 1, but note the current shape:\n",
            "[8.395 7.29  2.487]\n"
          ]
        }
      ]
    },
    {
      "cell_type": "code",
      "source": [
        "class Activation_Softmax:\n",
        "  def forward(self,inputs):\n",
        "    exp_values = np.exp(inputs - np.max(inputs,axis=1,keepdims=True))\n",
        "\n",
        "    probabilities = exp_values / np.sum(exp_values, axis=1,keepdims=True)\n",
        "\n",
        "    self.output = probabilities\n",
        "\n",
        "\n"
      ],
      "metadata": {
        "id": "2ftgasKnXaEf"
      },
      "execution_count": null,
      "outputs": []
    },
    {
      "cell_type": "code",
      "source": [
        "np.max(layer_outputs,axis=1,keepdims=True)"
      ],
      "metadata": {
        "colab": {
          "base_uri": "https://localhost:8080/"
        },
        "id": "IbqIR3MgYERv",
        "outputId": "97eb228f-42c3-4383-d364-724cc18b005e"
      },
      "execution_count": null,
      "outputs": [
        {
          "output_type": "execute_result",
          "data": {
            "text/plain": [
              "array([[4.8 ],\n",
              "       [8.9 ],\n",
              "       [1.41]])"
            ]
          },
          "metadata": {},
          "execution_count": 42
        }
      ]
    },
    {
      "cell_type": "code",
      "source": [
        "import numpy as np\n",
        "print(np.exp(1))"
      ],
      "metadata": {
        "colab": {
          "base_uri": "https://localhost:8080/"
        },
        "id": "U67Kfw9DZI7v",
        "outputId": "30355f5c-f485-4049-98d5-16be51375ec8"
      },
      "execution_count": null,
      "outputs": [
        {
          "output_type": "stream",
          "name": "stdout",
          "text": [
            "2.718281828459045\n"
          ]
        }
      ]
    },
    {
      "cell_type": "code",
      "source": [
        "print(np.exp(10))\n"
      ],
      "metadata": {
        "colab": {
          "base_uri": "https://localhost:8080/"
        },
        "id": "ymO3Ur4OZK1O",
        "outputId": "948532f3-ec15-4905-b361-d81f7fcd1240"
      },
      "execution_count": null,
      "outputs": [
        {
          "output_type": "stream",
          "name": "stdout",
          "text": [
            "22026.465794806718\n"
          ]
        }
      ]
    },
    {
      "cell_type": "code",
      "source": [
        "print(np.exp(1000))\n"
      ],
      "metadata": {
        "colab": {
          "base_uri": "https://localhost:8080/"
        },
        "id": "fUQSSBvjZONX",
        "outputId": "9fa84889-8745-4753-fbba-d03046d165ef"
      },
      "execution_count": null,
      "outputs": [
        {
          "output_type": "stream",
          "name": "stdout",
          "text": [
            "inf\n"
          ]
        },
        {
          "output_type": "stream",
          "name": "stderr",
          "text": [
            "<ipython-input-45-c2155d66b4f0>:1: RuntimeWarning: overflow encountered in exp\n",
            "  print(np.exp(1000))\n"
          ]
        }
      ]
    },
    {
      "cell_type": "code",
      "source": [
        "import numpy as np\n",
        "print(np.exp(-np.inf), np.exp(0))"
      ],
      "metadata": {
        "colab": {
          "base_uri": "https://localhost:8080/"
        },
        "id": "MuXzTOaQZSxv",
        "outputId": "f713e7d5-a7f5-4211-f6f0-c84ef61aa456"
      },
      "execution_count": null,
      "outputs": [
        {
          "output_type": "stream",
          "name": "stdout",
          "text": [
            "0.0 1.0\n"
          ]
        }
      ]
    },
    {
      "cell_type": "code",
      "source": [
        "softmax = Activation_Softmax()"
      ],
      "metadata": {
        "id": "zuUU8Gf1ZYu_"
      },
      "execution_count": null,
      "outputs": []
    },
    {
      "cell_type": "code",
      "source": [
        "softmax.forward([[1, 2, 3]])\n",
        "print(softmax.output)"
      ],
      "metadata": {
        "colab": {
          "base_uri": "https://localhost:8080/"
        },
        "id": "orS7wqu0Zay_",
        "outputId": "c9d759a4-738d-4373-e97e-2933a80d1557"
      },
      "execution_count": null,
      "outputs": [
        {
          "output_type": "stream",
          "name": "stdout",
          "text": [
            "[[0.09003057 0.24472847 0.66524096]]\n"
          ]
        }
      ]
    },
    {
      "cell_type": "code",
      "source": [
        "softmax.forward([[-2, -1, 0]]) # subtracted 3 - max from the list\n",
        "print(softmax.output)\n"
      ],
      "metadata": {
        "colab": {
          "base_uri": "https://localhost:8080/"
        },
        "id": "5VT-wmH3l4ZD",
        "outputId": "96a39c70-10b0-4ae7-e672-f7279efbce3a"
      },
      "execution_count": null,
      "outputs": [
        {
          "output_type": "stream",
          "name": "stdout",
          "text": [
            "[[0.09003057 0.24472847 0.66524096]]\n"
          ]
        }
      ]
    },
    {
      "cell_type": "code",
      "source": [
        "softmax.forward([[0.5, 1, 1.5]])\n",
        "print(softmax.output)"
      ],
      "metadata": {
        "colab": {
          "base_uri": "https://localhost:8080/"
        },
        "id": "lJyfLk2ql5ys",
        "outputId": "d8507de2-537b-4fa1-e0b8-5cf338603aa2"
      },
      "execution_count": null,
      "outputs": [
        {
          "output_type": "stream",
          "name": "stdout",
          "text": [
            "[[0.18632372 0.30719589 0.50648039]]\n"
          ]
        }
      ]
    },
    {
      "cell_type": "code",
      "source": [
        "X,y = spiral_data(samples=100,classes=3)\n",
        "\n",
        "dense1 = Layer_Dense(2,3)\n",
        "dense2 = Layer_Dense(3,3)\n",
        "activation = Activation_Softmax()\n",
        "activation2 = Activation_Softmax()"
      ],
      "metadata": {
        "id": "R0D_TC81mIyB"
      },
      "execution_count": null,
      "outputs": []
    },
    {
      "cell_type": "code",
      "source": [
        "dense1.forward(X)\n",
        "activation.forward(dense1.output)\n",
        "dense2.forward(activation.output)\n",
        "activation2.forward(dense2.output)\n",
        "\n"
      ],
      "metadata": {
        "id": "Pr1htBTgmiHu"
      },
      "execution_count": null,
      "outputs": []
    },
    {
      "cell_type": "code",
      "source": [
        "print(activation2.output[:5])\n"
      ],
      "metadata": {
        "colab": {
          "base_uri": "https://localhost:8080/"
        },
        "id": "iVcvq-JAnLIX",
        "outputId": "c49b080f-7001-4c86-f13d-91afb72be4d8"
      },
      "execution_count": null,
      "outputs": [
        {
          "output_type": "stream",
          "name": "stdout",
          "text": [
            "[[0.33429492 0.33144158 0.3342635 ]\n",
            " [0.33429492 0.3314416  0.3342635 ]\n",
            " [0.33429483 0.33144173 0.33426344]\n",
            " [0.33429477 0.3314418  0.33426338]\n",
            " [0.334295   0.3314416  0.33426344]]\n"
          ]
        }
      ]
    },
    {
      "cell_type": "markdown",
      "source": [
        "# Calculating Network Error with Loss"
      ],
      "metadata": {
        "id": "S_UbnUENny2f"
      }
    },
    {
      "cell_type": "markdown",
      "source": [
        "# Categorical cross-entropy\n",
        "![image.png](data:image/png;base64,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)"
      ],
      "metadata": {
        "id": "ESHS4bGOn9Bv"
      }
    },
    {
      "cell_type": "markdown",
      "source": [],
      "metadata": {
        "id": "AFb5YSVSdc-j"
      }
    },
    {
      "cell_type": "code",
      "source": [
        "softmax_output = [0.7, 0.1, 0.2]"
      ],
      "metadata": {
        "id": "veCEpT6Bn3pK"
      },
      "execution_count": null,
      "outputs": []
    },
    {
      "cell_type": "code",
      "source": [
        "softmax_output = [0.7, 0.1, 0.2]\n",
        "# Ground truth\n",
        "target_output = [1, 0, 0]\n",
        "loss = -(math.log(softmax_output[0])*target_output[0] +\n",
        "math.log(softmax_output[1])*target_output[1] +\n",
        "math.log(softmax_output[2])*target_output[2])\n",
        "print(loss)\n"
      ],
      "metadata": {
        "colab": {
          "base_uri": "https://localhost:8080/"
        },
        "id": "JQJFkZGooSsz",
        "outputId": "f37214be-35d8-4b7a-84a4-82f0cd676d23"
      },
      "execution_count": null,
      "outputs": [
        {
          "output_type": "stream",
          "name": "stdout",
          "text": [
            "0.35667494393873245\n"
          ]
        }
      ]
    },
    {
      "cell_type": "markdown",
      "source": [
        "![image.png](data:image/png;base64,iVBORw0KGgoAAAANSUhEUgAAAhcAAAA9CAYAAAAecUsxAAAAAXNSR0IArs4c6QAAAARnQU1BAACxjwv8YQUAAAAJcEhZcwAAEnQAABJ0Ad5mH3gAACZCSURBVHhe7Z0HeFRVFscPTYoivfdOqCH03ntRBAQUAUHdXRfd1VWBtaGg7MIqiOxKVRRBQKSXkAIhJKQQegKBJIQeegelvj3/M+9NZpKZBMIAQc/vIx/z7rx5894tp91z72QxiPifoiiKoiiKZ8hq/q8oiqIoiuIR1LhQFEVRFMWjqHGhKIqiKIpHSZ1zYWgKhqIoiqIod4+RJUtQFqI25qFGLhRFURRF8SxqXCiKoiiK4lHUuFAURVEUxaOocaEoiqIoikdR40JRFEVRFI+ixoWiKIqiKB5FjQtFURRFUTyKGheKoiiKongUNS4URVEURfEoalwoiqIoiuJR1LhQFEVRFMWjqHGhKIqiKIpHUePCDefOnaN9+/ZTdHQ0Xbx40Sx98Jw9e5amTZthHqXm8uXLfD+XzKP759ixYzR//gL69ddfzZLHiwsXLnA77aOdO3fSb7/9ZpY+etB/9u6Npd27d0sfunXrlvmOcq8cSEykmJgYrs+9ZknmAzJi9+5oOnz4sFmSmpMnT1JCQoK8vnr1Ku3Zs1f6SWYEdQ1ZBE6dOkWxsbF048YNOc4MHDx4SOoPYyuj2J5rn4zRK1eumKXpg3Pj4uKlvY8fP26WKinJsHEBQT5lylR6/fW/Up/ez8n/H3zwIYWHR5hnPN5gYM2ZM4f6932eYll5PQxgOPzyy1Lq1KmjWeIMDIB58+az8TGNfvWQIi1VqhSVKVOa/AMCzJLHiyNHjtDMGTNp6OAhdOLECbP00XPk6DEaPWo0959+NOq9UfckvBy5c+cOhYSGUmLiQbMkc2MYBm3ZEiUGnyeA0g7w86cRr4+gxT8vNkszF5cuXaIvv5xE59nQnTjxC+6HJ813nJkyeQoNHTKUDhw4IPUzsH9/Wr58hflu5uHgwYN8bwNoyldfy/HiX5bQiwNfkPLMQnh4OP1z9D9p/OfjzZJ759ChwzT1669p+NBhlJTkWnagP0dFbRUjxOL8+fO0YvlyGjzoJYqM3GKW2rh9+w6tXbtWnLY/Ohk2LnLlykVvvjmCWrZqRQfYGn/77bdo3Lix1KRJY/OMx5sqVarQO+/8g57O97RZ8uCBBV2gYH6qWLGCWeLMunV+VLVaVWrVuhUtX7aCrl+/br5zfzRt2oT2xOyl+Ph4s+TxoXbt2tR/wAAqUaIE5X364bVVetStU5umz5hGd1g4QUBllKNspIz58COKe0za5gwb5Z+NHStenSfIly8fDR4ymIoXL0ZNmjY1SzMXGzcG062bN6l4sWIUFhpCV6+6NiQ7dOpArdu0kXFbtmxZGvjiC3TBTRTy9OnT9P33P8j/D5v8+fPToMGDpe8islLP25u69+xJh9KIyjxsBgzoTzVq1mB9k/E+0bBhA+rcpQuV4baoUqWyWerMWX7+z8aNo127dpklxM5YGXqeDUPowKpVq5qlNuLi42jkO+/S8eNJZokNGKBwVjOTA/Sgue9pkZ3bt5NXzVoyWH5vIJSdLVs28+jBcpOF04KfFlLzZs3MEmeOHDlKBQsWpJYtWlDTJk2oWLGiEhr0BNmzZ6du3brSooWLxFN+3IiIiKB6PvWpENdPZgJ1ibq9H6BUv5/7A7Vu1dIsydwUYMX032/+R927dzNL7h8IZPT/IkUKmyWZCz/fdVS7Th2WgWVo+coVbmVh27Ztadiwl+nGjZtUuHBhGjVqFJUt5/rcw4eP0HezZ1OWLFnMkocHjAs4Vg0b1qennnpKnI8hbOA98URO84xHD6ZDt2/dRj71fcySjLGNr9E4DYc4Pxu3U/87lXr06G6W2Lhw4TzXRw7Km/cps8RGOW77Net8ycennlliA9MnX0z8DzsaZsEfgPs2LhCeatasKVf0E2aJkhG2b99BxUsUo5IlS5olzmDqohUrmBw5cshx27ZtqFo1Z6v5fqjDnnZMdMxjF87DPPDm0ND7FjKZFYwrTF3lzJl5BHtawJjC/ebOndssuX/Onj3HSpaoQgXXEb1HCebto3fvpurVq4sni2e3xqgr4BBYdYOowBNuzoWnXKt2bTFCHgWYxvvt+g27XMeUT6lSrmXTowB1d+nSRTaE8pklGWNrVBTVrFXLPEqN1Z/z5MljltjYtStaPocohiNo29KlS6dySvfs3UvVuI+UKFHcLPn9c1/Gxe7oaDrBFll1Ly+z5I8DBB6sUSRpuQp7Iz8C83jwuq5duyaWdlh4BB09etQ8IxnbPPUWqt+ggVmSDN7Dd1jJVQ8SrxpetHNncvjvYfLrr79JXSHRzR2I7qAuHMH5EO7VqleTOkKbpJWAi/Akzjl1yjncjHlUfD/q+/bt2/Iaf64iOWhLXCMjbYK+AAPu+LHjco20klAv8r0m8T24SwbFs+Mek5KS7jqZFXWD813Vs63PJsk9AlwTx8ghQN2nBxQS7jdl4h/qC/eJegW4h/Tq79y58/LdmELYuXMH1fPxkSkSR/Ce9fyukg3RV/A+3sMfXsMYuBtQ5yf5XNwn7t8dZ86coZu3bt6VMQWFiGtZ056QnzV4zLkiCvKgfn3zyIbVPlby9fnztn5otRdA3pb1zHcD2gT1hOs49on4+ASqZob8r7ORcSAhUaZ90gPXOnnylNSf1T4os/oP/kcZxiHAd+K7reOUYFzifbSb1X/A4SNHZMoaBifed5cYi2kl1Jmr/rt//34ei0fZsarD59ju03G8S3/mcld1uTk0hB0a5/ZBf8azuSJ6dzQ1adLEPEoGdXWa+9DvkWxjiPifA2OcD9Ni186dFOAfQCPeGCGhtN8b6PiLFi6UebnSbL1aBG0IotDNoZT3yado7779tHnzZokiWB4LPjd16lQWOiyguMP+vGgxD57L4qWsWeNLLVu2kPMs0HknfTmJevfuncpT2cHKPuFAAs35bg5VqlRJpkZAXFwcLeB7a9SwoRx7gss8mJAl3ry566mZBwWePyBwPZ1lhfLD9z9Q46ZN7B7T9OkzqECBAvzcBSg0dDONeP11ate+vV3RbNu+nfzX+ZF3vXo8sE+KQvzyy8lUt24detohBwOCLjg4mNb5+VPep/LSnj17RNAjIoT/AwI3UCD3ZbCPhQ4Uy6qVq+U+cA5Au/rzOWjvJ7ntYRCCYm6ELoTT3B9+kLHRp28f8WxDQ0LolWHDadGin2WFS81aNalIkSLmJ5KBoPLje0VGPNq6VgrvCvc8b95P8hrKBnWDvJOUHpYjyKxfsGAR5c2bl+ttB8XujaVLrIxKl7b17dVr1ooQ/2XxL1ShYkWpq2xZs1FAQICsgqjF9+oOKIc1/PlDhw5RWFgYNTANZdTZsuUrJZ/oFAt61AkMWAjx6dNmUJmyZVI9P5LCca08eXJTVNQ2CuTvb9a8OXl71zXPIEmKnD37W8qWPYdcMyDA366ModgiIrfwOYm0c9cuGYMwAo6yQbdkyVLKXyA/FS/u3oO8cOEit9uPopiQoPfDD3OpfPny0g8tbGP8f+S7di0lxMdzv7tOMdyn0O/cTYUhalG5SmXpuzACrvA1ataoYb4LQ+WsJIb6cX9ez8+clb1f1GXBQgXlfjcEbaT4uHh5v3DhQiyDwsRIXb9+vUxdoA3WrfOX5xZnxYzmYXx9x/ID0a+iRYtKGcB4mTt3Lhuxl8WoXrV6tdwP+nwcGxeob3jgZ86clj7u+FlXHOS2R/7JsmXLqETJErSF2+AaOw3BQcF0lQ0gGALoB+jTM2fOptq1a5EvPwvqYfasb6ldu7ZOHj/GGp4ZY83f31/a0MpxWLJkCV27+qu0D1y7BQsWSP8vVKiQvI/xjn4bEbGF+0g22rVrNwUGBor8tGQojItgvt+C/BlcIzBgvRhquE9bf/aVpM/Q0FBqmELOjhs7VvIu0C8AprEwPRvIcgRRNkyNQRb9Z+IX5Ovry+2yjsuzUmRkpPRrRDywmiwmZo/IArRv0aK2cYCx9s0306hFC2c9ken55JOD/Oi2CgFcqfC7k//ugX/9619Gz+49DW50syTj8MAzJk6YYIz//PO7+BtvBAdvMj/54GAr1GjetJkRHhFhlhjGhg1BxqiRowwWaHLMgsxYt87PGDPmU4O9byn7+uupxsSJ/5HXeH/Mx58Y/536P3nNAkvKHWHlYDRt0sxghWGW2MD3L1223GCL3Rg+bLixbPkK8x3DYMFq/PX1EeaRZ9i+fbvxp9f+bB49PCIjtxiscAweVEbrlq2NhIQEKefBbzRr0lT+BwcPHjTatWlnsKCQY7Bw4SKjgU99Y0tUlNQT+MdbbxnzfpwnrwELGmPx4l+Mv//tLXkN2NMxJvx7orwOCAw0WCkaK1asNDq27yj3g7Zq0byFsXTpUjkHbcQD3hg//l8GC2spY++J22G2vHYFe1RGTa8aRrcu3Qz2wOT+WPgYg158ydi3b7/BCkq+xxVLly432MAwWKgaw4e/YpbawHXQxzZtCpFjXOPTT8YaYeHJ/TQlLMSM/v36S58C8fHxhnedusb69UFyzN6d4ecfyG1wxGjUoKExefJXUkcgMTGRx0Fzee2ONWt9jSS+dlhYuNGDZYIFGz3yrBg3bdu05ecPtD/zrJmzZCw7grp/eegwHgsXzeNIw6tqdSMqaqscg/1xcUbvZ541YmP3yTEbKsakSZOlvgAbjsZGUz6gDdq0bmusXr3GYIOR+09bw9d3nbznClb6Ut9BQRvt/SkkJNR4Y8SbBisLOQb4TrTfvPk/Ga8Mf1Ve4+9+wPfhGlFbt3G/byYyEXKGvW7j6NGjRuD6DUYijwGfut7GrFnfSj1+NXmKMeSlIQYrRWPVqjUsX86IvOr9bG/zqra2rVe3noxvCza4jBcGvCDtY7XHipWruK1sdZoRIKtu3rzF4+rfxvPc144eOybluPeunbtKf1q8eInBBq3Ro1sP46OPxhisxI3Vq1bLM+GeLNgYMj79dKxx8aKtH5w9e854ptcz3G9tsqFf3348nv9unONxBdZv2GC89+578hpg3I4eNVrqDizje6tSqbL0HYtvpk032rdtx/37oBwf4H7+bK9njTPcj9ZyH0G9oS67de0u71ts27bd8PGuZx9LYAHLIbTVrFmz7bIfoD1jY2ONpo2bSL/EOZAfqIOFixZL3Y8e/U/jp58Wmp8wjCW/LDH69ulnHj0+3CHa4GhLZHhaBN5SBHsYjRo3tluL98OTTz5JHTp2kihB+n+dZR7sYQOrdtIXX1KXrl3lfgEsbUwnbAgMYM8kUcpWrVhBFdnzA3i/XPly4n3htbs51BtsaadM3kpkT6dK5Up05OhR2rljB1WuVMl8h8QCbtS4kXmUNgns5Y0dN46WLF1mlriG+wclnXj467bjEw5QpUoVJRSLOVQrCoapp5zs7VvH5cqVo7bt2zv1N/TB3s89Rz716lHWrFnFIz57/rzTVAKWcf5nwgQa/spwe0QEkYGS5hzymTPnxDODN4wICPJP0Fb/++YbatWqlZyDiM53335LAwYOsEeoTrLnV6RI2t6cBdp2wYKF7HEtpgkT/80eWBWJMjh6ahbw0K7fuC4eFjwrhG0dYYFF69gbymeuZEK7oY4quVllhPlyeFp9n+9nj7LkzJmLcuXKbfeW4KGVKVOKLl68wBck6sp93PLUWYCnOS2CcXEa3i17tvDeHO83iesIkR9EX+ARNmvWzP7MV69d5esmh5wRUv7g/fdpyNAh9mfLk+dJKsD1gARmAI/ys7HjqEu37vacI3jmiF5YHikLf6pvJtTh3k6dSKLKlSvT03nz0ldfT0kzMvfj3HlUIH8BOQf9CSACtm1rlHjmFmhPtF/8vn1UtZqtLdOKGt0N+D5cA2H8ijwekMwLOYNICJY2lytbhi6cv0DZuQ+3b99O6rH3c71pzKdjuN8b3E7nJKIRFhrmFOnCuMqZKyePMduKCIwNRAhLlCxJDRrUt7cHlnUjupYRMNUFGZY9ezYeb4eoa7euVMohfwzts33HLipUuCDduX2bTp8+RV1YjiOKhoTKufPn2WUjogyzZsyU5Fcr+ojIJeoC0Tck9yJa9Nqf/iQJxCB37jySewUwjidPmkwvDnrRHkVCYmq5cuWpopm3g/4cGR5Of379dSrP8hngvpKSjtM5ljunTp6SSE1keKTIA0eSjh+XurR0APYuycf3ie/aGBRENWsmR/jQnpj6wPiE/MJnID8SuE0q8PciQhoRFi7ywGLbtm3UvEVz8+jxJcPGBQb53j17qEHD1HkCABtQWfNXCC/26dNXwl/uwKBAGK4eC/e7+XO3XNOCPRX68P0P0v37+KOPuMPGmJ9KGwzS6N27Us39lildWjqNFSaHkHOcA4fJYClIV0CYYM42pXFRvVo1qlGjBh3lQV+yZCl7KBeddRcbGwgrWvz882Ka/9MC88iZCuXLUx4efPnTWVYLIXPjN88sb70XunXtLIMQCrNbjx52JbGDnxHzmo5hcywbK1myhLxGve3csZ3ad+hgVwRQvDG7ognJUxZYk442y8GDH4ly7GFJKLl7d1sGeCtzmiokOJjatG1jT55E/eJe2KOk+fPmi3EHAYrk20Vc3zF79kooNz2uc1+YPOkr+viDD6hp02ZphuQB+kK3rl3k+fz9/CSR1xHcH6bIhrw0mN59510KDFwvhpOr6RUQy4bR3pgYCZ1bYM+C7NzeVl1CUWOOHUZGbRamjsIO0yeYvnEHhGUvbjcYbOvWrqWez/Q03yHqwEoQzwPB34WfyVJeGB9RW6KorndyVj0MZgh2x+XsmEqowGPdGj8Q5FvYgIFgxrRSwPoNNHPmLJYvfeR9AKVlF/wHEqkcKxQsNcR3Q+lC0bgC+VAzpk+jXs/0cprauHPntvSr27eS5/wtkDdRpYrnEqshMzeHhFCz5i2cknjxvDAME9gQr1O7jt0ohOGG0DyUeq+ePcQwXbNmFXXq3FneB4lcB40aNrKvbEB+wvfffSdLOVGfwSGhNGPGLKorK14ytuoP4wv1DlmP6XLvuslTWMjZOM+Gz1NPPUk1a9QU3QDn1OpjcBYg5zCGofS/nT2b2nG/cXQgcf5ZfrbfePzhO/Lly8+GR17zXZvCv8HfA1atXEXFSxSXa1og56Fho4Z2OQFjB/fp+Ly4NtoZ5/Tq1UPyPdb5rqVnnn3WPMPGjh07xbGz+lGBAgVFDmDs7Ni+PVWiPaaHGjdp4mR8litXVgw7GDFZ2JqHIQnQNlu2RNqnFR9nMmxcwLqEoMU8V0rQQMgVsBoSFun48Z+zgnOf9IRBBYv6bv8sw8UdUAz9+j+f7l/ffv3sAzU9kGAHrOdygg2DEydsyWIvDBokwhRKCXOrUVFRNJStcHdgYLp6HnjxuIbvWl/q0LEDD0Kb0sUcKOZjHeeA27RpTZ34HFdc44GJyEfBgmlHmG6x8MyS1dnAeRjg+aGYoEiteWIQwZ6Fj0/yMQxaR4GCfobB6Gi4wWvBHKvjAIfSQjLVHeOOGFAwYocOHSr1C5DBjetAibparYPv2c7ecFP2uiH8cuZ8ghqzoBr04kC7EkuLw4cPiaLIzx7x+HHjnDbkcQWuCY8Oc+eIjFhRMAtEX959710aMHCgKNgRf/kLLV2yxHw3NVu3bmNPuJJc0wKOgTd791YfQh0iAhK2eTM1bJys3FG2iY0u5Lm4A8YFPo89OSCgKzncLyIQ2PvCJnSTDT4k1CbExXNZNbOEJJelEderpdgxJsLDNkvbWYIcOyNCnmBZKsZhOVaug9hD9fJKvrZjZCuWn7Np06apDHdXoC6hdBA1cCSeFTDaBA6QI6ib+Li4dI3FewG5AlBGFSsmT10DGBboQ+FcR02aOSsqgPcwjpAzc+3qNVkWC3CPiCY1d8jzwlw/Ijqos1s3b1Exrsvnnnv2vnOtEGVA3gjapUDBZNkEAwYyG5EjtBsM27psfLiKeEMOIBqZMt8ARiYiW3CUYGB5eXk5GdMYu1Wr2/oScitatmxpb3O0aWREODXifmSV4RqoG0cnFdEXm/FriwSiP0N2OvYHudaWCKfoBKIqGJNbt26lJuw8pByv4eFh5OVg6ACMO9xLYGAANW/Vyi53cA/I+XGsv8eVDBsXiYmJVIo99upmgzqCHc2qVbWF4NBZMGhhhLhUyiYIXf/lz3+hV1955a7+kOyTFrBIEZ5N7w+bMKWXqGRRhIULngHhXEegmG7euCFJOgADvzV7wFOmfE1z5nxPLw0enCqJ0xGcD2MBoc2UQNiEh4VLtrzF/v1xkhhmJRNZyYnuplwuIOP62DEROBAq8N6hMFNj8DXuri48DaJCGKAIXwMYZdu3bZMpJ4uj/AyO3gw8IIQ6HQ2JiPBIatuundTpiZO2lSXwQGpxW0MgQShAQFnTIxao0/w8oF31ZwihS5cvyaoofB4eEUKcVjg5Pep6e9Mbf3uDPp/wbwnhjx45UqJPaQGjcvWqVdSjVy95FnhrAB4/Im0Q5O+NfI9WrFxBH33yiSTRQfC5Im7/fqrNwtwxwRVRNmtTKuva+E70NcclnxDqMEyx4RCun9ZqCyTQwQhGP4QHbXGYPTpMb1jeGdi3L5aKsVEHw+54km0FRDy3gbdPcpgeCgn3WYPrHM+NaTKMtWpeNWT6CmMXm905GpeO4JpIxoPXaIHkTndg1UH5ChWdwvkAU5rde/RIJSeQLAoDCFN6ngL3cOTIYemrAM9rgTrYymMC9eGO6JgYqlU7OQIBb3o3y18slcWYx1jA2CpZqrREgBGlgoHnTnbcKzAkIJccr4cwf6vWre1jC8ZTuw6uHSG0+YXz51JtiIfpivyskDH+DyQe4P5cxz6G8VwbgzZQD24jcIh1U9mytqkOcPr0GdkArHLlSqKPICuRXIykZcdVPv5+/hJZRFQQQPHDqC6C/szXAFD++9mQgbGOPo7rAfS1lStWUL/n+8lrtCNANAzjz0qGhoOEZ7QICQl1WkUCOYR+5pjo+7iSIeMCAwpeJbKzUwpYLLNb8NMC7gS2LPxNm0IkIxarAdICA3TmrJn03Zw5d/XXuXMn85MPFtYr0LkCBk3DRo3pnNmhLDBYr137la1x29wcwpDwlt566+/0xhsjxBtLC1iw8PAsIe8IFBtCinlNjx3HiIo0bmzrkPBCkPWNLHNkLLsCuRvl2UKH9xcUtFGy9YODQ8x3k7nCHk8lHoCPgsusvAsXTvZEjh07LvWCeXwL1KvjTnq7Wbg7Kg70N9+1a0QgQIlj4AJ4ljlSGBOoR8et6pGhjbwNVwYDygqzl5XdzLWwwDiAIe0Oy0uCQXqbBQo2who6bJjcN0K/UObugMeEzZkQOoVA2rw5XMoR9Xh5yBBuU9tWzPC04Fkhiz6lN2uBvlO0aLJiRz/DPUDgYWUMBBqAIXH8+DEnYw3z8HAMihUrLuHgK1dcT23iWVatWEktW7WWukfWvAVC1lgq7DgdgWfDtBQMHqwwQF3hPh2jAPBUD7KiwJw4VhjguESJkqkMQwDlgagGfncngD1XCH3MZ+Pz1moY1GNAQKC8dkVh9oRz53bOOZDfnuDx0rdfX7MkmYvsYbra0+B+wHOWZ+MOXj36qK+vn/kOiUI8eSKJypR23lvBkaTjJ/jzyVEPKN4bN29K3cIohbOC1REp+zJAncFgzygYD2Ghm8WQtSJ6MAg3bgiSaTuAMYqpZez66QrU5dP58tMTDlNCUMbfs5P21xF/Zb1SUsYiFL4FZCCep01b2xTlk9zP8IwWp06dlHwKyJJo1kVQ/nn5HORrWPlTkKF+vr708vBhcmz1ZxhFiFZa+msfj5VC/N0wVLAiCbIfQF4dZPmESAh254TOA8h3g/FrRQgDzBUpFqfZyXCM4CDC16jR3eXSZXbu2bjAAA5jwwKVUJqtQ4QM0bhQWFg6N2zoyyxIqkv4C9ZbXe+6dPrUaSroEMJ/HIAARjQFW/nCY4bihiB/+913aOHCRWxJ29YzY/AuW7pMktAsb6NY8aL0/uh/0oQJE+mLL76UHyILDt4kXoMr0MExx4alUSmB0C3Owt2a78XgR26CZV3DE4OSwHwkwvWugOdSw6umdOxmzZtJ+BTJeynZw14PvMFHASIQqGvsdwFOnDwhYXxr8KItcrGXYSVwod4jkTzIHowFlBqEGbZIRyTEy8y7GMzKGAlgFtjSdwMLvGzZkrs/pk6at0zepMwRKMWX+BrHjiYbbwj/rl6zhnLncT3VBwGDnAIIKXifUBq4Z2yjjCgVkkOnT58pCt0V5/kzOK9mzRq0nZW6T31bbgIE+CuvvUZ1zHaCskAY+YVBL7qNDCInReakuX5Qn37+gTL1gPpFBNLqS1hGikQ1K+cFYAw3ZGGXI0d2UdbuNlJCRAP3UsOrOuG3RXx8kpVHWFi49DtH4wcJiojowLMuz22PsdWlazfx2vGMUHTr/AKoQMFC4snhx8vw3TC2MI4sQxyKAnkPMPJgeGIK8v2Ro0QhQVYhR8eW9cQec9Q2qs+fdwd2vs2aJauEwwGeCUvEPx03TiIkKYHh5VWjplN93S9QZOXLlZVpDuT21KqdHKXYx4YOppbS2qkUSu8qOwng8uUr8jsXWMqKaB2m2dDmPvW8pS6RKA5gxCDh1p/lg2WIZQSJfLFugBFo5ZwtXLBAtue3FCaiCPD+3Y0b1CWmq61IAdpx7o/zZFqhV69eUubN/QZtC2CsTJ82nT748EN70m+vZ55hw8+2N4nkLXF/L8J9CNMomKLEdyDfA7/PhOtjx1QkW7/62p9kvAGrP2PqKFL6s238wV8oUbKUtBO+24oeY2whko+xhOiRlTcEpwJTWpC50JPIcXKMIGKHVhh/AO0DXZLWpl6PE/e8z8Xq1avoAAtqhIeREHaIhT7mueEhIHRVhRutZ09bUh4qFEl0UyZ/RUNfHspCOv356cwCLFFEZ+ryQPzt2q8y2NER0DkggLF2GdYp1lHLM/fqKYoJnS527z4Z2AUK5JPOeOHceek0GzduFEs4pXcEAyIb1xN++THlb7PgmjVr1pLfFYHCgscasmkTjRw1SuoTYUIk9MEqb92mtfkpZ7Bm+sLFCxKaRmIYQtyupoKQGNe3bx+nXI6HBaz3IuxdBwUFiZFVvHgJ6tq9G61g7wHRMKyTb+6wEyyUC+aSsX+EFRaHgsK+B+iLqE8oIihcTFcdYuMwMiKSlekhiVIgFGxl1MOTCNkUIisk3IWHobiwNwTW6eN3PqB0Ma1W1YXSARBqSMxCZKU6CyjkGEBwYV8CTKlgLw/jzm3x0CwB5QgU8XUWehCipbjPWclpEJBQrtjfIzZ2L+3aHUONWXBbxoYrSrJxiimimJhoNmYOcx9sKfcQHb1HnreOmRgM4Vaa6wr9A30SIHEO05owYjG1Zxl3KZF8DlbMuCckuFm5MhDQwdzvO3bq5DQtgrA3xs8lHietW7UQYwdJbrvZu06Ij5M9Kbp07iQeMH7kC2F+KATk3GB+Gvs5IOQcsydWvFBEheD1YrwYfB+IhKHd23doLzlLaPOyfIzQvDsjDEakN493/JgYzkeuysCB/VPtcQBgAP0490dJEkxr/497BZEQPBMMUsgJ5CZYkRFEmSpVriw5Q1b7pAR5WTCs8TtBB1g2t2/XTn4jZOeuaB4PPrJfD+oaTt/KVavp2JGj3Kdj6Db3xTatWzlFl+4VjItvWYaMHD2aNm8OY88+Ujx5/LSAZbRjlQjavHfvZ11GfHBvmJbDD4Lhl1gRHShZoqT8logtH8L2jJiS2MlGN+TvCy8OlP1FrDpBgi0itGjD06fPUp8+vXnMXBBDGnoLdYx+hSR5yGQkjsMo6MUy3JIv9v68dy/l4z7fwMwFw08MJPFYiI9L4LHdyC4vsmXLTsdYJtjySerYcygQ9TvI9wFnBMZXk8aNnJ4bRpN/gL9NtnN7BW8Mojf/9qZHDdaHhif3ubgbeKAan437XNYnJyQcMEt/v7DnxM/7maw7d4StdePNN940li1bZpY4wwrUGD58uOyHkBZ+fv7G0CFDndbU9+3T12DFYASb+x6wYpO15QD7FnTt3EX2cViyZKkxYcJE2ZeEvQt534I9aOPtt//htJZfURTXYJxiXLEBYpYo7OTI/hVXzD2AlHsjPDzC6PtcH/t+LY8bHtvn4m65fOkSVahUUeb7/gj7qh88dFis1pTbASMUhkSsK2y1uwKf6dixk6zCscAc8Tv/eIdWsYcB4GEvW7qUhg0f7hRihhWOUGRu07JHJOPtv78lXuPxpONUzctLIhyof1jPsmudg/UMLww74A0YMEAiNIqiuCYiIlK88ps3b4lna4XRFdsOsNhJ1V3uj5IMVlV9/PEYmjdvvhxjegay/WWW7Y9l1MIFD9y4wNr2qlUqy1r9lAr390iD+vUlxI6tgB3BfBuWJLVNY1+Ejh070MagjTInCTA/foFfW3kFa9f6Sog95cqTkaNGSrgY0wCgQ4f21LtPH+mw1atVl6RSGBPISu7K7VGtWhWn8D9C70hIdVwGqiiKM5jynDxpEo/lvZLbgSRFNcZtcgpTXH7r1kkypZVsrLgHe99gitTKRVm/foNMFUJ2/17IgvCF+doGAhrKfYEE0E3BmyRxMHvWbJQjZy5ZxoqfMHa1L4gjSPBDFOHVV1/BHBVtCgmlw4cOyi8UVqpYUQwLax8AdyC5yM8vgHr0SP9nrzEXuHjxYurf//lHkmuhKI8TWIGEFQD4nSCsWPu9eJn3A/JDsAwZcgeRUeRMWDvbKu4Jj4iUZapIKEWCfbt27dKV7ZkZI0uWoCxEbcxDNS4yI0hgdNzP4V5B5jeWldbzTt4lzx1IDsS0iKsNbRRFURTlblDjQlEURVEUj5LSuHjgOReKoiiKovyxUONCURRFURSPosaFoiiKoigeRY0LRVEURVE8ihoXiqIoiqJ4FDUuFEVRFEXxKGpcKIqiKIriUdS4UBRFURTFo6hxoSiKoiiKR1HjQlEURVEUj6LGhaIoiqIoHkWNC0VRFEVRPIoaF4qiKIqieBQ1LhRFURRF8ShqXCiKoiiK4lHUuFAURVEUxaOocaEoiqIoikdR40JRFEVRFI+ixoWiKIqiKB4li0HE/5z4xPxfURRFURQlXdiQGJKFqLx56NK4UBRFURRFyTA6LaIoiqIoikdR40JRFEVRFA9C9H+DAGa/X8NWZwAAAABJRU5ErkJggg==)"
      ],
      "metadata": {
        "id": "LVHLwDO2oodF"
      }
    },
    {
      "cell_type": "code",
      "source": [
        "loss = -math.log(softmax_output[0])\n",
        "loss"
      ],
      "metadata": {
        "colab": {
          "base_uri": "https://localhost:8080/"
        },
        "id": "QrPh9Q02oo7G",
        "outputId": "21e7d81b-8547-48fd-9837-82402c528738"
      },
      "execution_count": null,
      "outputs": [
        {
          "output_type": "execute_result",
          "data": {
            "text/plain": [
              "0.35667494393873245"
            ]
          },
          "metadata": {},
          "execution_count": 70
        }
      ]
    },
    {
      "cell_type": "code",
      "source": [
        "import math\n",
        "print(math.log(1.))\n",
        "print(math.log(0.95))\n",
        "print(math.log(0.9))\n",
        "print(math.log(0.8))\n",
        "print('...')\n",
        "print(math.log(0.2))\n",
        "print(math.log(0.1))\n",
        "print(math.log(0.05))\n",
        "print(math.log(0.01))"
      ],
      "metadata": {
        "colab": {
          "base_uri": "https://localhost:8080/"
        },
        "id": "lm3ANqLhoyte",
        "outputId": "37c54c16-68a8-43e7-f374-fbf1aa2b62c6"
      },
      "execution_count": null,
      "outputs": [
        {
          "output_type": "stream",
          "name": "stdout",
          "text": [
            "0.0\n",
            "-0.05129329438755058\n",
            "-0.10536051565782628\n",
            "-0.2231435513142097\n",
            "...\n",
            "-1.6094379124341003\n",
            "-2.3025850929940455\n",
            "-2.995732273553991\n",
            "-4.605170185988091\n"
          ]
        }
      ]
    },
    {
      "cell_type": "code",
      "source": [
        "import numpy as np\n",
        "b = 5.2\n",
        "print(np.log(b))"
      ],
      "metadata": {
        "colab": {
          "base_uri": "https://localhost:8080/"
        },
        "id": "OOMFEoNXo2Ha",
        "outputId": "08087e22-0629-4b0a-a228-6a56bd2d1c83"
      },
      "execution_count": null,
      "outputs": [
        {
          "output_type": "stream",
          "name": "stdout",
          "text": [
            "1.6486586255873816\n"
          ]
        }
      ]
    },
    {
      "cell_type": "code",
      "source": [
        "import math\n",
        "print(math.e ** 1.6486586255873816)"
      ],
      "metadata": {
        "colab": {
          "base_uri": "https://localhost:8080/"
        },
        "id": "XwoPxx9ao6Yo",
        "outputId": "30235b48-90a6-4946-b444-c101adfdf525"
      },
      "execution_count": null,
      "outputs": [
        {
          "output_type": "stream",
          "name": "stdout",
          "text": [
            "5.199999999999999\n"
          ]
        }
      ]
    },
    {
      "cell_type": "code",
      "source": [
        "# Probabilities for 3 samples\n",
        "softmax_outputs = np.array([[0.7, 0.1, 0.2],\n",
        "[0.1, 0.5, 0.4],\n",
        "[0.02, 0.9, 0.08]])\n",
        "\n",
        "class_targets = [0, 1, 1] # dog, cat, cat\n"
      ],
      "metadata": {
        "id": "R6uMQGbCo-41"
      },
      "execution_count": null,
      "outputs": []
    },
    {
      "cell_type": "code",
      "source": [
        "softmax_outputs = [[0.7, 0.1, 0.2],\n",
        "[0.1, 0.5, 0.4],\n",
        "[0.02, 0.9, 0.08]]\n",
        "class_targets = [0, 1, 1]\n",
        "for targ_idx, distribution in zip(class_targets, softmax_outputs):\n",
        "  print(distribution[targ_idx])"
      ],
      "metadata": {
        "colab": {
          "base_uri": "https://localhost:8080/"
        },
        "id": "tRURqA1Zp5-O",
        "outputId": "da90957e-8358-4e22-96fa-dea64529e7f8"
      },
      "execution_count": null,
      "outputs": [
        {
          "output_type": "stream",
          "name": "stdout",
          "text": [
            "0.7\n",
            "0.5\n",
            "0.9\n"
          ]
        }
      ]
    },
    {
      "cell_type": "code",
      "source": [
        "softmax_outputs = np.array([[0.7, 0.1, 0.2],\n",
        "[0.1, 0.5, 0.4],\n",
        "[0.02, 0.9, 0.08]])\n",
        "class_targets = [0, 1, 1]\n",
        "print(softmax_outputs[[0, 1, 2], class_targets])\n"
      ],
      "metadata": {
        "colab": {
          "base_uri": "https://localhost:8080/"
        },
        "id": "KbxZ9yhoqAi_",
        "outputId": "9c749dc2-a01e-43f1-bf4e-e7187ef55d42"
      },
      "execution_count": null,
      "outputs": [
        {
          "output_type": "stream",
          "name": "stdout",
          "text": [
            "[0.7 0.5 0.9]\n"
          ]
        }
      ]
    },
    {
      "cell_type": "code",
      "source": [
        "print(softmax_outputs[\n",
        "range(len(softmax_outputs)), class_targets\n",
        "])\n"
      ],
      "metadata": {
        "colab": {
          "base_uri": "https://localhost:8080/"
        },
        "id": "NKySk1QQqUSU",
        "outputId": "54881e50-4e31-4fc7-856d-1169be5cf56e"
      },
      "execution_count": null,
      "outputs": [
        {
          "output_type": "stream",
          "name": "stdout",
          "text": [
            "[0.7 0.5 0.9]\n"
          ]
        }
      ]
    },
    {
      "cell_type": "code",
      "source": [
        "print(-np.log(softmax_outputs[\n",
        "range(len(softmax_outputs)), class_targets\n",
        "]))"
      ],
      "metadata": {
        "id": "x6ywEGaoqWRn",
        "outputId": "f7b51e3c-eb7e-4bf0-aedf-532aa735454e",
        "colab": {
          "base_uri": "https://localhost:8080/"
        }
      },
      "execution_count": null,
      "outputs": [
        {
          "output_type": "stream",
          "name": "stdout",
          "text": [
            "[0.35667494 0.69314718 0.10536052]\n"
          ]
        }
      ]
    },
    {
      "cell_type": "code",
      "source": [
        "neg_log = -np.log(softmax_outputs[\n",
        "range(len(softmax_outputs)), class_targets\n",
        "])\n",
        "average_loss = np.mean(neg_log)\n",
        "print(average_loss)"
      ],
      "metadata": {
        "id": "aUrH0g-vqYpA",
        "outputId": "a91c6f6b-f98d-4912-b0bd-ea6f16ed540d",
        "colab": {
          "base_uri": "https://localhost:8080/"
        }
      },
      "execution_count": null,
      "outputs": [
        {
          "output_type": "stream",
          "name": "stdout",
          "text": [
            "0.38506088005216804\n"
          ]
        }
      ]
    },
    {
      "cell_type": "markdown",
      "source": [
        "## The Categorical Cross-Entropy Loss Class"
      ],
      "metadata": {
        "id": "EqnNMnfYdfDF"
      }
    },
    {
      "cell_type": "code",
      "source": [
        "import numpy as np\n",
        "#common loss class\n",
        "class Loss:\n",
        "  def claculate(self,output,y):\n",
        "    sample_losses = self.forward(output,y)\n",
        "\n",
        "    data_loss = np.mean(sample_losses)\n",
        "\n",
        "    return data_loss"
      ],
      "metadata": {
        "id": "IQ4sc8MtdeNx"
      },
      "execution_count": 12,
      "outputs": []
    },
    {
      "cell_type": "code",
      "source": [
        "class Loss_CategoricalCrossentropy(Loss):\n",
        "\n",
        "\n",
        "\n",
        "\n",
        "\n",
        "  def forward(self, y_pred, y_true):\n",
        "    samples = len(y_pred)\n",
        "    epsilon = 1e-8  # Adjust epsilon as needed\n",
        "\n",
        "    # Clip data to prevent division by 0\n",
        "    y_pred_clipped = np.clip(y_pred, epsilon, 1 - epsilon)\n",
        "\n",
        "    if len(y_true.shape) == 1:\n",
        "        # Categorical labels (one-hot encoded)\n",
        "        correct_confidences = y_pred_clipped[range(samples), y_true]\n",
        "    elif len(y_true.shape) == 2:\n",
        "        # One-hot encoded labels\n",
        "        correct_confidences = np.sum(y_pred_clipped * y_true, axis=1)\n",
        "\n",
        "    # Negative log-likelihood (loss)\n",
        "    negative_log_likelihoods = -np.log(correct_confidences)\n",
        "    return negative_log_likelihoods\n"
      ],
      "metadata": {
        "id": "W5K5DF9heTUW"
      },
      "execution_count": 13,
      "outputs": []
    },
    {
      "cell_type": "code",
      "source": [
        "loss_function = Loss_CategoricalCrossentropy()"
      ],
      "metadata": {
        "id": "4a61ELM-flRa"
      },
      "execution_count": 14,
      "outputs": []
    },
    {
      "cell_type": "code",
      "source": [
        "softmax_outputs = np.array([[0.7, 0.1, 0.2],[0.1, 0.5, 0.4],[0.02, 0.9, 0.08]])\n",
        "class_targets = np.array([[1, 0, 0],[0, 1, 0],[0, 1, 0]])"
      ],
      "metadata": {
        "id": "-ZH81apXfmVN"
      },
      "execution_count": 15,
      "outputs": []
    },
    {
      "cell_type": "markdown",
      "source": [],
      "metadata": {
        "id": "VAag5O_qgdKH"
      }
    },
    {
      "cell_type": "code",
      "source": [
        "loss = loss_function.calculate(softmax_outputs,class_targets)"
      ],
      "metadata": {
        "colab": {
          "base_uri": "https://localhost:8080/",
          "height": 146
        },
        "id": "Bu6-LitPf4xh",
        "outputId": "0450a9f0-18b7-4ebd-934e-22e4e514914b"
      },
      "execution_count": 16,
      "outputs": [
        {
          "output_type": "error",
          "ename": "AttributeError",
          "evalue": "'Loss_CategoricalCrossentropy' object has no attribute 'calculate'",
          "traceback": [
            "\u001b[0;31m---------------------------------------------------------------------------\u001b[0m",
            "\u001b[0;31mAttributeError\u001b[0m                            Traceback (most recent call last)",
            "\u001b[0;32m<ipython-input-16-67abc3c310ff>\u001b[0m in \u001b[0;36m<cell line: 1>\u001b[0;34m()\u001b[0m\n\u001b[0;32m----> 1\u001b[0;31m \u001b[0mloss\u001b[0m \u001b[0;34m=\u001b[0m \u001b[0mloss_function\u001b[0m\u001b[0;34m.\u001b[0m\u001b[0mcalculate\u001b[0m\u001b[0;34m(\u001b[0m\u001b[0msoftmax_outputs\u001b[0m\u001b[0;34m,\u001b[0m\u001b[0mclass_targets\u001b[0m\u001b[0;34m)\u001b[0m\u001b[0;34m\u001b[0m\u001b[0;34m\u001b[0m\u001b[0m\n\u001b[0m",
            "\u001b[0;31mAttributeError\u001b[0m: 'Loss_CategoricalCrossentropy' object has no attribute 'calculate'"
          ]
        }
      ]
    },
    {
      "cell_type": "code",
      "source": [
        "import numpy as np\n",
        "\n",
        "# Common loss class\n",
        "class Loss:\n",
        "    def calculate(self, output, y):\n",
        "        sample_losses = self.forward(output, y)\n",
        "        data_loss = np.mean(sample_losses)\n",
        "        return data_loss\n",
        "\n",
        "class Loss_CategoricalCrossentropy(Loss):\n",
        "    def forward(self, y_pred, y_true):\n",
        "        samples = len(y_pred)\n",
        "        epsilon = 1e-8  # Adjust epsilon as needed\n",
        "\n",
        "        # Clip data to prevent division by 0\n",
        "        y_pred_clipped = np.clip(y_pred, epsilon, 1 - epsilon)\n",
        "\n",
        "        if len(y_true.shape) == 1:\n",
        "            # Categorical labels (one-hot encoded)\n",
        "            correct_confidences = y_pred_clipped[range(samples), y_true]\n",
        "        elif len(y_true.shape) == 2:\n",
        "            # One-hot encoded labels\n",
        "            correct_confidences = np.sum(y_pred_clipped * y_true, axis=1)\n",
        "\n",
        "        # Negative log-likelihood (loss)\n",
        "        negative_log_likelihoods = -np.log(correct_confidences)\n",
        "        return negative_log_likelihoods\n",
        "\n",
        "loss_function = Loss_CategoricalCrossentropy()\n",
        "softmax_outputs = np.array([[0.7, 0.1, 0.2], [0.1, 0.5, 0.4], [0.02, 0.9, 0.08]])\n",
        "class_targets = np.array([[1, 0, 0], [0, 1, 0], [0, 1, 0]])\n",
        "loss = loss_function.calculate(softmax_outputs, class_targets)\n",
        "\n",
        "print(loss)  # This will now calculate and print the categorical crossentropy loss\n"
      ],
      "metadata": {
        "colab": {
          "base_uri": "https://localhost:8080/"
        },
        "id": "Wxlvdi8LhsVZ",
        "outputId": "b90ef21d-4d08-4e82-bbce-98382ec8904f"
      },
      "execution_count": 17,
      "outputs": [
        {
          "output_type": "stream",
          "name": "stdout",
          "text": [
            "0.38506088005216804\n"
          ]
        }
      ]
    },
    {
      "cell_type": "markdown",
      "source": [
        "## Combining everything up to this point:\n"
      ],
      "metadata": {
        "id": "VJEMWVENh8Ey"
      }
    },
    {
      "cell_type": "code",
      "source": [
        "!pip install nnfs"
      ],
      "metadata": {
        "colab": {
          "base_uri": "https://localhost:8080/"
        },
        "id": "5mSH2_Kmi-kk",
        "outputId": "4b277b19-eb81-4930-e6d4-ba9d4b02cbc8"
      },
      "execution_count": 20,
      "outputs": [
        {
          "output_type": "stream",
          "name": "stdout",
          "text": [
            "Collecting nnfs\n",
            "  Downloading nnfs-0.5.1-py3-none-any.whl (9.1 kB)\n",
            "Requirement already satisfied: numpy in /usr/local/lib/python3.10/dist-packages (from nnfs) (1.25.2)\n",
            "Installing collected packages: nnfs\n",
            "Successfully installed nnfs-0.5.1\n"
          ]
        }
      ]
    },
    {
      "cell_type": "code",
      "source": [
        "import numpy as np\n",
        "import nnfs\n",
        "from nnfs.datasets import spiral_data\n",
        "\n",
        "nnfs.init()\n",
        "\n",
        "class Layer_Dense:\n",
        "  # Layer initialization\n",
        "  def __init__(self, n_inputs, n_neurons):\n",
        "    # Initialize weights and biases\n",
        "    self.weights = 0.01 * np.random.randn(n_inputs, n_neurons)\n",
        "    self.biases = np.zeros((1, n_neurons))\n",
        "    # Forward pass\n",
        "  def forward(self, inputs):\n",
        "    # Calculate output values from inputs, weights and biases\n",
        "    self.output = np.dot(inputs, self.weights) + self.biases\n",
        "\n",
        "\n",
        "class Activation_ReLU:\n",
        "  # Forward pass\n",
        "  def forward(self, inputs):\n",
        "    # Calculate output values from inputs\n",
        "    self.output = np.maximum(0, inputs)\n",
        "\n",
        "\n",
        "class Activation_Softmax:\n",
        "\n",
        "  def forward(self,inputs):\n",
        "\n",
        "    exp_values = np.exp(inputs-np.max(inputs,axis=1,keepdims=True))\n",
        "\n",
        "    probabilities = exp_values / np.sum(exp_values,axis=1,keepdims=True)\n",
        "\n",
        "    self.output = probabilities\n",
        "\n",
        "\n",
        "class Loss:\n",
        "\n",
        "  def calculate(self,output,y):\n",
        "\n",
        "\n",
        "    sample_losses = self.forward(output,y)\n",
        "\n",
        "    data_loss = np.mean(sample_losses)\n",
        "\n",
        "    return data_loss\n",
        "\n",
        "\n",
        "class Loss_CategoricalCrossentropy(Loss):\n",
        "\n",
        "  def forward(self,y_pred,y_true):\n",
        "\n",
        "    samples = len(y_pred)\n",
        "\n",
        "\n",
        "    y_pred_clipped = np.clip(y_pred, 1e-7, 1 - 1e-7)\n",
        "\n",
        "    if len(y_true.shape) == 1:\n",
        "      correct_confidences = y_pred_clipped[range(samples),y_true]\n",
        "\n",
        "\n",
        "    elif len(y_true.shape) == 2:\n",
        "      correct_confidences = np.sum(y_pred_clipped * y_true,axis=1)\n",
        "\n",
        "    negative_log_likelihoods = -np.log(correct_confidences)\n",
        "\n",
        "    return negative_log_likelihoods\n",
        "\n"
      ],
      "metadata": {
        "id": "55O-n951h68c"
      },
      "execution_count": 59,
      "outputs": []
    },
    {
      "cell_type": "code",
      "source": [
        "X,y = spiral_data(samples=100,classes=3)\n",
        "\n",
        "dense1 = Layer_Dense(2,3)\n",
        "\n",
        "activation1 = Activation_ReLU()\n",
        "\n",
        "dense2 = Layer_Dense(3, 3)\n",
        "\n",
        "activation2 = Activation_Softmax()\n",
        "\n",
        "loss_function = Loss_CategoricalCrossentropy()\n",
        "\n",
        "\n"
      ],
      "metadata": {
        "id": "dlzTFiZLssTW"
      },
      "execution_count": 38,
      "outputs": []
    },
    {
      "cell_type": "code",
      "source": [
        "dense1.forward(X)"
      ],
      "metadata": {
        "id": "L6xTUUy-tSg9"
      },
      "execution_count": 39,
      "outputs": []
    },
    {
      "cell_type": "code",
      "source": [
        "activation1.forward(dense1.output)"
      ],
      "metadata": {
        "id": "auhS9I8AufCJ"
      },
      "execution_count": 40,
      "outputs": []
    },
    {
      "cell_type": "code",
      "source": [
        "dense2.forward(activation1.output)\n"
      ],
      "metadata": {
        "id": "pZNA9KxcvS2h"
      },
      "execution_count": 41,
      "outputs": []
    },
    {
      "cell_type": "code",
      "source": [
        "activation2.forward(dense2.output)\n"
      ],
      "metadata": {
        "id": "fkBTShf0vbKk"
      },
      "execution_count": 42,
      "outputs": []
    },
    {
      "cell_type": "code",
      "source": [
        "print(activation2.output[:5])"
      ],
      "metadata": {
        "colab": {
          "base_uri": "https://localhost:8080/"
        },
        "id": "VLYYSFdOvbSY",
        "outputId": "5626a8f3-d223-428b-a743-fd47aef4c020"
      },
      "execution_count": 43,
      "outputs": [
        {
          "output_type": "stream",
          "name": "stdout",
          "text": [
            "[[0.33333334 0.33333334 0.33333334]\n",
            " [0.3333332  0.3333332  0.33333364]\n",
            " [0.3333329  0.33333293 0.3333342 ]\n",
            " [0.3333326  0.33333263 0.33333477]\n",
            " [0.33333233 0.3333324  0.33333528]]\n"
          ]
        }
      ]
    },
    {
      "cell_type": "code",
      "source": [
        "loss = loss_function.calculate(activation2.output, y)\n",
        "print('loss:', loss)"
      ],
      "metadata": {
        "colab": {
          "base_uri": "https://localhost:8080/"
        },
        "id": "CWXBIDuAvkx8",
        "outputId": "aa34a9b4-f830-4ed0-d0d3-8bbfb9727d69"
      },
      "execution_count": 44,
      "outputs": [
        {
          "output_type": "stream",
          "name": "stdout",
          "text": [
            "loss: 1.0986104\n"
          ]
        }
      ]
    },
    {
      "cell_type": "code",
      "source": [
        "import numpy as np\n",
        "# Probabilities of 3 samples\n",
        "softmax_outputs = np.array([[0.7, 0.2, 0.1],[0.5, 0.1, 0.4],[0.02, 0.9, 0.08]])\n",
        "# Target (ground-truth) labels for 3 samples\n",
        "class_targets = np.array([0, 1, 1])\n",
        "# Calculate values along second axis (axis of index 1)\n",
        "predictions = np.argmax(softmax_outputs, axis=1)"
      ],
      "metadata": {
        "id": "DZ_dW3Hev_y5"
      },
      "execution_count": 45,
      "outputs": []
    },
    {
      "cell_type": "code",
      "source": [
        "predictions"
      ],
      "metadata": {
        "colab": {
          "base_uri": "https://localhost:8080/"
        },
        "id": "N0U1PtXrwC6H",
        "outputId": "be0b67f4-128d-4e39-d166-2798b9cfbd28"
      },
      "execution_count": 46,
      "outputs": [
        {
          "output_type": "execute_result",
          "data": {
            "text/plain": [
              "array([0, 0, 1])"
            ]
          },
          "metadata": {},
          "execution_count": 46
        }
      ]
    },
    {
      "cell_type": "code",
      "source": [
        "len(class_targets.shape)"
      ],
      "metadata": {
        "colab": {
          "base_uri": "https://localhost:8080/"
        },
        "id": "E54RSUHzwE3V",
        "outputId": "9d160ad2-d63b-4075-d734-a8765816b3ef"
      },
      "execution_count": 48,
      "outputs": [
        {
          "output_type": "execute_result",
          "data": {
            "text/plain": [
              "1"
            ]
          },
          "metadata": {},
          "execution_count": 48
        }
      ]
    },
    {
      "cell_type": "code",
      "source": [
        "if len(class_targets.shape) == 2:\n",
        "  class_targets = np.argmax(class_targets, axis=1)\n",
        "# True evaluates to 1; False to 0\n",
        "accuracy = np.mean(predictions==class_targets)"
      ],
      "metadata": {
        "id": "QgS_mgGnwOPG"
      },
      "execution_count": 49,
      "outputs": []
    },
    {
      "cell_type": "code",
      "source": [
        "accuracy"
      ],
      "metadata": {
        "colab": {
          "base_uri": "https://localhost:8080/"
        },
        "id": "iqjrL4XXwbuL",
        "outputId": "f462d857-1749-435e-bc87-0d39050212df"
      },
      "execution_count": 50,
      "outputs": [
        {
          "output_type": "execute_result",
          "data": {
            "text/plain": [
              "0.6666666666666666"
            ]
          },
          "metadata": {},
          "execution_count": 50
        }
      ]
    },
    {
      "cell_type": "code",
      "source": [
        "activation2.output[:6]"
      ],
      "metadata": {
        "colab": {
          "base_uri": "https://localhost:8080/"
        },
        "id": "4dGdUXo1wlmV",
        "outputId": "a1697e82-f58b-43b8-a5ce-2894fdce3642"
      },
      "execution_count": 52,
      "outputs": [
        {
          "output_type": "execute_result",
          "data": {
            "text/plain": [
              "array([[0.33333334, 0.33333334, 0.33333334],\n",
              "       [0.3333332 , 0.3333332 , 0.33333364],\n",
              "       [0.3333329 , 0.33333293, 0.3333342 ],\n",
              "       [0.3333326 , 0.33333263, 0.33333477],\n",
              "       [0.33333233, 0.3333324 , 0.33333528],\n",
              "       [0.33333284, 0.33333287, 0.3333343 ]], dtype=float32)"
            ]
          },
          "metadata": {},
          "execution_count": 52
        }
      ]
    },
    {
      "cell_type": "code",
      "source": [
        "y[:6]#y_true"
      ],
      "metadata": {
        "colab": {
          "base_uri": "https://localhost:8080/"
        },
        "id": "i8U4tK3Twsh0",
        "outputId": "ab00c230-cd57-4332-9062-6b676d4c1d25"
      },
      "execution_count": 56,
      "outputs": [
        {
          "output_type": "execute_result",
          "data": {
            "text/plain": [
              "array([0, 0, 0, 0, 0, 0], dtype=uint8)"
            ]
          },
          "metadata": {},
          "execution_count": 56
        }
      ]
    },
    {
      "cell_type": "code",
      "source": [
        "predictions= np.argmax(activation2.output, axis=1)\n",
        "predictions[:6]"
      ],
      "metadata": {
        "colab": {
          "base_uri": "https://localhost:8080/"
        },
        "id": "T3VOD7YLwzeo",
        "outputId": "8e119205-9234-4ac0-cf0c-27bcc14d8495"
      },
      "execution_count": 54,
      "outputs": [
        {
          "output_type": "execute_result",
          "data": {
            "text/plain": [
              "array([0, 2, 2, 2, 2, 2])"
            ]
          },
          "metadata": {},
          "execution_count": 54
        }
      ]
    },
    {
      "cell_type": "code",
      "source": [
        "predictions = np.argmax(activation2.output, axis=1)\n",
        "if len(y.shape) == 2:\n",
        " y = np.argmax(y, axis=1)\n",
        "accuracy = np.mean(predictions==y)\n",
        "# Print accuracy\n",
        "print('acc:', accuracy)"
      ],
      "metadata": {
        "colab": {
          "base_uri": "https://localhost:8080/"
        },
        "id": "ROvmol5twjHk",
        "outputId": "d8da1e61-f533-4b76-ebc6-109ca18ead12"
      },
      "execution_count": 55,
      "outputs": [
        {
          "output_type": "stream",
          "name": "stdout",
          "text": [
            "acc: 0.34\n"
          ]
        }
      ]
    },
    {
      "cell_type": "markdown",
      "source": [
        "# Introducing Optimization"
      ],
      "metadata": {
        "id": "-otuvVT0w_YL"
      }
    },
    {
      "cell_type": "code",
      "source": [
        "import matplotlib.pyplot as plt\n",
        "import nnfs\n",
        "from nnfs.datasets import vertical_data\n",
        "nnfs.init()\n",
        "X, y = vertical_data(samples=100, classes=3)\n",
        "plt.scatter(X[:, 0], X[:, 1], c=y, s=40, cmap='brg')\n",
        "plt.show()"
      ],
      "metadata": {
        "colab": {
          "base_uri": "https://localhost:8080/",
          "height": 432
        },
        "id": "tfXXw-3mw-vJ",
        "outputId": "5d84b065-5008-405b-c7ab-4896e0a5d5f8"
      },
      "execution_count": 68,
      "outputs": [
        {
          "output_type": "display_data",
          "data": {
            "text/plain": [
              "<Figure size 640x480 with 1 Axes>"
            ],
            "image/png": "[encoded data removed]"
          },
          "metadata": {}
        }
      ]
    },
    {
      "cell_type": "code",
      "source": [
        "# Create dataset\n",
        "X, y = vertical_data(samples=100, classes=3)\n",
        "# Create model\n",
        "dense1 = Layer_Dense(2, 3) # first dense layer, 2 inputs\n",
        "activation1 = Activation_ReLU()\n",
        "dense2 = Layer_Dense(3, 3) # second dense layer, 3 inputs, 3 outputs\n",
        "activation2 = Activation_Softmax()\n",
        "# Create loss function\n",
        "loss_function = Loss_CategoricalCrossentropy()\n"
      ],
      "metadata": {
        "id": "Gi_vhZFVxuEO"
      },
      "execution_count": 60,
      "outputs": []
    },
    {
      "cell_type": "code",
      "source": [
        "lowest_loss = 9999999 # some initial value\n",
        "best_dense1_weights = dense1.weights.copy()\n",
        "best_dense1_biases = dense1.biases.copy()\n",
        "best_dense2_weights = dense2.weights.copy()\n",
        "best_dense2_biases = dense2.biases.copy()"
      ],
      "metadata": {
        "id": "5YhhO2zwyHtl"
      },
      "execution_count": 61,
      "outputs": []
    },
    {
      "cell_type": "code",
      "source": [
        "for iteration in range(10000):\n",
        "  dense1.weights = 0.05 * np.random.randn(2, 3)\n",
        "  dense1.biases = 0.05 * np.random.randn(1, 3)\n",
        "  dense2.weights = 0.05 * np.random.randn(3, 3)\n",
        "  dense2.biases = 0.05 * np.random.randn(1, 3)\n",
        "\n",
        "  # Perform a forward pass of the training data through this layer\n",
        "  dense1.forward(X)\n",
        "  activation1.forward(dense1.output)\n",
        "  dense2.forward(activation1.output)\n",
        "  activation2.forward(dense2.output)\n",
        "\n",
        "  # Perform a forward pass through activation function\n",
        "  # it takes the output of second dense layer here and returns loss\n",
        "  loss = loss_function.calculate(activation2.output, y)\n",
        "  # Calculate accuracy from output of activation2 and targets\n",
        "  # calculate values along first axis\n",
        "  predictions = np.argmax(activation2.output, axis=1)\n",
        "  accuracy = np.mean(predictions==y)\n",
        "  # If loss is smaller - print and save weights and biases aside\n",
        "  if loss < lowest_loss:\n",
        "    print('New set of weights found, iteration:', iteration,\n",
        "    'loss:', loss, 'acc:', accuracy)\n",
        "    best_dense1_weights = dense1.weights.copy()\n",
        "    best_dense1_biases = dense1.biases.copy()\n",
        "    best_dense2_weights = dense2.weights.copy()\n",
        "    best_dense2_biases = dense2.biases.copy()\n",
        "    lowest_loss = loss\n"
      ],
      "metadata": {
        "colab": {
          "base_uri": "https://localhost:8080/"
        },
        "id": "ASSgpSyyynsB",
        "outputId": "40cbd911-4085-46f9-98fb-85f7bf6e9e6b"
      },
      "execution_count": 62,
      "outputs": [
        {
          "output_type": "stream",
          "name": "stdout",
          "text": [
            "New set of weights found, iteration: 0 loss: 1.0986564 acc: 0.3333333333333333\n",
            "New set of weights found, iteration: 3 loss: 1.098138 acc: 0.3333333333333333\n",
            "New set of weights found, iteration: 117 loss: 1.0980115 acc: 0.3333333333333333\n",
            "New set of weights found, iteration: 124 loss: 1.0977516 acc: 0.6\n",
            "New set of weights found, iteration: 165 loss: 1.0975711 acc: 0.3333333333333333\n",
            "New set of weights found, iteration: 552 loss: 1.0974693 acc: 0.34\n",
            "New set of weights found, iteration: 778 loss: 1.0968257 acc: 0.3333333333333333\n",
            "New set of weights found, iteration: 4307 loss: 1.0965533 acc: 0.3333333333333333\n",
            "New set of weights found, iteration: 4615 loss: 1.0964499 acc: 0.3333333333333333\n",
            "New set of weights found, iteration: 9450 loss: 1.0964295 acc: 0.3333333333333333\n"
          ]
        }
      ]
    },
    {
      "cell_type": "code",
      "source": [
        "for iteration in range(10000):\n",
        "  dense1.weights += 0.05 * np.random.randn(2, 3)\n",
        "  dense1.biases += 0.05 * np.random.randn(1, 3)\n",
        "  dense2.weights += 0.05 * np.random.randn(3, 3)\n",
        "  dense2.biases += 0.05 * np.random.randn(1, 3)\n",
        "\n",
        "\n",
        "  # Perform a forward pass of the training data through this layer\n",
        "  dense1.forward(X)\n",
        "  activation1.forward(dense1.output)\n",
        "  dense2.forward(activation1.output)\n",
        "  activation2.forward(dense2.output)\n",
        "\n",
        "  # Perform a forward pass through activation function\n",
        "  # it takes the output of second dense layer here and returns loss\n",
        "  loss = loss_function.calculate(activation2.output, y)\n",
        "  # Calculate accuracy from output of activation2 and targets\n",
        "  # calculate values along first axis\n",
        "  predictions = np.argmax(activation2.output, axis=1)\n",
        "  accuracy = np.mean(predictions==y)\n",
        "  # If loss is smaller - print and save weights and biases aside\n",
        "  if loss < lowest_loss:\n",
        "    print('New set of weights found, iteration:', iteration,\n",
        "    'loss:', loss, 'acc:', accuracy)\n",
        "    best_dense1_weights = dense1.weights.copy()\n",
        "    best_dense1_biases = dense1.biases.copy()\n",
        "    best_dense2_weights = dense2.weights.copy()\n",
        "    best_dense2_biases = dense2.biases.copy()\n",
        "    lowest_loss = loss\n",
        "\n",
        "  # Revert weights and biases\n",
        "  else:\n",
        "    dense1.weights = best_dense1_weights.copy()\n",
        "    dense1.biases = best_dense1_biases.copy()\n",
        "    dense2.weights = best_dense2_weights.copy()\n",
        "    dense2.biases = best_dense2_biases.copy()\n",
        "\n"
      ],
      "metadata": {
        "colab": {
          "base_uri": "https://localhost:8080/"
        },
        "id": "ZSQTMTktzdIe",
        "outputId": "29b73339-2ed2-483b-e6ff-3f60240b2ce6"
      },
      "execution_count": 63,
      "outputs": [
        {
          "output_type": "stream",
          "name": "stdout",
          "text": [
            "New set of weights found, iteration: 7 loss: 1.095329 acc: 0.3333333333333333\n",
            "New set of weights found, iteration: 11 loss: 1.092623 acc: 0.3333333333333333\n",
            "New set of weights found, iteration: 13 loss: 1.0903664 acc: 0.3333333333333333\n",
            "New set of weights found, iteration: 16 loss: 1.0896609 acc: 0.3333333333333333\n",
            "New set of weights found, iteration: 20 loss: 1.0854774 acc: 0.3333333333333333\n",
            "New set of weights found, iteration: 21 loss: 1.0822743 acc: 0.3333333333333333\n",
            "New set of weights found, iteration: 22 loss: 1.0742204 acc: 0.3333333333333333\n",
            "New set of weights found, iteration: 23 loss: 1.0634094 acc: 0.7066666666666667\n",
            "New set of weights found, iteration: 25 loss: 1.0594777 acc: 0.66\n",
            "New set of weights found, iteration: 26 loss: 1.0585505 acc: 0.58\n",
            "New set of weights found, iteration: 27 loss: 1.0568897 acc: 0.6633333333333333\n",
            "New set of weights found, iteration: 32 loss: 1.0519141 acc: 0.86\n",
            "New set of weights found, iteration: 34 loss: 1.0499119 acc: 0.8066666666666666\n",
            "New set of weights found, iteration: 35 loss: 1.048893 acc: 0.39666666666666667\n",
            "New set of weights found, iteration: 37 loss: 1.0478908 acc: 0.89\n",
            "New set of weights found, iteration: 38 loss: 1.0387892 acc: 0.76\n",
            "New set of weights found, iteration: 39 loss: 1.033975 acc: 0.5133333333333333\n",
            "New set of weights found, iteration: 41 loss: 1.0275514 acc: 0.5766666666666667\n",
            "New set of weights found, iteration: 42 loss: 1.0166223 acc: 0.6666666666666666\n",
            "New set of weights found, iteration: 44 loss: 1.0127366 acc: 0.66\n",
            "New set of weights found, iteration: 45 loss: 1.0051205 acc: 0.6666666666666666\n",
            "New set of weights found, iteration: 46 loss: 1.0048367 acc: 0.66\n",
            "New set of weights found, iteration: 48 loss: 1.0005271 acc: 0.6666666666666666\n",
            "New set of weights found, iteration: 51 loss: 0.9961577 acc: 0.6666666666666666\n",
            "New set of weights found, iteration: 55 loss: 0.9938028 acc: 0.65\n",
            "New set of weights found, iteration: 56 loss: 0.99193805 acc: 0.6666666666666666\n",
            "New set of weights found, iteration: 58 loss: 0.9735515 acc: 0.6633333333333333\n",
            "New set of weights found, iteration: 60 loss: 0.96815234 acc: 0.6633333333333333\n",
            "New set of weights found, iteration: 61 loss: 0.96313804 acc: 0.65\n",
            "New set of weights found, iteration: 63 loss: 0.9559899 acc: 0.6466666666666666\n",
            "New set of weights found, iteration: 64 loss: 0.94425863 acc: 0.6633333333333333\n",
            "New set of weights found, iteration: 65 loss: 0.9294006 acc: 0.6666666666666666\n",
            "New set of weights found, iteration: 66 loss: 0.90476704 acc: 0.6633333333333333\n",
            "New set of weights found, iteration: 67 loss: 0.903678 acc: 0.6666666666666666\n",
            "New set of weights found, iteration: 69 loss: 0.9031551 acc: 0.6666666666666666\n",
            "New set of weights found, iteration: 71 loss: 0.89603007 acc: 0.6666666666666666\n",
            "New set of weights found, iteration: 73 loss: 0.8934951 acc: 0.6633333333333333\n",
            "New set of weights found, iteration: 74 loss: 0.86921316 acc: 0.6633333333333333\n",
            "New set of weights found, iteration: 76 loss: 0.86605674 acc: 0.6633333333333333\n",
            "New set of weights found, iteration: 85 loss: 0.85634625 acc: 0.6666666666666666\n",
            "New set of weights found, iteration: 86 loss: 0.8531365 acc: 0.6666666666666666\n",
            "New set of weights found, iteration: 87 loss: 0.84373283 acc: 0.6666666666666666\n",
            "New set of weights found, iteration: 93 loss: 0.82688403 acc: 0.6666666666666666\n",
            "New set of weights found, iteration: 98 loss: 0.826139 acc: 0.6666666666666666\n",
            "New set of weights found, iteration: 102 loss: 0.8141532 acc: 0.6666666666666666\n",
            "New set of weights found, iteration: 103 loss: 0.8047705 acc: 0.6666666666666666\n",
            "New set of weights found, iteration: 105 loss: 0.79180396 acc: 0.6766666666666666\n",
            "New set of weights found, iteration: 107 loss: 0.76927716 acc: 0.6666666666666666\n",
            "New set of weights found, iteration: 111 loss: 0.7588593 acc: 0.6833333333333333\n",
            "New set of weights found, iteration: 112 loss: 0.75455916 acc: 0.6766666666666666\n",
            "New set of weights found, iteration: 113 loss: 0.74554473 acc: 0.73\n",
            "New set of weights found, iteration: 119 loss: 0.74282 acc: 0.76\n",
            "New set of weights found, iteration: 120 loss: 0.74090016 acc: 0.79\n",
            "New set of weights found, iteration: 121 loss: 0.7350207 acc: 0.8033333333333333\n",
            "New set of weights found, iteration: 122 loss: 0.72920084 acc: 0.8533333333333334\n",
            "New set of weights found, iteration: 128 loss: 0.7115049 acc: 0.8566666666666667\n",
            "New set of weights found, iteration: 134 loss: 0.7079068 acc: 0.8\n",
            "New set of weights found, iteration: 136 loss: 0.70140463 acc: 0.82\n",
            "New set of weights found, iteration: 138 loss: 0.6975408 acc: 0.8033333333333333\n",
            "New set of weights found, iteration: 140 loss: 0.6912125 acc: 0.7933333333333333\n",
            "New set of weights found, iteration: 142 loss: 0.6842202 acc: 0.7533333333333333\n",
            "New set of weights found, iteration: 144 loss: 0.6793997 acc: 0.7733333333333333\n",
            "New set of weights found, iteration: 145 loss: 0.6736228 acc: 0.72\n",
            "New set of weights found, iteration: 146 loss: 0.668581 acc: 0.71\n",
            "New set of weights found, iteration: 150 loss: 0.6653911 acc: 0.6666666666666666\n",
            "New set of weights found, iteration: 154 loss: 0.6582702 acc: 0.67\n",
            "New set of weights found, iteration: 160 loss: 0.6479776 acc: 0.7\n",
            "New set of weights found, iteration: 165 loss: 0.6379113 acc: 0.78\n",
            "New set of weights found, iteration: 169 loss: 0.636097 acc: 0.74\n",
            "New set of weights found, iteration: 170 loss: 0.6336754 acc: 0.8033333333333333\n",
            "New set of weights found, iteration: 173 loss: 0.61652845 acc: 0.84\n",
            "New set of weights found, iteration: 176 loss: 0.61464953 acc: 0.8266666666666667\n",
            "New set of weights found, iteration: 179 loss: 0.59930336 acc: 0.8433333333333334\n",
            "New set of weights found, iteration: 180 loss: 0.58907026 acc: 0.8466666666666667\n",
            "New set of weights found, iteration: 181 loss: 0.58720183 acc: 0.79\n",
            "New set of weights found, iteration: 182 loss: 0.57263017 acc: 0.7933333333333333\n",
            "New set of weights found, iteration: 193 loss: 0.5622456 acc: 0.8866666666666667\n",
            "New set of weights found, iteration: 197 loss: 0.5542039 acc: 0.9033333333333333\n",
            "New set of weights found, iteration: 198 loss: 0.5476169 acc: 0.86\n",
            "New set of weights found, iteration: 200 loss: 0.5403766 acc: 0.87\n",
            "New set of weights found, iteration: 210 loss: 0.5374591 acc: 0.8233333333333334\n",
            "New set of weights found, iteration: 212 loss: 0.5367773 acc: 0.82\n",
            "New set of weights found, iteration: 213 loss: 0.5357296 acc: 0.8033333333333333\n",
            "New set of weights found, iteration: 218 loss: 0.5213011 acc: 0.8133333333333334\n",
            "New set of weights found, iteration: 220 loss: 0.51305634 acc: 0.8533333333333334\n",
            "New set of weights found, iteration: 221 loss: 0.5041925 acc: 0.89\n",
            "New set of weights found, iteration: 226 loss: 0.5001835 acc: 0.8733333333333333\n",
            "New set of weights found, iteration: 227 loss: 0.49276936 acc: 0.9\n",
            "New set of weights found, iteration: 228 loss: 0.49130067 acc: 0.8966666666666666\n",
            "New set of weights found, iteration: 229 loss: 0.48970062 acc: 0.9033333333333333\n",
            "New set of weights found, iteration: 230 loss: 0.48076874 acc: 0.9133333333333333\n",
            "New set of weights found, iteration: 232 loss: 0.47603068 acc: 0.91\n",
            "New set of weights found, iteration: 234 loss: 0.47198445 acc: 0.9166666666666666\n",
            "New set of weights found, iteration: 235 loss: 0.46642268 acc: 0.9166666666666666\n",
            "New set of weights found, iteration: 242 loss: 0.4624047 acc: 0.9133333333333333\n",
            "New set of weights found, iteration: 245 loss: 0.46166798 acc: 0.9233333333333333\n",
            "New set of weights found, iteration: 246 loss: 0.45811385 acc: 0.91\n",
            "New set of weights found, iteration: 247 loss: 0.45171773 acc: 0.9133333333333333\n",
            "New set of weights found, iteration: 248 loss: 0.4416687 acc: 0.91\n",
            "New set of weights found, iteration: 253 loss: 0.43922293 acc: 0.92\n",
            "New set of weights found, iteration: 257 loss: 0.43914363 acc: 0.9066666666666666\n",
            "New set of weights found, iteration: 258 loss: 0.43859762 acc: 0.9133333333333333\n",
            "New set of weights found, iteration: 274 loss: 0.43819377 acc: 0.9066666666666666\n",
            "New set of weights found, iteration: 275 loss: 0.43474233 acc: 0.89\n",
            "New set of weights found, iteration: 276 loss: 0.4311794 acc: 0.9166666666666666\n",
            "New set of weights found, iteration: 282 loss: 0.42249608 acc: 0.91\n",
            "New set of weights found, iteration: 284 loss: 0.41476464 acc: 0.9133333333333333\n",
            "New set of weights found, iteration: 285 loss: 0.4139412 acc: 0.91\n",
            "New set of weights found, iteration: 286 loss: 0.407197 acc: 0.9133333333333333\n",
            "New set of weights found, iteration: 296 loss: 0.40422618 acc: 0.9166666666666666\n",
            "New set of weights found, iteration: 298 loss: 0.40132216 acc: 0.9133333333333333\n",
            "New set of weights found, iteration: 300 loss: 0.3952042 acc: 0.9166666666666666\n",
            "New set of weights found, iteration: 301 loss: 0.3922762 acc: 0.92\n",
            "New set of weights found, iteration: 304 loss: 0.3891356 acc: 0.9133333333333333\n",
            "New set of weights found, iteration: 305 loss: 0.38548115 acc: 0.9133333333333333\n",
            "New set of weights found, iteration: 308 loss: 0.3777504 acc: 0.9166666666666666\n",
            "New set of weights found, iteration: 312 loss: 0.3698693 acc: 0.9133333333333333\n",
            "New set of weights found, iteration: 313 loss: 0.36972752 acc: 0.9266666666666666\n",
            "New set of weights found, iteration: 317 loss: 0.3566741 acc: 0.9233333333333333\n",
            "New set of weights found, iteration: 318 loss: 0.35267022 acc: 0.9266666666666666\n",
            "New set of weights found, iteration: 319 loss: 0.35099584 acc: 0.9233333333333333\n",
            "New set of weights found, iteration: 320 loss: 0.34632218 acc: 0.9166666666666666\n",
            "New set of weights found, iteration: 321 loss: 0.34333348 acc: 0.9166666666666666\n",
            "New set of weights found, iteration: 324 loss: 0.34072122 acc: 0.91\n",
            "New set of weights found, iteration: 328 loss: 0.3396845 acc: 0.9166666666666666\n",
            "New set of weights found, iteration: 340 loss: 0.3310985 acc: 0.9133333333333333\n",
            "New set of weights found, iteration: 342 loss: 0.32795823 acc: 0.9166666666666666\n",
            "New set of weights found, iteration: 343 loss: 0.32494426 acc: 0.9266666666666666\n",
            "New set of weights found, iteration: 347 loss: 0.32139197 acc: 0.9166666666666666\n",
            "New set of weights found, iteration: 349 loss: 0.3179974 acc: 0.9166666666666666\n",
            "New set of weights found, iteration: 351 loss: 0.30890843 acc: 0.9266666666666666\n",
            "New set of weights found, iteration: 352 loss: 0.30361196 acc: 0.92\n",
            "New set of weights found, iteration: 354 loss: 0.29998916 acc: 0.92\n",
            "New set of weights found, iteration: 355 loss: 0.2962954 acc: 0.9133333333333333\n",
            "New set of weights found, iteration: 356 loss: 0.2958129 acc: 0.9166666666666666\n",
            "New set of weights found, iteration: 358 loss: 0.29575968 acc: 0.91\n",
            "New set of weights found, iteration: 360 loss: 0.2941701 acc: 0.9233333333333333\n",
            "New set of weights found, iteration: 369 loss: 0.29106665 acc: 0.9133333333333333\n",
            "New set of weights found, iteration: 372 loss: 0.29033738 acc: 0.9166666666666666\n",
            "New set of weights found, iteration: 377 loss: 0.2888033 acc: 0.9133333333333333\n",
            "New set of weights found, iteration: 379 loss: 0.28773767 acc: 0.9166666666666666\n",
            "New set of weights found, iteration: 380 loss: 0.28611633 acc: 0.91\n",
            "New set of weights found, iteration: 382 loss: 0.28573278 acc: 0.9133333333333333\n",
            "New set of weights found, iteration: 384 loss: 0.28332347 acc: 0.9233333333333333\n",
            "New set of weights found, iteration: 394 loss: 0.2810567 acc: 0.9266666666666666\n",
            "New set of weights found, iteration: 399 loss: 0.27687725 acc: 0.9233333333333333\n",
            "New set of weights found, iteration: 401 loss: 0.27503473 acc: 0.9266666666666666\n",
            "New set of weights found, iteration: 404 loss: 0.27126357 acc: 0.9233333333333333\n",
            "New set of weights found, iteration: 417 loss: 0.268522 acc: 0.9233333333333333\n",
            "New set of weights found, iteration: 420 loss: 0.26840597 acc: 0.9266666666666666\n",
            "New set of weights found, iteration: 421 loss: 0.26254228 acc: 0.9233333333333333\n",
            "New set of weights found, iteration: 425 loss: 0.2579003 acc: 0.9266666666666666\n",
            "New set of weights found, iteration: 435 loss: 0.2536332 acc: 0.9266666666666666\n",
            "New set of weights found, iteration: 442 loss: 0.252184 acc: 0.9266666666666666\n",
            "New set of weights found, iteration: 443 loss: 0.24995011 acc: 0.9166666666666666\n",
            "New set of weights found, iteration: 448 loss: 0.2480653 acc: 0.93\n",
            "New set of weights found, iteration: 450 loss: 0.2475939 acc: 0.93\n",
            "New set of weights found, iteration: 453 loss: 0.2474503 acc: 0.9166666666666666\n",
            "New set of weights found, iteration: 456 loss: 0.24632227 acc: 0.9133333333333333\n",
            "New set of weights found, iteration: 458 loss: 0.24534643 acc: 0.9266666666666666\n",
            "New set of weights found, iteration: 465 loss: 0.2406373 acc: 0.9266666666666666\n",
            "New set of weights found, iteration: 467 loss: 0.24050054 acc: 0.9266666666666666\n",
            "New set of weights found, iteration: 475 loss: 0.2377573 acc: 0.9233333333333333\n",
            "New set of weights found, iteration: 482 loss: 0.2371746 acc: 0.92\n",
            "New set of weights found, iteration: 483 loss: 0.23670031 acc: 0.9266666666666666\n",
            "New set of weights found, iteration: 485 loss: 0.23562734 acc: 0.9266666666666666\n",
            "New set of weights found, iteration: 488 loss: 0.23274122 acc: 0.9133333333333333\n",
            "New set of weights found, iteration: 489 loss: 0.23247704 acc: 0.91\n",
            "New set of weights found, iteration: 491 loss: 0.22950374 acc: 0.9133333333333333\n",
            "New set of weights found, iteration: 499 loss: 0.22596763 acc: 0.9233333333333333\n",
            "New set of weights found, iteration: 504 loss: 0.22497259 acc: 0.92\n",
            "New set of weights found, iteration: 511 loss: 0.22149237 acc: 0.9233333333333333\n",
            "New set of weights found, iteration: 520 loss: 0.21763255 acc: 0.92\n",
            "New set of weights found, iteration: 521 loss: 0.21754913 acc: 0.9233333333333333\n",
            "New set of weights found, iteration: 534 loss: 0.21671118 acc: 0.92\n",
            "New set of weights found, iteration: 548 loss: 0.2162737 acc: 0.9233333333333333\n",
            "New set of weights found, iteration: 549 loss: 0.2138679 acc: 0.92\n",
            "New set of weights found, iteration: 563 loss: 0.21358101 acc: 0.9233333333333333\n",
            "New set of weights found, iteration: 569 loss: 0.21338539 acc: 0.9233333333333333\n",
            "New set of weights found, iteration: 577 loss: 0.21318944 acc: 0.9166666666666666\n",
            "New set of weights found, iteration: 583 loss: 0.21208821 acc: 0.9166666666666666\n",
            "New set of weights found, iteration: 586 loss: 0.20972605 acc: 0.92\n",
            "New set of weights found, iteration: 589 loss: 0.20931828 acc: 0.91\n",
            "New set of weights found, iteration: 596 loss: 0.20723595 acc: 0.92\n",
            "New set of weights found, iteration: 601 loss: 0.20565584 acc: 0.93\n",
            "New set of weights found, iteration: 604 loss: 0.20479615 acc: 0.9266666666666666\n",
            "New set of weights found, iteration: 611 loss: 0.2042027 acc: 0.9133333333333333\n",
            "New set of weights found, iteration: 613 loss: 0.199364 acc: 0.9233333333333333\n",
            "New set of weights found, iteration: 615 loss: 0.19781579 acc: 0.9266666666666666\n",
            "New set of weights found, iteration: 621 loss: 0.1974066 acc: 0.9266666666666666\n",
            "New set of weights found, iteration: 623 loss: 0.19664581 acc: 0.9266666666666666\n",
            "New set of weights found, iteration: 626 loss: 0.19613443 acc: 0.9233333333333333\n",
            "New set of weights found, iteration: 644 loss: 0.19513443 acc: 0.9233333333333333\n",
            "New set of weights found, iteration: 651 loss: 0.19365484 acc: 0.93\n",
            "New set of weights found, iteration: 657 loss: 0.192913 acc: 0.93\n",
            "New set of weights found, iteration: 659 loss: 0.19071577 acc: 0.9266666666666666\n",
            "New set of weights found, iteration: 666 loss: 0.18894841 acc: 0.9233333333333333\n",
            "New set of weights found, iteration: 667 loss: 0.18815885 acc: 0.9266666666666666\n",
            "New set of weights found, iteration: 678 loss: 0.18813293 acc: 0.9266666666666666\n",
            "New set of weights found, iteration: 681 loss: 0.18684365 acc: 0.9233333333333333\n",
            "New set of weights found, iteration: 685 loss: 0.18543582 acc: 0.9266666666666666\n",
            "New set of weights found, iteration: 687 loss: 0.18505672 acc: 0.9233333333333333\n",
            "New set of weights found, iteration: 691 loss: 0.18450622 acc: 0.9233333333333333\n",
            "New set of weights found, iteration: 695 loss: 0.18400717 acc: 0.9233333333333333\n",
            "New set of weights found, iteration: 696 loss: 0.18347467 acc: 0.9233333333333333\n",
            "New set of weights found, iteration: 712 loss: 0.1828139 acc: 0.9233333333333333\n",
            "New set of weights found, iteration: 718 loss: 0.18250915 acc: 0.92\n",
            "New set of weights found, iteration: 720 loss: 0.18226291 acc: 0.92\n",
            "New set of weights found, iteration: 729 loss: 0.18190633 acc: 0.9166666666666666\n",
            "New set of weights found, iteration: 732 loss: 0.18145375 acc: 0.92\n",
            "New set of weights found, iteration: 742 loss: 0.18049978 acc: 0.9233333333333333\n",
            "New set of weights found, iteration: 759 loss: 0.17997052 acc: 0.9233333333333333\n",
            "New set of weights found, iteration: 782 loss: 0.17937899 acc: 0.9233333333333333\n",
            "New set of weights found, iteration: 784 loss: 0.17935742 acc: 0.92\n",
            "New set of weights found, iteration: 785 loss: 0.178914 acc: 0.9233333333333333\n",
            "New set of weights found, iteration: 798 loss: 0.17873022 acc: 0.9233333333333333\n",
            "New set of weights found, iteration: 820 loss: 0.17806086 acc: 0.92\n",
            "New set of weights found, iteration: 824 loss: 0.17792508 acc: 0.9266666666666666\n",
            "New set of weights found, iteration: 826 loss: 0.17769861 acc: 0.9266666666666666\n",
            "New set of weights found, iteration: 829 loss: 0.1776707 acc: 0.92\n",
            "New set of weights found, iteration: 847 loss: 0.17725283 acc: 0.9266666666666666\n",
            "New set of weights found, iteration: 850 loss: 0.17705993 acc: 0.9233333333333333\n",
            "New set of weights found, iteration: 865 loss: 0.17667346 acc: 0.9266666666666666\n",
            "New set of weights found, iteration: 880 loss: 0.17645901 acc: 0.9233333333333333\n",
            "New set of weights found, iteration: 907 loss: 0.17636603 acc: 0.9266666666666666\n",
            "New set of weights found, iteration: 911 loss: 0.17610162 acc: 0.9233333333333333\n",
            "New set of weights found, iteration: 923 loss: 0.17583488 acc: 0.9233333333333333\n",
            "New set of weights found, iteration: 942 loss: 0.17578815 acc: 0.9266666666666666\n",
            "New set of weights found, iteration: 949 loss: 0.17577703 acc: 0.9266666666666666\n",
            "New set of weights found, iteration: 957 loss: 0.17570244 acc: 0.9266666666666666\n",
            "New set of weights found, iteration: 965 loss: 0.1756033 acc: 0.9266666666666666\n",
            "New set of weights found, iteration: 986 loss: 0.1755939 acc: 0.9266666666666666\n",
            "New set of weights found, iteration: 997 loss: 0.17543155 acc: 0.9266666666666666\n",
            "New set of weights found, iteration: 1016 loss: 0.17536992 acc: 0.9266666666666666\n",
            "New set of weights found, iteration: 1043 loss: 0.17516427 acc: 0.9266666666666666\n",
            "New set of weights found, iteration: 1109 loss: 0.17507991 acc: 0.9233333333333333\n",
            "New set of weights found, iteration: 1145 loss: 0.17498665 acc: 0.9266666666666666\n",
            "New set of weights found, iteration: 1174 loss: 0.17496635 acc: 0.9266666666666666\n",
            "New set of weights found, iteration: 1178 loss: 0.1748323 acc: 0.9266666666666666\n",
            "New set of weights found, iteration: 1187 loss: 0.17477085 acc: 0.9266666666666666\n",
            "New set of weights found, iteration: 1200 loss: 0.17473191 acc: 0.9266666666666666\n",
            "New set of weights found, iteration: 1269 loss: 0.1747194 acc: 0.9266666666666666\n",
            "New set of weights found, iteration: 1290 loss: 0.17464764 acc: 0.9266666666666666\n",
            "New set of weights found, iteration: 1315 loss: 0.17462717 acc: 0.9266666666666666\n",
            "New set of weights found, iteration: 1343 loss: 0.17458357 acc: 0.9266666666666666\n",
            "New set of weights found, iteration: 1350 loss: 0.1745625 acc: 0.93\n",
            "New set of weights found, iteration: 1439 loss: 0.17446157 acc: 0.9233333333333333\n",
            "New set of weights found, iteration: 1451 loss: 0.17432642 acc: 0.9233333333333333\n",
            "New set of weights found, iteration: 1463 loss: 0.17429161 acc: 0.9266666666666666\n",
            "New set of weights found, iteration: 1470 loss: 0.174234 acc: 0.9266666666666666\n",
            "New set of weights found, iteration: 1520 loss: 0.17419009 acc: 0.9266666666666666\n",
            "New set of weights found, iteration: 1685 loss: 0.17412308 acc: 0.9266666666666666\n",
            "New set of weights found, iteration: 1706 loss: 0.17408358 acc: 0.9266666666666666\n",
            "New set of weights found, iteration: 1726 loss: 0.17392418 acc: 0.9266666666666666\n",
            "New set of weights found, iteration: 1741 loss: 0.1739088 acc: 0.9233333333333333\n",
            "New set of weights found, iteration: 1751 loss: 0.17379524 acc: 0.9266666666666666\n",
            "New set of weights found, iteration: 1759 loss: 0.17376341 acc: 0.9266666666666666\n",
            "New set of weights found, iteration: 1763 loss: 0.17367543 acc: 0.9266666666666666\n",
            "New set of weights found, iteration: 1812 loss: 0.17365377 acc: 0.9266666666666666\n",
            "New set of weights found, iteration: 1868 loss: 0.17355742 acc: 0.9266666666666666\n",
            "New set of weights found, iteration: 1969 loss: 0.17352417 acc: 0.93\n",
            "New set of weights found, iteration: 1976 loss: 0.1734291 acc: 0.9266666666666666\n",
            "New set of weights found, iteration: 1990 loss: 0.17338829 acc: 0.9266666666666666\n",
            "New set of weights found, iteration: 2191 loss: 0.17338115 acc: 0.9266666666666666\n",
            "New set of weights found, iteration: 2251 loss: 0.17336006 acc: 0.9333333333333333\n",
            "New set of weights found, iteration: 2406 loss: 0.17324904 acc: 0.9266666666666666\n",
            "New set of weights found, iteration: 2586 loss: 0.17317557 acc: 0.93\n",
            "New set of weights found, iteration: 2704 loss: 0.17315343 acc: 0.9333333333333333\n",
            "New set of weights found, iteration: 2871 loss: 0.17312604 acc: 0.93\n",
            "New set of weights found, iteration: 2913 loss: 0.17307508 acc: 0.93\n",
            "New set of weights found, iteration: 3070 loss: 0.17302726 acc: 0.93\n",
            "New set of weights found, iteration: 3278 loss: 0.17299192 acc: 0.93\n",
            "New set of weights found, iteration: 3714 loss: 0.17298841 acc: 0.9366666666666666\n",
            "New set of weights found, iteration: 3757 loss: 0.17290969 acc: 0.9333333333333333\n",
            "New set of weights found, iteration: 4101 loss: 0.17288172 acc: 0.9333333333333333\n",
            "New set of weights found, iteration: 4805 loss: 0.1728429 acc: 0.9333333333333333\n",
            "New set of weights found, iteration: 5754 loss: 0.17284198 acc: 0.93\n",
            "New set of weights found, iteration: 5903 loss: 0.17283851 acc: 0.9366666666666666\n",
            "New set of weights found, iteration: 6513 loss: 0.17283756 acc: 0.9366666666666666\n",
            "New set of weights found, iteration: 7559 loss: 0.17282625 acc: 0.9333333333333333\n"
          ]
        }
      ]
    },
    {
      "cell_type": "code",
      "source": [
        "predictions= np.argmax(activation2.output, axis=1)\n",
        "predictions[:6]"
      ],
      "metadata": {
        "id": "dnduoUoz0dO3"
      },
      "execution_count": null,
      "outputs": []
    },
    {
      "cell_type": "code",
      "source": [
        "predictions = np.argmax(activation2.output, axis=1)\n",
        "if len(y.shape) == 2:\n",
        " y = np.argmax(y, axis=1)\n",
        "accuracy = np.mean(predictions==y)\n",
        "# Print accuracy\n",
        "print('acc:', accuracy)"
      ],
      "metadata": {
        "colab": {
          "base_uri": "https://localhost:8080/"
        },
        "id": "QozjWq_Z0rNe",
        "outputId": "8437cb48-31db-4d4f-9dec-459fb90669af"
      },
      "execution_count": 64,
      "outputs": [
        {
          "output_type": "stream",
          "name": "stdout",
          "text": [
            "acc: 0.9266666666666666\n"
          ]
        }
      ]
    },
    {
      "cell_type": "code",
      "source": [
        "print(y[:10])\n",
        "print(predictions[:10])"
      ],
      "metadata": {
        "colab": {
          "base_uri": "https://localhost:8080/"
        },
        "id": "CsG9B6iI1D9H",
        "outputId": "54f09f96-7b91-4750-e944-5197b04806f5"
      },
      "execution_count": 66,
      "outputs": [
        {
          "output_type": "stream",
          "name": "stdout",
          "text": [
            "[0 0 0 0 0 0 0 0 0 0]\n",
            "[0 0 0 1 1 0 0 0 0 0]\n"
          ]
        }
      ]
    },
    {
      "cell_type": "code",
      "source": [
        "plt.scatter(X[:, 0], X[:, 1], c=y, s=40, cmap='brg')\n",
        "plt.show()\n",
        "plt.scatter(X[:, 0], X[:, 1], c=predictions, s=40, cmap='brg')\n",
        "plt.show()"
      ],
      "metadata": {
        "colab": {
          "base_uri": "https://localhost:8080/",
          "height": 843
        },
        "id": "r75a-ZPI1bUU",
        "outputId": "6ea696fe-75b9-4fbc-b727-eafb966cb476"
      },
      "execution_count": 67,
      "outputs": [
        {
          "output_type": "display_data",
          "data": {
            "text/plain": [
              "<Figure size 640x480 with 1 Axes>"
            ],
            "image/png": "[encoded data removed]"
          },
          "metadata": {}
        },
        {
          "output_type": "display_data",
          "data": {
            "text/plain": [
              "<Figure size 640x480 with 1 Axes>"
            ],
            "image/png": "[encoded data removed]"
          },
          "metadata": {}
        }
      ]
    }
  ]
}